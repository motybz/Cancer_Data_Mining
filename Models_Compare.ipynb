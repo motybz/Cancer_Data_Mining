{
 "cells": [
  {
   "cell_type": "code",
   "execution_count": 1,
   "metadata": {},
   "outputs": [],
   "source": [
    "import os ,yaml\n",
    "from operator import itemgetter\n",
    "from tools.import_data import *\n",
    "import matplotlib.pyplot as plt\n",
    "from IPython.display import Markdown, display\n",
    "def printmd(string):\n",
    "    display(Markdown(string))"
   ]
  },
  {
   "cell_type": "code",
   "execution_count": 2,
   "metadata": {},
   "outputs": [],
   "source": [
    "from sklearn import model_selection\n",
    "from sklearn import preprocessing\n",
    "from sklearn.metrics import classification_report\n",
    "from sklearn.metrics import confusion_matrix\n",
    "from sklearn.metrics import accuracy_score\n",
    "from sklearn.metrics import roc_auc_score\n",
    "from sklearn.linear_model import LogisticRegression\n",
    "from sklearn.tree import DecisionTreeClassifier\n",
    "from sklearn.neighbors import KNeighborsClassifier\n",
    "from sklearn.discriminant_analysis import LinearDiscriminantAnalysis\n",
    "from sklearn.naive_bayes import GaussianNB\n",
    "from sklearn.svm import SVC\n",
    "from sklearn import feature_selection as fs"
   ]
  },
  {
   "cell_type": "code",
   "execution_count": 3,
   "metadata": {},
   "outputs": [],
   "source": [
    "#Classes\n",
    "class DataSet:\n",
    "    def __init__(self,X,Y,feature_list,threshold=None,ratio=None):\n",
    "        self.X = X\n",
    "        self.Y = Y\n",
    "        self.feature_list = feature_list\n",
    "        self.threshold = threshold\n",
    "        self.ratio = ratio\n",
    "\n",
    "class SkFModel:\n",
    "    def __init__(self,name,model):\n",
    "        self.name=name\n",
    "        self.model=model\n",
    "        self.fited_model = None\n",
    "    def fit_the_model(self):\n",
    "        self.fited_model = train_the_model(X_train,Y_train,self.model)    \n",
    "class TrainedModel:\n",
    "    def __init__(self,train_set=DataSet,test_set=DataSet,model=SkFModel,train_score=float):\n",
    "        self.train_set =train_set\n",
    "        self.test_set = test_set\n",
    "        self.chosen_model = model\n",
    "        self.train_score = train_score\n",
    "        self.test_score = None\n",
    "    def test_the_model(self):\n",
    "        test_the_data(self.train_set.X,self.train_set.Y,self.test_set.X,self.test_set.y,self.chosen_model)\n",
    "    def set_chosen_model(self,name,fited_model):\n",
    "        self.chosen_model=SkFModel(name,fited_model)\n",
    "    "
   ]
  },
  {
   "cell_type": "code",
   "execution_count": null,
   "metadata": {},
   "outputs": [],
   "source": [
    "def pre_processing(X_set,Y_set):\n",
    "    # Data pre processing\n",
    "    # Encoding Categorial features and imputing NaN's\n",
    "    # https://chrisalbon.com/machine_learning/preprocessing_structured_data/convert_pandas_categorical_column_into_integers_for_scikit-learn/\n",
    "    # http://pbpython.com/categorical-encoding.html\n",
    "    # https://datascience.stackexchange.com/questions/14069/mass-convert-categorical-columns-in-pandas-not-one-hot-encoding\n",
    "    char_cols = X_set.dtypes.pipe(lambda x: x[x == 'object']).index\n",
    "    if not char_cols.empty:\n",
    "        label_mapping = {}\n",
    "        for c in char_cols:\n",
    "            original_X_set = X_set.copy()\n",
    "            X_set[c], label_mapping[c] = pd.factorize(X_set[c])\n",
    "    imp = preprocessing.Imputer(axis=0, verbose=1)\n",
    "    imp = imp.fit(X_set)\n",
    "    X_set = imp.transform(X_set)\n",
    "    \n",
    "    lb = preprocessing.LabelBinarizer()\n",
    "    Y_set = lb.fit_transform(Y_set).ravel()\n",
    "    \n",
    "    print ('Pre processing results: X_set-{} Y_set-{}'.format(X_set.shape,Y_set.shape))\n",
    "    return X_set,Y_set\n",
    "\n",
    "def get_models_CV_scores(X_train,Y_train,models):\n",
    "    # Spot Check Algorithms with cross validation\n",
    "    # evaluate each model in turn\n",
    "    #TODO add the option to more score method\n",
    "    scores = []\n",
    "    names = []\n",
    "    results = []\n",
    "    for name, model in models:\n",
    "        kfold = model_selection.StratifiedKFold(n_splits=10,shuffle=True)\n",
    "        try:\n",
    "            cv_results = model_selection.cross_val_score(model, X_train, Y_train, cv=kfold,n_jobs=-1, scoring=SCORING )\n",
    "            # cv_results = model_selection.GridSearchCV(model,scoring=SCORING)\n",
    "            # cv_results.fit(X_train, Y_train)\n",
    "        except ValueError as e:\n",
    "            print('ValueError{}'.format(None))\n",
    "        else:\n",
    "            scores.append(cv_results)\n",
    "            names.append(name)\n",
    "            results.append({\"model\":SkFModel(name,model),\"score\":cv_results.mean()})\n",
    "    # Compare Algorithms\n",
    "    fig = plt.figure()\n",
    "    fig.suptitle('Algorithm Comparison')\n",
    "    ax = fig.add_subplot(111)\n",
    "    plt.boxplot(scores)\n",
    "    ax.set_xticklabels(names)\n",
    "    plt.show()\n",
    "    return results\n",
    "       \n",
    "def test_the_data(X_test,Y_test,fited_model):\n",
    "    # Make predictions on test dataset\n",
    "    # results = []\n",
    "    # for name, model in models:\n",
    "    #     model.fit(X_train, Y_train)\n",
    "    #     predictions = model.predict(X_test)\n",
    "    #     results.append({\"model\":(name,model),\"score\":roc_auc_score(Y_test, predictions)})\n",
    "    # return results \n",
    "    predictions = model.predict(X_test)\n",
    "    # TODO dynamic score\n",
    "    score = roc_auc_score(Y_test, predictions)\n",
    "    return score\n",
    "    \n",
    "\n",
    "def get_the_best(results): # input - list of dict {\"name\":name,\"score\":score}\n",
    "    m = max([k[\"score\"] for k in results])\n",
    "    i = [k[\"score\"] for k in results].index(m)\n",
    "    model = results[i][\"model\"]\n",
    "    printmd('The best model for the given data is: <span style=\"color:green\">' + str(model.name).format() + '</span> with the score <span style=\"color:green\">' + str(m) + '</span>' )\n",
    "    # print ('The best model for the given train (' + X_train.shape +') is: ' + name + 'with the score ' +m )\n",
    "    return results[i] # the max model (dict type)\n"
   ]
  },
  {
   "cell_type": "code",
   "execution_count": null,
   "metadata": {},
   "outputs": [],
   "source": [
    "def train_the_model(X_train,Y_train,non_fited_model=SkFModel):\n",
    "    clf = non_fited_model.model\n",
    "    clf.fit(X_train,Y_train)\n",
    "    return clf"
   ]
  },
  {
   "cell_type": "code",
   "execution_count": 10,
   "metadata": {
    "collapsed": true
   },
   "outputs": [
    {
     "name": "stdout",
     "output_type": "stream",
     "text": [
      "Train data shape:  (776, 20)\nTrain labels shape:  (776,)\nPre processing results: X_set-(776, 20) Y_set-(776,)\nTest data shape:  (398, 20)\nTest labels shape:  (398,)\nPre processing results: X_set-(398, 20) Y_set-(398,)\n"
     ]
    }
   ],
   "source": [
    "#consts\n",
    "FILE_PATH = os.path.dirname(os.path.abspath(\"__file__\"))\n",
    "CONFIG_FILE = os.path.join(FILE_PATH,'config.yml')\n",
    "config = yaml.load(open(CONFIG_FILE,'r'))\n",
    "TRAIN_FILE = config['files']['train_set']\n",
    "TEST_FILE = config['files']['test_set']\n",
    "SCORING = config['score']\n",
    "\n",
    "models = []\n",
    "    \n",
    "models.append(('LR', LogisticRegression()))\n",
    "models.append(('LDA', LinearDiscriminantAnalysis()))\n",
    "models.append(('KNN', KNeighborsClassifier()))\n",
    "models.append(('CART', DecisionTreeClassifier()))\n",
    "models.append(('NB', GaussianNB()))\n",
    "models.append(('SVM', SVC()))\n",
    "\n",
    "if __name__ == \"__main__\":\n",
    "    data_sets = []\n",
    "    X_train, Y_train , original_headers_train = load_dataset(TRAIN_FILE) \n",
    "    data_sets.append({'X_train':X_train,'Y_train':Y_train,'original_headers_train':original_headers_train})\n",
    "    print ('Train data shape: ', X_train.shape)\n",
    "    print ('Train labels shape: ', Y_train.shape)\n",
    "    X_train, Y_train = pre_processing(X_train,Y_train)   \n",
    "    if TEST_FILE:\n",
    "        X_test, Y_test ,original_headers_test = load_dataset(TEST_FILE)\n",
    "        data_sets.append({'X_test':X_test,'Y_test':Y_test,'original_headers_test':original_headers_test})\n",
    "        print ('Test data shape: ', X_test.shape)\n",
    "        print ('Test labels shape: ', Y_test.shape)\n",
    "        X_test, Y_test = pre_processing(X_test,Y_test)"
   ]
  },
  {
   "cell_type": "code",
   "execution_count": 11,
   "metadata": {
    "collapsed": true
   },
   "outputs": [
    {
     "name": "stdout",
     "output_type": "stream",
     "text": [
      "{'feature_name': 'SYM_YRS_SINCE_ACID_TASTE_START', 'score': 0.1175981777659254}\n{'feature_name': 'SYM_TAKING_STOMACH_MEDS', 'score': 0.093604806044917943}\n{'feature_name': 'WAIST_CIRCUMFERENCE', 'score': 0.079013257902759371}\n{'feature_name': 'SYM_BURNING_CHEST', 'score': 0.071680829087304998}\n{'feature_name': 'SEX', 'score': 0.058924978850094512}\n{'feature_name': 'WEIGHT', 'score': 0.050121061965223035}\n{'feature_name': 'HEIGHT', 'score': 0.049136403357215253}\n{'feature_name': 'SYM_CHEST_PAIN', 'score': 0.043858990989350088}\n{'feature_name': 'AGE', 'score': 0.043128601883137385}\n{'feature_name': 'SYM_SLEEP_DISRUPTED', 'score': 0.040040968072797778}\n{'feature_name': 'SYM_ACID_TASTE', 'score': 0.027389809888955563}\n{'feature_name': 'PREFERRED_DRINK', 'score': 0.017234821226970842}\n{'feature_name': 'ALC_UNITS_PER_WEEK_AGED_30', 'score': 0.014772148457963041}\n{'feature_name': 'EDUCATION_LEVEL', 'score': 0.010837689699365161}\n{'feature_name': 'SMK_AGE_SMOKING_STOPPED', 'score': 0.0098706772311001334}\n{'feature_name': 'SMK_EVER_SMOKED', 'score': 0.0090890112530901401}\n{'feature_name': 'SYM_SORE_THROAT', 'score': 0.0037271987444504884}\n{'feature_name': 'SMK_AGE_STARTED', 'score': 0.0}\n{'feature_name': 'ALC_UNITS_PER_WEEK', 'score': 0.0}\n{'feature_name': 'ALC_DRINK_HEAVILY', 'score': 0.0}\n"
     ]
    }
   ],
   "source": [
    "    #create feature score list\n",
    "    fs_scores = fs.mutual_info_classif(X_train,Y_train)\n",
    "    feature_scores_list = []\n",
    "    for i,score in enumerate(fs_scores):\n",
    "        feature_scores_list.append({'feature_name':original_headers_train[i],'score':score})\n",
    "    feature_scores_list.sort(key=itemgetter('score'),reverse=True)\n",
    "    for feature in feature_scores_list:\n",
    "        print (feature)"
   ]
  },
  {
   "cell_type": "code",
   "execution_count": 18,
   "metadata": {
    "collapsed": true
   },
   "outputs": [
    {
     "ename": "TypeError",
     "evalue": "__init__() takes 4 positional arguments but 6 were given",
     "traceback": [
      "\u001b[0;31m---------------------------------------------------------------------------\u001b[0m",
      "\u001b[0;31mTypeError\u001b[0m                                 Traceback (most recent call last)",
      "\u001b[0;32m<ipython-input-18-74a98d90d496>\u001b[0m in \u001b[0;36m<module>\u001b[0;34m()\u001b[0m\n\u001b[1;32m     36\u001b[0m                                       \u001b[0mnew_features\u001b[0m\u001b[0;34m,\u001b[0m\u001b[0;34m\u001b[0m\u001b[0m\n\u001b[1;32m     37\u001b[0m                                       \u001b[0mVTHRESH\u001b[0m\u001b[0;34m,\u001b[0m\u001b[0;34m\u001b[0m\u001b[0m\n\u001b[0;32m---> 38\u001b[0;31m                                       \u001b[0mX_train_mod\u001b[0m\u001b[0;34m.\u001b[0m\u001b[0mshape\u001b[0m\u001b[0;34m[\u001b[0m\u001b[0;34m-\u001b[0m\u001b[0;36m1\u001b[0m\u001b[0;34m]\u001b[0m\u001b[0;34m/\u001b[0m\u001b[0mX_train\u001b[0m\u001b[0;34m.\u001b[0m\u001b[0mshape\u001b[0m\u001b[0;34m[\u001b[0m\u001b[0;34m-\u001b[0m\u001b[0;36m1\u001b[0m\u001b[0;34m]\u001b[0m\u001b[0;34m,\u001b[0m\u001b[0;34m\u001b[0m\u001b[0m\n\u001b[0m\u001b[1;32m     39\u001b[0m                                       )\n\u001b[1;32m     40\u001b[0m                               )\n",
      "\u001b[0;31mTypeError\u001b[0m: __init__() takes 4 positional arguments but 6 were given"
     ],
     "output_type": "error"
    }
   ],
   "source": [
    "    #carate new \n",
    "    new_trains = []\n",
    "    myrange = np.arange(0.01, 1, 0.01)\n",
    "    for VTHRESH in myrange:  \n",
    "        sel = fs.SelectPercentile(score_func=fs.mutual_info_classif,percentile=VTHRESH*100)\n",
    "        X_train_mod = sel.fit_transform(X_train,Y_train)\n",
    "        \n",
    "        if len(new_trains) >= 1:\n",
    "            if new_trains[-1]['ratio']!= X_train_mod.shape[-1]/X_train.shape[-1]:\n",
    "                # TODO the same on the test set\n",
    "                # new_range.append(VTHRESH)\n",
    "                # new_trains.append(X_train_mod)\n",
    "                # new_shapes_ratio.append(X_train_mod.shape[-1]/X_train.shape[-1])\n",
    "                mask = sel.get_support() #list of booleans\n",
    "                new_features = [] # The list of your K best features    \n",
    "                for bool, feature in zip(mask, original_headers_train):\n",
    "                    if bool:\n",
    "                        new_features.append(feature)\n",
    "                new_trains.append(DataSet(X_train_mod,\n",
    "                                          Y_train,\n",
    "                                          new_features,\n",
    "                                          VTHRESH,\n",
    "                                          X_train_mod.shape[-1]/X_train.shape[-1],\n",
    "                                          )\n",
    "                                  )\n",
    "                \n",
    "        else:\n",
    "            # TODO the same on the test set\n",
    "            mask = sel.get_support() #list of booleans\n",
    "            new_features = [] # The list of your K best features    \n",
    "            for bool, feature in zip(mask, original_headers_train):\n",
    "                if bool:\n",
    "                    new_features.append(feature)\n",
    "            new_trains.append(DataSet(X_train_mod,\n",
    "                                          Y_train,\n",
    "                                          new_features,\n",
    "                                          VTHRESH,\n",
    "                                          X_train_mod.shape[-1]/X_train.shape[-1],\n",
    "                                          )\n",
    "                                  )"
   ]
  },
  {
   "cell_type": "code",
   "execution_count": 13,
   "metadata": {
    "collapsed": true
   },
   "outputs": [
    {
     "data": {
      "text/markdown": [
       "**Training Section** for: 1 features (['SYM_YRS_SINCE_ACID_TASTE_START'])"
      ],
      "text/plain": [
       "<IPython.core.display.Markdown object>"
      ]
     },
     "metadata": {},
     "output_type": "display_data"
    },
    {
     "ename": "TypeError",
     "evalue": "__init__() got multiple values for argument 'scoring'",
     "traceback": [
      "\u001b[0;31m---------------------------------------------------------------------------\u001b[0m",
      "\u001b[0;31mTypeError\u001b[0m                                 Traceback (most recent call last)",
      "\u001b[0;32m<ipython-input-13-9ebf8f66e800>\u001b[0m in \u001b[0;36m<module>\u001b[0;34m()\u001b[0m\n\u001b[1;32m      5\u001b[0m     \u001b[0mX_train_mod\u001b[0m \u001b[0;34m=\u001b[0m \u001b[0mtrain_set\u001b[0m\u001b[0;34m[\u001b[0m\u001b[0;34m'X_train'\u001b[0m\u001b[0;34m]\u001b[0m\u001b[0;34m\u001b[0m\u001b[0m\n\u001b[1;32m      6\u001b[0m     \u001b[0mprintmd\u001b[0m\u001b[0;34m(\u001b[0m\u001b[0;34m\"**Training Section** for: {} features ({})\"\u001b[0m\u001b[0;34m.\u001b[0m\u001b[0mformat\u001b[0m\u001b[0;34m(\u001b[0m\u001b[0mstr\u001b[0m\u001b[0;34m(\u001b[0m\u001b[0mX_train_mod\u001b[0m\u001b[0;34m.\u001b[0m\u001b[0mshape\u001b[0m\u001b[0;34m[\u001b[0m\u001b[0;34m-\u001b[0m\u001b[0;36m1\u001b[0m\u001b[0;34m]\u001b[0m\u001b[0;34m)\u001b[0m\u001b[0;34m,\u001b[0m\u001b[0mtrain_set\u001b[0m\u001b[0;34m[\u001b[0m\u001b[0;34m'features_name'\u001b[0m\u001b[0;34m]\u001b[0m\u001b[0;34m)\u001b[0m\u001b[0;34m)\u001b[0m\u001b[0;34m\u001b[0m\u001b[0m\n\u001b[0;32m----> 7\u001b[0;31m     \u001b[0mtrain_resultes\u001b[0m \u001b[0;34m=\u001b[0m \u001b[0mtrain_the_data\u001b[0m\u001b[0;34m(\u001b[0m\u001b[0mX_train_mod\u001b[0m\u001b[0;34m,\u001b[0m\u001b[0mY_train\u001b[0m\u001b[0;34m,\u001b[0m\u001b[0mmodels\u001b[0m\u001b[0;34m)\u001b[0m\u001b[0;34m\u001b[0m\u001b[0m\n\u001b[0m\u001b[1;32m      8\u001b[0m     \u001b[0mnew_models\u001b[0m\u001b[0;34m.\u001b[0m\u001b[0mappend\u001b[0m\u001b[0;34m(\u001b[0m\u001b[0;34m{\u001b[0m\u001b[0;34m'train_set'\u001b[0m\u001b[0;34m:\u001b[0m\u001b[0mtrain_set\u001b[0m\u001b[0;34m,\u001b[0m\u001b[0;34m'train_resultes'\u001b[0m\u001b[0;34m:\u001b[0m\u001b[0mtrain_resultes\u001b[0m\u001b[0;34m}\u001b[0m\u001b[0;34m)\u001b[0m\u001b[0;34m\u001b[0m\u001b[0m\n\u001b[1;32m      9\u001b[0m     \u001b[0;32mif\u001b[0m \u001b[0mtrain_resultes\u001b[0m\u001b[0;34m:\u001b[0m\u001b[0;34m\u001b[0m\u001b[0m\n",
      "\u001b[0;32m<ipython-input-9-2d16bdc7d004>\u001b[0m in \u001b[0;36mtrain_the_data\u001b[0;34m(X_train, Y_train, models)\u001b[0m\n\u001b[1;32m     31\u001b[0m         \u001b[0mkfold\u001b[0m \u001b[0;34m=\u001b[0m \u001b[0mmodel_selection\u001b[0m\u001b[0;34m.\u001b[0m\u001b[0mStratifiedKFold\u001b[0m\u001b[0;34m(\u001b[0m\u001b[0mn_splits\u001b[0m\u001b[0;34m=\u001b[0m\u001b[0;36m10\u001b[0m\u001b[0;34m,\u001b[0m\u001b[0mshuffle\u001b[0m\u001b[0;34m=\u001b[0m\u001b[0;32mTrue\u001b[0m\u001b[0;34m)\u001b[0m\u001b[0;34m\u001b[0m\u001b[0m\n\u001b[1;32m     32\u001b[0m         \u001b[0;32mtry\u001b[0m\u001b[0;34m:\u001b[0m\u001b[0;34m\u001b[0m\u001b[0m\n\u001b[0;32m---> 33\u001b[0;31m             \u001b[0mcv_results\u001b[0m \u001b[0;34m=\u001b[0m \u001b[0mmodel_selection\u001b[0m\u001b[0;34m.\u001b[0m\u001b[0mGridSearchCV\u001b[0m\u001b[0;34m(\u001b[0m\u001b[0mmodel\u001b[0m\u001b[0;34m,\u001b[0m \u001b[0mX_train\u001b[0m\u001b[0;34m,\u001b[0m \u001b[0mY_train\u001b[0m\u001b[0;34m,\u001b[0m \u001b[0mcv\u001b[0m\u001b[0;34m=\u001b[0m\u001b[0mkfold\u001b[0m\u001b[0;34m,\u001b[0m\u001b[0mn_jobs\u001b[0m\u001b[0;34m=\u001b[0m\u001b[0;34m-\u001b[0m\u001b[0;36m1\u001b[0m\u001b[0;34m,\u001b[0m \u001b[0mscoring\u001b[0m\u001b[0;34m=\u001b[0m\u001b[0mSCORING\u001b[0m \u001b[0;34m)\u001b[0m\u001b[0;34m\u001b[0m\u001b[0m\n\u001b[0m\u001b[1;32m     34\u001b[0m         \u001b[0;32mexcept\u001b[0m \u001b[0mValueError\u001b[0m \u001b[0;32mas\u001b[0m \u001b[0me\u001b[0m\u001b[0;34m:\u001b[0m\u001b[0;34m\u001b[0m\u001b[0m\n\u001b[1;32m     35\u001b[0m             \u001b[0mprint\u001b[0m\u001b[0;34m(\u001b[0m\u001b[0;34m'ValueError{}'\u001b[0m\u001b[0;34m.\u001b[0m\u001b[0mformat\u001b[0m\u001b[0;34m(\u001b[0m\u001b[0;32mNone\u001b[0m\u001b[0;34m)\u001b[0m\u001b[0;34m)\u001b[0m\u001b[0;34m\u001b[0m\u001b[0m\n",
      "\u001b[0;31mTypeError\u001b[0m: __init__() got multiple values for argument 'scoring'"
     ],
     "output_type": "error"
    }
   ],
   "source": [
    "    best_traind_models = []\n",
    "    # new_trains.rever()\n",
    "    new_models = []\n",
    "    for train_set in new_trains:\n",
    "        printmd(\"**Training Section** for: {} features ({})\".format(str(train_set.X.shape[-1]),\n",
    "                                                                    rain_set.feature_list)\n",
    "        train_resultes = get_models_CV_scores(train_set.X,train_set.y,models)\n",
    "        new_models.append({'train_set':train_set,'train_resultes':train_resultes})\n",
    "        if train_resultes:   \n",
    "            best_tr = get_the_best(train_resultes)\n",
    "            best_traind_models.append(TrainedModel(train_set,\n",
    "                                                   test_set,\n",
    "                                                   best_tr['model'],\n",
    "                                                   best_tr['score']\n",
    "                                                   )\n",
    "                                      )\n",
    "            \n",
    "# TODO replace best_tr_results in the next sections and defined the test set\n",
    "        \n",
    "            # best_tr_results.append({\"model\":best_tr['model'],\n",
    "            #                         \"score\":best_tr['score'],\n",
    "            #                         \"num_fetures\":int(train_set.X.shape[-1]),\n",
    "            #                         'features_names':train_set['features_name']})\n",
    "            \n",
    "            for model in train_resultes:\n",
    "                print (model['model'][0],model['score'])"
   ]
  },
  {
   "cell_type": "code",
   "execution_count": 9,
   "metadata": {
    "collapsed": true
   },
   "outputs": [
    {
     "data": {
      "image/png": "[encoded data removed]",
      "text/plain": [
       "<matplotlib.figure.Figure at 0x1c49bdc7d68>"
      ]
     },
     "metadata": {},
     "output_type": "display_data"
    },
    {
     "name": "stdout",
     "output_type": "stream",
     "text": [
      "{'model': ('LDA', LinearDiscriminantAnalysis(n_components=None, priors=None, shrinkage=None,\n              solver='svd', store_covariance=False, tol=0.0001)), 'score': 0.89832619738751818, 'num_fetures': 13, 'features_names': ['AGE', 'SEX', 'HEIGHT', 'WEIGHT', 'WAIST_CIRCUMFERENCE', 'SMK_EVER_SMOKED', 'ALC_UNITS_PER_WEEK_AGED_30', 'ALC_DRINK_HEAVILY', 'SYM_CHEST_PAIN', 'SYM_BURNING_CHEST', 'SYM_SLEEP_DISRUPTED', 'SYM_YRS_SINCE_ACID_TASTE_START', 'SYM_TAKING_STOMACH_MEDS']}\n{'model': ('LR', LogisticRegression(C=1.0, class_weight=None, dual=False, fit_intercept=True,\n          intercept_scaling=1, max_iter=100, multi_class='ovr', n_jobs=1,\n          penalty='l2', random_state=None, solver='liblinear', tol=0.0001,\n          verbose=0, warm_start=False)), 'score': 0.89741588050314469, 'num_fetures': 10, 'features_names': ['SEX', 'HEIGHT', 'WEIGHT', 'WAIST_CIRCUMFERENCE', 'ALC_UNITS_PER_WEEK_AGED_30', 'SYM_CHEST_PAIN', 'SYM_BURNING_CHEST', 'SYM_SLEEP_DISRUPTED', 'SYM_YRS_SINCE_ACID_TASTE_START', 'SYM_TAKING_STOMACH_MEDS']}\n{'model': ('LR', LogisticRegression(C=1.0, class_weight=None, dual=False, fit_intercept=True,\n          intercept_scaling=1, max_iter=100, multi_class='ovr', n_jobs=1,\n          penalty='l2', random_state=None, solver='liblinear', tol=0.0001,\n          verbose=0, warm_start=False)), 'score': 0.89672345186260283, 'num_fetures': 17, 'features_names': ['AGE', 'SEX', 'HEIGHT', 'WEIGHT', 'WAIST_CIRCUMFERENCE', 'SMK_EVER_SMOKED', 'SMK_AGE_STARTED', 'SMK_AGE_SMOKING_STOPPED', 'ALC_UNITS_PER_WEEK_AGED_30', 'ALC_DRINK_HEAVILY', 'SYM_CHEST_PAIN', 'SYM_BURNING_CHEST', 'SYM_ACID_TASTE', 'SYM_SORE_THROAT', 'SYM_SLEEP_DISRUPTED', 'SYM_YRS_SINCE_ACID_TASTE_START', 'SYM_TAKING_STOMACH_MEDS']}\n{'model': ('LDA', LinearDiscriminantAnalysis(n_components=None, priors=None, shrinkage=None,\n              solver='svd', store_covariance=False, tol=0.0001)), 'score': 0.89661072810836961, 'num_fetures': 18, 'features_names': ['AGE', 'SEX', 'HEIGHT', 'WEIGHT', 'WAIST_CIRCUMFERENCE', 'SMK_EVER_SMOKED', 'SMK_AGE_STARTED', 'SMK_AGE_SMOKING_STOPPED', 'ALC_UNITS_PER_WEEK', 'ALC_UNITS_PER_WEEK_AGED_30', 'ALC_DRINK_HEAVILY', 'SYM_CHEST_PAIN', 'SYM_BURNING_CHEST', 'SYM_ACID_TASTE', 'SYM_SORE_THROAT', 'SYM_SLEEP_DISRUPTED', 'SYM_YRS_SINCE_ACID_TASTE_START', 'SYM_TAKING_STOMACH_MEDS']}\n{'model': ('LR', LogisticRegression(C=1.0, class_weight=None, dual=False, fit_intercept=True,\n          intercept_scaling=1, max_iter=100, multi_class='ovr', n_jobs=1,\n          penalty='l2', random_state=None, solver='liblinear', tol=0.0001,\n          verbose=0, warm_start=False)), 'score': 0.89602576197387518, 'num_fetures': 15, 'features_names': ['AGE', 'SEX', 'HEIGHT', 'WEIGHT', 'WAIST_CIRCUMFERENCE', 'SMK_EVER_SMOKED', 'SMK_AGE_SMOKING_STOPPED', 'ALC_UNITS_PER_WEEK_AGED_30', 'ALC_DRINK_HEAVILY', 'PREFERRED_DRINK', 'SYM_CHEST_PAIN', 'SYM_BURNING_CHEST', 'SYM_SLEEP_DISRUPTED', 'SYM_YRS_SINCE_ACID_TASTE_START', 'SYM_TAKING_STOMACH_MEDS']}\n{'model': ('LDA', LinearDiscriminantAnalysis(n_components=None, priors=None, shrinkage=None,\n              solver='svd', store_covariance=False, tol=0.0001)), 'score': 0.89580013304305761, 'num_fetures': 11, 'features_names': ['SEX', 'HEIGHT', 'WEIGHT', 'WAIST_CIRCUMFERENCE', 'SMK_AGE_SMOKING_STOPPED', 'ALC_UNITS_PER_WEEK_AGED_30', 'SYM_CHEST_PAIN', 'SYM_BURNING_CHEST', 'SYM_ACID_TASTE', 'SYM_YRS_SINCE_ACID_TASTE_START', 'SYM_TAKING_STOMACH_MEDS']}\n{'model': ('LR', LogisticRegression(C=1.0, class_weight=None, dual=False, fit_intercept=True,\n          intercept_scaling=1, max_iter=100, multi_class='ovr', n_jobs=1,\n          penalty='l2', random_state=None, solver='liblinear', tol=0.0001,\n          verbose=0, warm_start=False)), 'score': 0.89533544992743097, 'num_fetures': 16, 'features_names': ['AGE', 'SEX', 'HEIGHT', 'WEIGHT', 'WAIST_CIRCUMFERENCE', 'EDUCATION_LEVEL', 'SMK_AGE_SMOKING_STOPPED', 'ALC_UNITS_PER_WEEK', 'ALC_UNITS_PER_WEEK_AGED_30', 'ALC_DRINK_HEAVILY', 'SYM_CHEST_PAIN', 'SYM_BURNING_CHEST', 'SYM_ACID_TASTE', 'SYM_SLEEP_DISRUPTED', 'SYM_YRS_SINCE_ACID_TASTE_START', 'SYM_TAKING_STOMACH_MEDS']}\n{'model': ('LR', LogisticRegression(C=1.0, class_weight=None, dual=False, fit_intercept=True,\n          intercept_scaling=1, max_iter=100, multi_class='ovr', n_jobs=1,\n          penalty='l2', random_state=None, solver='liblinear', tol=0.0001,\n          verbose=0, warm_start=False)), 'score': 0.89505745041122398, 'num_fetures': 12, 'features_names': ['SEX', 'HEIGHT', 'WEIGHT', 'WAIST_CIRCUMFERENCE', 'EDUCATION_LEVEL', 'SYM_CHEST_PAIN', 'SYM_BURNING_CHEST', 'SYM_ACID_TASTE', 'SYM_SORE_THROAT', 'SYM_SLEEP_DISRUPTED', 'SYM_YRS_SINCE_ACID_TASTE_START', 'SYM_TAKING_STOMACH_MEDS']}\n{'model': ('LDA', LinearDiscriminantAnalysis(n_components=None, priors=None, shrinkage=None,\n              solver='svd', store_covariance=False, tol=0.0001)), 'score': 0.89472937832607635, 'num_fetures': 14, 'features_names': ['AGE', 'SEX', 'HEIGHT', 'WEIGHT', 'WAIST_CIRCUMFERENCE', 'EDUCATION_LEVEL', 'SMK_EVER_SMOKED', 'SMK_AGE_SMOKING_STOPPED', 'ALC_UNITS_PER_WEEK_AGED_30', 'SYM_CHEST_PAIN', 'SYM_BURNING_CHEST', 'SYM_SORE_THROAT', 'SYM_YRS_SINCE_ACID_TASTE_START', 'SYM_TAKING_STOMACH_MEDS']}\n{'model': ('LDA', LinearDiscriminantAnalysis(n_components=None, priors=None, shrinkage=None,\n              solver='svd', store_covariance=False, tol=0.0001)), 'score': 0.89406833575229805, 'num_fetures': 8, 'features_names': ['SEX', 'WAIST_CIRCUMFERENCE', 'ALC_UNITS_PER_WEEK_AGED_30', 'SYM_CHEST_PAIN', 'SYM_BURNING_CHEST', 'SYM_SLEEP_DISRUPTED', 'SYM_YRS_SINCE_ACID_TASTE_START', 'SYM_TAKING_STOMACH_MEDS']}\n{'model': ('NB', GaussianNB(priors=None)), 'score': 0.89341527576197388, 'num_fetures': 9, 'features_names': ['SEX', 'WEIGHT', 'WAIST_CIRCUMFERENCE', 'EDUCATION_LEVEL', 'SYM_CHEST_PAIN', 'SYM_BURNING_CHEST', 'SYM_SLEEP_DISRUPTED', 'SYM_YRS_SINCE_ACID_TASTE_START', 'SYM_TAKING_STOMACH_MEDS']}\n{'model': ('LDA', LinearDiscriminantAnalysis(n_components=None, priors=None, shrinkage=None,\n              solver='svd', store_covariance=False, tol=0.0001)), 'score': 0.8931345549104982, 'num_fetures': 19, 'features_names': ['AGE', 'SEX', 'HEIGHT', 'WEIGHT', 'WAIST_CIRCUMFERENCE', 'EDUCATION_LEVEL', 'SMK_EVER_SMOKED', 'SMK_AGE_STARTED', 'SMK_AGE_SMOKING_STOPPED', 'ALC_UNITS_PER_WEEK', 'ALC_UNITS_PER_WEEK_AGED_30', 'ALC_DRINK_HEAVILY', 'SYM_CHEST_PAIN', 'SYM_BURNING_CHEST', 'SYM_ACID_TASTE', 'SYM_SORE_THROAT', 'SYM_SLEEP_DISRUPTED', 'SYM_YRS_SINCE_ACID_TASTE_START', 'SYM_TAKING_STOMACH_MEDS']}\n{'model': ('LR', LogisticRegression(C=1.0, class_weight=None, dual=False, fit_intercept=True,\n          intercept_scaling=1, max_iter=100, multi_class='ovr', n_jobs=1,\n          penalty='l2', random_state=None, solver='liblinear', tol=0.0001,\n          verbose=0, warm_start=False)), 'score': 0.89083665940977264, 'num_fetures': 5, 'features_names': ['SEX', 'WAIST_CIRCUMFERENCE', 'SYM_BURNING_CHEST', 'SYM_YRS_SINCE_ACID_TASTE_START', 'SYM_TAKING_STOMACH_MEDS']}\n{'model': ('LR', LogisticRegression(C=1.0, class_weight=None, dual=False, fit_intercept=True,\n          intercept_scaling=1, max_iter=100, multi_class='ovr', n_jobs=1,\n          penalty='l2', random_state=None, solver='liblinear', tol=0.0001,\n          verbose=0, warm_start=False)), 'score': 0.88674352926947253, 'num_fetures': 6, 'features_names': ['SEX', 'HEIGHT', 'WAIST_CIRCUMFERENCE', 'SYM_CHEST_PAIN', 'SYM_YRS_SINCE_ACID_TASTE_START', 'SYM_TAKING_STOMACH_MEDS']}\n{'model': ('LR', LogisticRegression(C=1.0, class_weight=None, dual=False, fit_intercept=True,\n          intercept_scaling=1, max_iter=100, multi_class='ovr', n_jobs=1,\n          penalty='l2', random_state=None, solver='liblinear', tol=0.0001,\n          verbose=0, warm_start=False)), 'score': 0.88654505321722288, 'num_fetures': 7, 'features_names': ['SEX', 'HEIGHT', 'WAIST_CIRCUMFERENCE', 'ALC_UNITS_PER_WEEK_AGED_30', 'SYM_CHEST_PAIN', 'SYM_YRS_SINCE_ACID_TASTE_START', 'SYM_TAKING_STOMACH_MEDS']}\n{'model': ('NB', GaussianNB(priors=None)), 'score': 0.86868151306240937, 'num_fetures': 4, 'features_names': ['SEX', 'WAIST_CIRCUMFERENCE', 'SYM_YRS_SINCE_ACID_TASTE_START', 'SYM_TAKING_STOMACH_MEDS']}\n{'model': ('NB', GaussianNB(priors=None)), 'score': 0.83200798258345432, 'num_fetures': 3, 'features_names': ['SEX', 'WAIST_CIRCUMFERENCE', 'SYM_TAKING_STOMACH_MEDS']}\n{'model': ('NB', GaussianNB(priors=None)), 'score': 0.81987750967585882, 'num_fetures': 2, 'features_names': ['SYM_YRS_SINCE_ACID_TASTE_START', 'SYM_TAKING_STOMACH_MEDS']}\n{'model': ('NB', GaussianNB(priors=None)), 'score': 0.68387037373004367, 'num_fetures': 1, 'features_names': ['SYM_TAKING_STOMACH_MEDS']}\n"
     ]
    }
   ],
   "source": [
    "    plt.plot([d['ratio'] for d in new_trains],\n",
    "             [d['score'] for d in best_tr_results])\n",
    "    plt.legend()\n",
    "    plt.show()\n",
    "    best_tr_results.sort(key=itemgetter('score'),reverse=True)\n",
    "    for best in best_tr_results:\n",
    "        print(best)"
   ]
  },
  {
   "cell_type": "code",
   "execution_count": 9,
   "metadata": {},
   "outputs": [
    {
     "ename": "IndentationError",
     "evalue": "unexpected indent (<ipython-input-9-55d60a75eb15>, line 2)",
     "traceback": [
      "\u001b[0;36m  File \u001b[0;32m\"<ipython-input-9-55d60a75eb15>\"\u001b[0;36m, line \u001b[0;32m2\u001b[0m\n\u001b[0;31m    printmd(\"**Testing Section:**\")\u001b[0m\n\u001b[0m    ^\u001b[0m\n\u001b[0;31mIndentationError\u001b[0m\u001b[0;31m:\u001b[0m unexpected indent\n"
     ],
     "output_type": "error"
    }
   ],
   "source": [
    "#need to modify the test shape\n",
    "    printmd(\"**Testing Section:**\")\n",
    "    for bes\n",
    "    test_results = test_the_data(X_train,Y_train,X_test,Y_test,chosen_model)\n",
    "    best_ts = get_the_best(test_results)\n",
    "    for model in test_results:\n",
    "        print (model)\n"
   ]
  },
  {
   "cell_type": "code",
   "execution_count": 9,
   "metadata": {},
   "outputs": [],
   "source": [
    "    # #after we found the elbow\n",
    "    # new_shape = []\n",
    "    # range = np.arange(0.04, 0.17, 0.001)\n",
    "    # for VTHRESH in range:  \n",
    "    #     sel = fs.VarianceThreshold(VTHRESH)\n",
    "    #     x = sel.fit_transform(X_train)\n",
    "    #     new_shape.append(x.shape[-1])\n",
    "    # plt.plot(range, new_shape)"
   ]
  },
  {
   "cell_type": "code",
   "execution_count": null,
   "metadata": {},
   "outputs": [],
   "source": [
    ""
   ]
  },
  {
   "cell_type": "code",
   "execution_count": null,
   "metadata": {},
   "outputs": [],
   "source": []
  }
 ],
 "metadata": {
  "kernelspec": {
   "display_name": "Python 3",
   "language": "python",
   "name": "python3"
  },
  "language_info": {
   "codemirror_mode": {
    "name": "ipython",
    "version": 3
   },
   "file_extension": ".py",
   "mimetype": "text/x-python",
   "name": "python",
   "nbconvert_exporter": "python",
   "pygments_lexer": "ipython3",
   "version": "3.6.3"
  }
 },
 "nbformat": 4,
 "nbformat_minor": 2
}
