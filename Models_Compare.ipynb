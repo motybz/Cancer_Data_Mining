{
 "cells": [
  {
   "cell_type": "code",
   "execution_count": 1,
   "metadata": {},
   "outputs": [],
   "source": [
    "import os , csv ,multiprocessing\n",
    "from tools.import_data import *\n",
    "from IPython.display import Markdown, display\n",
    "def printmd(string):\n",
    "    display(Markdown(string))"
   ]
  },
  {
   "cell_type": "code",
   "execution_count": 3,
   "metadata": {},
   "outputs": [],
   "source": [
    "from sklearn import model_selection\n",
    "from sklearn.metrics import classification_report\n",
    "from sklearn.metrics import confusion_matrix\n",
    "from sklearn.metrics import accuracy_score\n",
    "from sklearn.linear_model import LogisticRegression\n",
    "from sklearn.tree import DecisionTreeClassifier\n",
    "from sklearn.neighbors import KNeighborsClassifier\n",
    "from sklearn.discriminant_analysis import LinearDiscriminantAnalysis\n",
    "from sklearn.naive_bayes import GaussianNB\n",
    "from sklearn.svm import SVC\n",
    "from sklearn import feature_selection as fs\n",
    "from sklearn.preprocessing import LabelEncoder\n",
    "import pandas\n",
    "import matplotlib.pyplot as plt"
   ]
  },
  {
   "cell_type": "code",
   "execution_count": 4,
   "metadata": {},
   "outputs": [],
   "source": [
    "#Selecting Models\n",
    "models = []\n",
    "models.append(('LR', LogisticRegression()))\n",
    "models.append(('LDA', LinearDiscriminantAnalysis()))\n",
    "models.append(('KNN', KNeighborsClassifier()))\n",
    "models.append(('CART', DecisionTreeClassifier()))\n",
    "models.append(('NB', GaussianNB()))\n",
    "models.append(('SVM', SVC()))"
   ]
  },
  {
   "cell_type": "code",
   "execution_count": 5,
   "metadata": {},
   "outputs": [],
   "source": [
    "def train_the_data(X_train,Y_train,models):\n",
    "    # Spot Check Algorithms with cross validation\n",
    "    # evaluate each model in turn\n",
    "    scoring = 'accuracy'\n",
    "    scores = []\n",
    "    names = []\n",
    "    results = []\n",
    "    for name, model in models:\n",
    "        kfold = model_selection.KFold(n_splits=10)\n",
    "        cv_results = model_selection.cross_val_score(model, X_train, Y_train, cv=kfold, scoring=scoring)\n",
    "        scores.append(cv_results)\n",
    "        names.append(name)\n",
    "        results.append({\"name\":name,\"score\":cv_results.mean()})\n",
    "        # msg = \"%s: %f (%f)\" % (name, cv_results.mean(), cv_results.std())\n",
    "        # print(msg)\n",
    "    # Compare Algorithms\n",
    "    fig = plt.figure()\n",
    "    fig.suptitle('Algorithm Comparison')\n",
    "    ax = fig.add_subplot(111)\n",
    "    plt.boxplot(scores)\n",
    "    ax.set_xticklabels(names)\n",
    "    plt.show()\n",
    "    return results\n",
    "        \n",
    "def test_the_data(X_train,Y_train,X_test,Y_test,models):\n",
    "    # Make predictions on test dataset\n",
    "    results = []\n",
    "    for name, model in models:\n",
    "        model.fit(X_train, Y_train)\n",
    "        predictions = model.predict(X_test)\n",
    "        # print('Model ' , name)\n",
    "        # print('Accuracy: ', accuracy_score(Y_test, predictions))\n",
    "        results.append({\"name\":name,\"score\":accuracy_score(Y_test, predictions)})\n",
    "        #print(confusion_matrix(Y_validation, predictions))\n",
    "        # print(classification_report(Y_test, predictions))\n",
    "    return results \n",
    "    # \n",
    "    # encoder(predict_dataset)\n",
    "    # #print (predict_dataset)\n",
    "    # predict=predict_dataset.values[:,0:22]\n",
    "    # \n",
    "    # predictions = lr.predict(predict)\n",
    "    \n",
    "    # temp = pandas.DataFrame(predict)\n",
    "    # temp['class'] = predictions\n",
    "    # temp.to_csv('predict.csv')\n",
    "def get_the_best(results): # input - list of dict {\"name\":name,\"score\":score}\n",
    "    m = max([k[\"score\"] for k in results])\n",
    "    i = [k[\"score\"] for k in results].index(m)\n",
    "    name = results[i][\"name\"]\n",
    "    printmd('The best model for the given data is: <span style=\"color:green\">' + str(name).format() + '</span> with the score <span style=\"color:green\">' + str(m) + '</span>' )\n",
    "    # print ('The best model for the given train (' + X_train.shape +') is: ' + name + 'with the score ' +m )\n",
    "    return results[i] # the max model (dict type)"
   ]
  },
  {
   "cell_type": "code",
   "execution_count": 6,
   "metadata": {},
   "outputs": [
    {
     "name": "stdout",
     "output_type": "stream",
     "text": [
      "Train data shape:  (92, 418976)\nTrain labels shape:  (92,)\nTest data shape:  (88, 418976)\nTest labels shape:  (88,)\n"
     ]
    }
   ],
   "source": [
    "if __name__ == \"__main__\":\n",
    "    X_train, Y_train ,names_train = load_dataset(os.path.join('D:/motybz/Cancer_Data_Mining/trin-SD01/trin-SD01.csv'))\n",
    "    X_test, Y_test ,names_test = load_dataset(os.path.join('D:/motybz/Cancer_Data_Mining/trin-SD01/test-SD01.csv'))\n",
    "    print ('Train data shape: ', X_train.shape)\n",
    "    print ('Train labels shape: ', Y_train.shape)\n",
    "    print ('Test data shape: ', X_test.shape)\n",
    "    print ('Test labels shape: ', Y_test.shape)"
   ]
  },
  {
   "cell_type": "code",
   "execution_count": 9,
   "metadata": {},
   "outputs": [],
   "source": [
    "    #before we found the elbow\n",
    "    new_trains = []\n",
    "    new_shapes = []\n",
    "    range = np.arange(0.0, 0.17, 0.001)\n",
    "    for VTHRESH in range:  \n",
    "        sel = fs.VarianceThreshold(VTHRESH)\n",
    "        X_train_mod = sel.fit_transform(X_train)\n",
    "        if len(new_shapes) >= 1:\n",
    "            if new_shapes[-1]!= X_train_mod.shape:\n",
    "                new_trains.append(X_train_mod)\n",
    "                new_shapes.append(X_train_mod.shape)\n",
    "        else:\n",
    "            new_trains.append(X_train_mod)\n",
    "            new_shapes.append(X_train_mod.shape)\n",
    "        \n"
   ]
  },
  {
   "cell_type": "code",
   "execution_count": 12,
   "metadata": {},
   "outputs": [
    {
     "name": "stdout",
     "output_type": "stream",
     "text": [
      "{'name': 'KNN', 'score': 0.5733333333333333, 'num_fetures': 1}\n{'name': 'KNN', 'score': 0.5933333333333335, 'num_fetures': 2}\n{'name': 'KNN', 'score': 0.6066666666666667, 'num_fetures': 4}\n{'name': 'KNN', 'score': 0.5744444444444443, 'num_fetures': 6}\n{'name': 'KNN', 'score': 0.5655555555555557, 'num_fetures': 7}\n{'name': 'KNN', 'score': 0.5311111111111111, 'num_fetures': 8}\n{'name': 'NB', 'score': 0.5322222222222222, 'num_fetures': 12}\n{'name': 'CART', 'score': 0.5433333333333332, 'num_fetures': 14}\n{'name': 'CART', 'score': 0.5411111111111111, 'num_fetures': 15}\n{'name': 'CART', 'score': 0.5344444444444445, 'num_fetures': 16}\n{'name': 'NB', 'score': 0.5211111111111111, 'num_fetures': 18}\n{'name': 'CART', 'score': 0.5311111111111111, 'num_fetures': 19}\n{'name': 'NB', 'score': 0.5511111111111111, 'num_fetures': 22}\n{'name': 'CART', 'score': 0.5844444444444445, 'num_fetures': 27}\n{'name': 'CART', 'score': 0.5655555555555556, 'num_fetures': 33}\n{'name': 'NB', 'score': 0.5422222222222223, 'num_fetures': 36}\n{'name': 'CART', 'score': 0.5688888888888889, 'num_fetures': 43}\n{'name': 'NB', 'score': 0.5855555555555556, 'num_fetures': 47}\n{'name': 'NB', 'score': 0.5755555555555556, 'num_fetures': 50}\n{'name': 'NB', 'score': 0.5644444444444445, 'num_fetures': 53}\n{'name': 'CART', 'score': 0.6066666666666667, 'num_fetures': 59}\n{'name': 'CART', 'score': 0.5866666666666667, 'num_fetures': 64}\n{'name': 'CART', 'score': 0.5577777777777777, 'num_fetures': 72}\n{'name': 'CART', 'score': 0.5677777777777778, 'num_fetures': 79}\n{'name': 'SVM', 'score': 0.5411111111111111, 'num_fetures': 87}\n{'name': 'NB', 'score': 0.5533333333333333, 'num_fetures': 92}\n{'name': 'CART', 'score': 0.5677777777777778, 'num_fetures': 99}\n{'name': 'CART', 'score': 0.5555555555555556, 'num_fetures': 110}\n{'name': 'KNN', 'score': 0.5877777777777778, 'num_fetures': 120}\n{'name': 'SVM', 'score': 0.5411111111111111, 'num_fetures': 132}\n{'name': 'SVM', 'score': 0.5411111111111111, 'num_fetures': 142}\n{'name': 'SVM', 'score': 0.5411111111111111, 'num_fetures': 147}\n{'name': 'SVM', 'score': 0.5411111111111111, 'num_fetures': 157}\n{'name': 'LDA', 'score': 0.5555555555555556, 'num_fetures': 169}\n{'name': 'LDA', 'score': 0.5566666666666668, 'num_fetures': 184}\n{'name': 'LDA', 'score': 0.5444444444444445, 'num_fetures': 192}\n{'name': 'CART', 'score': 0.5422222222222222, 'num_fetures': 205}\n{'name': 'SVM', 'score': 0.5411111111111111, 'num_fetures': 208}\n{'name': 'SVM', 'score': 0.5411111111111111, 'num_fetures': 218}\n{'name': 'SVM', 'score': 0.5411111111111111, 'num_fetures': 227}\n{'name': 'SVM', 'score': 0.5411111111111111, 'num_fetures': 241}\n{'name': 'SVM', 'score': 0.5411111111111111, 'num_fetures': 256}\n{'name': 'KNN', 'score': 0.5533333333333335, 'num_fetures': 264}\n{'name': 'CART', 'score': 0.5655555555555556, 'num_fetures': 280}\n{'name': 'SVM', 'score': 0.5411111111111111, 'num_fetures': 286}\n{'name': 'SVM', 'score': 0.5411111111111111, 'num_fetures': 303}\n{'name': 'SVM', 'score': 0.5411111111111111, 'num_fetures': 318}\n{'name': 'SVM', 'score': 0.5411111111111111, 'num_fetures': 327}\n{'name': 'SVM', 'score': 0.5411111111111111, 'num_fetures': 342}\n{'name': 'SVM', 'score': 0.5411111111111111, 'num_fetures': 356}\n{'name': 'SVM', 'score': 0.5411111111111111, 'num_fetures': 369}\n{'name': 'SVM', 'score': 0.5411111111111111, 'num_fetures': 388}\n{'name': 'SVM', 'score': 0.5411111111111111, 'num_fetures': 402}\n{'name': 'SVM', 'score': 0.5411111111111111, 'num_fetures': 417}\n{'name': 'SVM', 'score': 0.5411111111111111, 'num_fetures': 430}\n{'name': 'SVM', 'score': 0.5411111111111111, 'num_fetures': 448}\n{'name': 'SVM', 'score': 0.5411111111111111, 'num_fetures': 469}\n{'name': 'CART', 'score': 0.5744444444444443, 'num_fetures': 487}\n{'name': 'SVM', 'score': 0.5411111111111111, 'num_fetures': 506}\n{'name': 'SVM', 'score': 0.5411111111111111, 'num_fetures': 527}\n{'name': 'CART', 'score': 0.5644444444444445, 'num_fetures': 547}\n{'name': 'SVM', 'score': 0.5411111111111111, 'num_fetures': 568}\n{'name': 'SVM', 'score': 0.5411111111111111, 'num_fetures': 587}\n{'name': 'SVM', 'score': 0.5411111111111111, 'num_fetures': 603}\n{'name': 'CART', 'score': 0.5422222222222223, 'num_fetures': 628}\n{'name': 'CART', 'score': 0.5411111111111111, 'num_fetures': 652}\n{'name': 'SVM', 'score': 0.5411111111111111, 'num_fetures': 675}\n{'name': 'SVM', 'score': 0.5411111111111111, 'num_fetures': 701}\n{'name': 'SVM', 'score': 0.5411111111111111, 'num_fetures': 724}\n{'name': 'SVM', 'score': 0.5411111111111111, 'num_fetures': 745}\n{'name': 'SVM', 'score': 0.5411111111111111, 'num_fetures': 764}\n{'name': 'SVM', 'score': 0.5411111111111111, 'num_fetures': 788}\n{'name': 'SVM', 'score': 0.5411111111111111, 'num_fetures': 816}\n{'name': 'SVM', 'score': 0.5411111111111111, 'num_fetures': 842}\n{'name': 'SVM', 'score': 0.5411111111111111, 'num_fetures': 866}\n{'name': 'SVM', 'score': 0.5411111111111111, 'num_fetures': 894}\n{'name': 'SVM', 'score': 0.5411111111111111, 'num_fetures': 931}\n{'name': 'SVM', 'score': 0.5411111111111111, 'num_fetures': 956}\n{'name': 'SVM', 'score': 0.5411111111111111, 'num_fetures': 975}\n{'name': 'SVM', 'score': 0.5411111111111111, 'num_fetures': 1008}\n{'name': 'SVM', 'score': 0.5411111111111111, 'num_fetures': 1052}\n{'name': 'SVM', 'score': 0.5411111111111111, 'num_fetures': 1076}\n{'name': 'SVM', 'score': 0.5411111111111111, 'num_fetures': 1115}\n{'name': 'SVM', 'score': 0.5411111111111111, 'num_fetures': 1153}\n{'name': 'SVM', 'score': 0.5411111111111111, 'num_fetures': 1187}\n{'name': 'SVM', 'score': 0.5411111111111111, 'num_fetures': 1222}\n{'name': 'SVM', 'score': 0.5411111111111111, 'num_fetures': 1266}\n{'name': 'SVM', 'score': 0.5411111111111111, 'num_fetures': 1314}\n{'name': 'CART', 'score': 0.6000000000000001, 'num_fetures': 1356}\n{'name': 'LDA', 'score': 0.5966666666666667, 'num_fetures': 1401}\n{'name': 'LDA', 'score': 0.66, 'num_fetures': 1445}\n{'name': 'LDA', 'score': 0.5966666666666666, 'num_fetures': 1507}\n{'name': 'LDA', 'score': 0.62, 'num_fetures': 1557}\n{'name': 'LDA', 'score': 0.6188888888888888, 'num_fetures': 1618}\n{'name': 'LDA', 'score': 0.6177777777777778, 'num_fetures': 1684}\n{'name': 'KNN', 'score': 0.5755555555555555, 'num_fetures': 1741}\n{'name': 'LDA', 'score': 0.64, 'num_fetures': 1803}\n{'name': 'KNN', 'score': 0.5544444444444444, 'num_fetures': 1877}\n{'name': 'LDA', 'score': 0.5833333333333333, 'num_fetures': 1963}\n{'name': 'KNN', 'score': 0.5411111111111111, 'num_fetures': 2058}\n{'name': 'LDA', 'score': 0.5655555555555556, 'num_fetures': 2145}\n{'name': 'KNN', 'score': 0.5622222222222223, 'num_fetures': 2268}\n{'name': 'KNN', 'score': 0.5511111111111111, 'num_fetures': 2394}\n{'name': 'KNN', 'score': 0.5844444444444445, 'num_fetures': 2559}\n{'name': 'LDA', 'score': 0.5733333333333334, 'num_fetures': 2721}\n{'name': 'LDA', 'score': 0.5744444444444444, 'num_fetures': 2920}\n{'name': 'NB', 'score': 0.5744444444444444, 'num_fetures': 3144}\n{'name': 'LR', 'score': 0.5955555555555556, 'num_fetures': 3415}\n{'name': 'LR', 'score': 0.5855555555555556, 'num_fetures': 3752}\n{'name': 'NB', 'score': 0.5844444444444444, 'num_fetures': 4217}\n{'name': 'NB', 'score': 0.5755555555555556, 'num_fetures': 4760}\n{'name': 'LDA', 'score': 0.5844444444444444, 'num_fetures': 5392}\n{'name': 'NB', 'score': 0.5966666666666667, 'num_fetures': 6165}\n{'name': 'CART', 'score': 0.6644444444444444, 'num_fetures': 7232}\n{'name': 'CART', 'score': 0.6966666666666667, 'num_fetures': 8539}\n{'name': 'LR', 'score': 0.6288888888888888, 'num_fetures': 10262}\n{'name': 'CART', 'score': 0.6399999999999999, 'num_fetures': 12336}\n{'name': 'LR', 'score': 0.65, 'num_fetures': 15025}\n{'name': 'LR', 'score': 0.648888888888889, 'num_fetures': 18359}\n{'name': 'LR', 'score': 0.6711111111111112, 'num_fetures': 22505}\n{'name': 'LR', 'score': 0.6711111111111112, 'num_fetures': 27664}\n{'name': 'LR', 'score': 0.6922222222222223, 'num_fetures': 33933}\n{'name': 'LR', 'score': 0.6922222222222223, 'num_fetures': 41348}\n{'name': 'LDA', 'score': 0.6822222222222221, 'num_fetures': 50475}\n{'name': 'LR', 'score': 0.6922222222222223, 'num_fetures': 61656}\n{'name': 'LR', 'score': 0.6922222222222223, 'num_fetures': 74962}\n{'name': 'LR', 'score': 0.7033333333333334, 'num_fetures': 90282}\n{'name': 'LR', 'score': 0.7144444444444445, 'num_fetures': 108368}\n{'name': 'LR', 'score': 0.7033333333333334, 'num_fetures': 129439}\n{'name': 'LR', 'score': 0.7033333333333334, 'num_fetures': 153725}\n{'name': 'LR', 'score': 0.7033333333333334, 'num_fetures': 181350}\n{'name': 'LR', 'score': 0.6922222222222223, 'num_fetures': 212518}\n{'name': 'LR', 'score': 0.6933333333333334, 'num_fetures': 249789}\n{'name': 'LR', 'score': 0.6933333333333334, 'num_fetures': 300021}\n{'name': 'LR', 'score': 0.7144444444444444, 'num_fetures': 418976}\n"
     ]
    },
    {
     "ename": "NameError",
     "evalue": "name 'new_shape' is not defined",
     "traceback": [
      "\u001b[0;31m---------------------------------------------------------------------------\u001b[0m",
      "\u001b[0;31mNameError\u001b[0m                                 Traceback (most recent call last)",
      "\u001b[0;32m<ipython-input-12-e3095f4d881f>\u001b[0m in \u001b[0;36m<module>\u001b[0;34m()\u001b[0m\n\u001b[1;32m      1\u001b[0m \u001b[0;32mfor\u001b[0m \u001b[0mbest\u001b[0m \u001b[0;32min\u001b[0m \u001b[0mbest_tr_results\u001b[0m\u001b[0;34m:\u001b[0m\u001b[0;34m\u001b[0m\u001b[0m\n\u001b[1;32m      2\u001b[0m     \u001b[0mprint\u001b[0m\u001b[0;34m(\u001b[0m\u001b[0mbest\u001b[0m\u001b[0;34m)\u001b[0m\u001b[0;34m\u001b[0m\u001b[0m\n\u001b[0;32m----> 3\u001b[0;31m \u001b[0mplt\u001b[0m\u001b[0;34m.\u001b[0m\u001b[0mplot\u001b[0m\u001b[0;34m(\u001b[0m\u001b[0mrange\u001b[0m\u001b[0;34m,\u001b[0m \u001b[0mnew_shape\u001b[0m\u001b[0;34m)\u001b[0m\u001b[0;34m\u001b[0m\u001b[0m\n\u001b[0m",
      "\u001b[0;31mNameError\u001b[0m: name 'new_shape' is not defined"
     ],
     "output_type": "error"
    }
   ],
   "source": [
    "    best_tr_results = []\n",
    "    for X_train_mod in reversed(new_trains):\n",
    "        # train the new shape\n",
    "        printmd(\"**Training Section** for: \" + str(X_train_mod.shape[-1]) + \" features\")\n",
    "        train_resultes = train_the_data(X_train_mod,Y_train,models)\n",
    "        best_tr = get_the_best(train_resultes)\n",
    "        best_tr_results.append({\"name\":best_tr['name'],\"score\":best_tr['score'],\"num_fetures\":int(X_train_mod.shape[-1])})\n",
    "        for model in train_resultes:\n",
    "            print (model)"
   ]
  },
  {
   "cell_type": "code",
   "execution_count": 12,
   "metadata": {},
   "outputs": [
    {
     "name": "stdout",
     "output_type": "stream",
     "text": [
      "{'name': 'KNN', 'score': 0.5733333333333333, 'num_fetures': 1}\n{'name': 'KNN', 'score': 0.5933333333333335, 'num_fetures': 2}\n{'name': 'KNN', 'score': 0.6066666666666667, 'num_fetures': 4}\n{'name': 'KNN', 'score': 0.5744444444444443, 'num_fetures': 6}\n{'name': 'KNN', 'score': 0.5655555555555557, 'num_fetures': 7}\n{'name': 'KNN', 'score': 0.5311111111111111, 'num_fetures': 8}\n{'name': 'NB', 'score': 0.5322222222222222, 'num_fetures': 12}\n{'name': 'CART', 'score': 0.5433333333333332, 'num_fetures': 14}\n{'name': 'CART', 'score': 0.5411111111111111, 'num_fetures': 15}\n{'name': 'CART', 'score': 0.5344444444444445, 'num_fetures': 16}\n{'name': 'NB', 'score': 0.5211111111111111, 'num_fetures': 18}\n{'name': 'CART', 'score': 0.5311111111111111, 'num_fetures': 19}\n{'name': 'NB', 'score': 0.5511111111111111, 'num_fetures': 22}\n{'name': 'CART', 'score': 0.5844444444444445, 'num_fetures': 27}\n{'name': 'CART', 'score': 0.5655555555555556, 'num_fetures': 33}\n{'name': 'NB', 'score': 0.5422222222222223, 'num_fetures': 36}\n{'name': 'CART', 'score': 0.5688888888888889, 'num_fetures': 43}\n{'name': 'NB', 'score': 0.5855555555555556, 'num_fetures': 47}\n{'name': 'NB', 'score': 0.5755555555555556, 'num_fetures': 50}\n{'name': 'NB', 'score': 0.5644444444444445, 'num_fetures': 53}\n{'name': 'CART', 'score': 0.6066666666666667, 'num_fetures': 59}\n{'name': 'CART', 'score': 0.5866666666666667, 'num_fetures': 64}\n{'name': 'CART', 'score': 0.5577777777777777, 'num_fetures': 72}\n{'name': 'CART', 'score': 0.5677777777777778, 'num_fetures': 79}\n{'name': 'SVM', 'score': 0.5411111111111111, 'num_fetures': 87}\n{'name': 'NB', 'score': 0.5533333333333333, 'num_fetures': 92}\n{'name': 'CART', 'score': 0.5677777777777778, 'num_fetures': 99}\n{'name': 'CART', 'score': 0.5555555555555556, 'num_fetures': 110}\n{'name': 'KNN', 'score': 0.5877777777777778, 'num_fetures': 120}\n{'name': 'SVM', 'score': 0.5411111111111111, 'num_fetures': 132}\n{'name': 'SVM', 'score': 0.5411111111111111, 'num_fetures': 142}\n{'name': 'SVM', 'score': 0.5411111111111111, 'num_fetures': 147}\n{'name': 'SVM', 'score': 0.5411111111111111, 'num_fetures': 157}\n{'name': 'LDA', 'score': 0.5555555555555556, 'num_fetures': 169}\n{'name': 'LDA', 'score': 0.5566666666666668, 'num_fetures': 184}\n{'name': 'LDA', 'score': 0.5444444444444445, 'num_fetures': 192}\n{'name': 'CART', 'score': 0.5422222222222222, 'num_fetures': 205}\n{'name': 'SVM', 'score': 0.5411111111111111, 'num_fetures': 208}\n{'name': 'SVM', 'score': 0.5411111111111111, 'num_fetures': 218}\n{'name': 'SVM', 'score': 0.5411111111111111, 'num_fetures': 227}\n{'name': 'SVM', 'score': 0.5411111111111111, 'num_fetures': 241}\n{'name': 'SVM', 'score': 0.5411111111111111, 'num_fetures': 256}\n{'name': 'KNN', 'score': 0.5533333333333335, 'num_fetures': 264}\n{'name': 'CART', 'score': 0.5655555555555556, 'num_fetures': 280}\n{'name': 'SVM', 'score': 0.5411111111111111, 'num_fetures': 286}\n{'name': 'SVM', 'score': 0.5411111111111111, 'num_fetures': 303}\n{'name': 'SVM', 'score': 0.5411111111111111, 'num_fetures': 318}\n{'name': 'SVM', 'score': 0.5411111111111111, 'num_fetures': 327}\n{'name': 'SVM', 'score': 0.5411111111111111, 'num_fetures': 342}\n{'name': 'SVM', 'score': 0.5411111111111111, 'num_fetures': 356}\n{'name': 'SVM', 'score': 0.5411111111111111, 'num_fetures': 369}\n{'name': 'SVM', 'score': 0.5411111111111111, 'num_fetures': 388}\n{'name': 'SVM', 'score': 0.5411111111111111, 'num_fetures': 402}\n{'name': 'SVM', 'score': 0.5411111111111111, 'num_fetures': 417}\n{'name': 'SVM', 'score': 0.5411111111111111, 'num_fetures': 430}\n{'name': 'SVM', 'score': 0.5411111111111111, 'num_fetures': 448}\n{'name': 'SVM', 'score': 0.5411111111111111, 'num_fetures': 469}\n{'name': 'CART', 'score': 0.5744444444444443, 'num_fetures': 487}\n{'name': 'SVM', 'score': 0.5411111111111111, 'num_fetures': 506}\n{'name': 'SVM', 'score': 0.5411111111111111, 'num_fetures': 527}\n{'name': 'CART', 'score': 0.5644444444444445, 'num_fetures': 547}\n{'name': 'SVM', 'score': 0.5411111111111111, 'num_fetures': 568}\n{'name': 'SVM', 'score': 0.5411111111111111, 'num_fetures': 587}\n{'name': 'SVM', 'score': 0.5411111111111111, 'num_fetures': 603}\n{'name': 'CART', 'score': 0.5422222222222223, 'num_fetures': 628}\n{'name': 'CART', 'score': 0.5411111111111111, 'num_fetures': 652}\n{'name': 'SVM', 'score': 0.5411111111111111, 'num_fetures': 675}\n{'name': 'SVM', 'score': 0.5411111111111111, 'num_fetures': 701}\n{'name': 'SVM', 'score': 0.5411111111111111, 'num_fetures': 724}\n{'name': 'SVM', 'score': 0.5411111111111111, 'num_fetures': 745}\n{'name': 'SVM', 'score': 0.5411111111111111, 'num_fetures': 764}\n{'name': 'SVM', 'score': 0.5411111111111111, 'num_fetures': 788}\n{'name': 'SVM', 'score': 0.5411111111111111, 'num_fetures': 816}\n{'name': 'SVM', 'score': 0.5411111111111111, 'num_fetures': 842}\n{'name': 'SVM', 'score': 0.5411111111111111, 'num_fetures': 866}\n{'name': 'SVM', 'score': 0.5411111111111111, 'num_fetures': 894}\n{'name': 'SVM', 'score': 0.5411111111111111, 'num_fetures': 931}\n{'name': 'SVM', 'score': 0.5411111111111111, 'num_fetures': 956}\n{'name': 'SVM', 'score': 0.5411111111111111, 'num_fetures': 975}\n{'name': 'SVM', 'score': 0.5411111111111111, 'num_fetures': 1008}\n{'name': 'SVM', 'score': 0.5411111111111111, 'num_fetures': 1052}\n{'name': 'SVM', 'score': 0.5411111111111111, 'num_fetures': 1076}\n{'name': 'SVM', 'score': 0.5411111111111111, 'num_fetures': 1115}\n{'name': 'SVM', 'score': 0.5411111111111111, 'num_fetures': 1153}\n{'name': 'SVM', 'score': 0.5411111111111111, 'num_fetures': 1187}\n{'name': 'SVM', 'score': 0.5411111111111111, 'num_fetures': 1222}\n{'name': 'SVM', 'score': 0.5411111111111111, 'num_fetures': 1266}\n{'name': 'SVM', 'score': 0.5411111111111111, 'num_fetures': 1314}\n{'name': 'CART', 'score': 0.6000000000000001, 'num_fetures': 1356}\n{'name': 'LDA', 'score': 0.5966666666666667, 'num_fetures': 1401}\n{'name': 'LDA', 'score': 0.66, 'num_fetures': 1445}\n{'name': 'LDA', 'score': 0.5966666666666666, 'num_fetures': 1507}\n{'name': 'LDA', 'score': 0.62, 'num_fetures': 1557}\n{'name': 'LDA', 'score': 0.6188888888888888, 'num_fetures': 1618}\n{'name': 'LDA', 'score': 0.6177777777777778, 'num_fetures': 1684}\n{'name': 'KNN', 'score': 0.5755555555555555, 'num_fetures': 1741}\n{'name': 'LDA', 'score': 0.64, 'num_fetures': 1803}\n{'name': 'KNN', 'score': 0.5544444444444444, 'num_fetures': 1877}\n{'name': 'LDA', 'score': 0.5833333333333333, 'num_fetures': 1963}\n{'name': 'KNN', 'score': 0.5411111111111111, 'num_fetures': 2058}\n{'name': 'LDA', 'score': 0.5655555555555556, 'num_fetures': 2145}\n{'name': 'KNN', 'score': 0.5622222222222223, 'num_fetures': 2268}\n{'name': 'KNN', 'score': 0.5511111111111111, 'num_fetures': 2394}\n{'name': 'KNN', 'score': 0.5844444444444445, 'num_fetures': 2559}\n{'name': 'LDA', 'score': 0.5733333333333334, 'num_fetures': 2721}\n{'name': 'LDA', 'score': 0.5744444444444444, 'num_fetures': 2920}\n{'name': 'NB', 'score': 0.5744444444444444, 'num_fetures': 3144}\n{'name': 'LR', 'score': 0.5955555555555556, 'num_fetures': 3415}\n{'name': 'LR', 'score': 0.5855555555555556, 'num_fetures': 3752}\n{'name': 'NB', 'score': 0.5844444444444444, 'num_fetures': 4217}\n{'name': 'NB', 'score': 0.5755555555555556, 'num_fetures': 4760}\n{'name': 'LDA', 'score': 0.5844444444444444, 'num_fetures': 5392}\n{'name': 'NB', 'score': 0.5966666666666667, 'num_fetures': 6165}\n{'name': 'CART', 'score': 0.6644444444444444, 'num_fetures': 7232}\n{'name': 'CART', 'score': 0.6966666666666667, 'num_fetures': 8539}\n{'name': 'LR', 'score': 0.6288888888888888, 'num_fetures': 10262}\n{'name': 'CART', 'score': 0.6399999999999999, 'num_fetures': 12336}\n{'name': 'LR', 'score': 0.65, 'num_fetures': 15025}\n{'name': 'LR', 'score': 0.648888888888889, 'num_fetures': 18359}\n{'name': 'LR', 'score': 0.6711111111111112, 'num_fetures': 22505}\n{'name': 'LR', 'score': 0.6711111111111112, 'num_fetures': 27664}\n{'name': 'LR', 'score': 0.6922222222222223, 'num_fetures': 33933}\n{'name': 'LR', 'score': 0.6922222222222223, 'num_fetures': 41348}\n{'name': 'LDA', 'score': 0.6822222222222221, 'num_fetures': 50475}\n{'name': 'LR', 'score': 0.6922222222222223, 'num_fetures': 61656}\n{'name': 'LR', 'score': 0.6922222222222223, 'num_fetures': 74962}\n{'name': 'LR', 'score': 0.7033333333333334, 'num_fetures': 90282}\n{'name': 'LR', 'score': 0.7144444444444445, 'num_fetures': 108368}\n{'name': 'LR', 'score': 0.7033333333333334, 'num_fetures': 129439}\n{'name': 'LR', 'score': 0.7033333333333334, 'num_fetures': 153725}\n{'name': 'LR', 'score': 0.7033333333333334, 'num_fetures': 181350}\n{'name': 'LR', 'score': 0.6922222222222223, 'num_fetures': 212518}\n{'name': 'LR', 'score': 0.6933333333333334, 'num_fetures': 249789}\n{'name': 'LR', 'score': 0.6933333333333334, 'num_fetures': 300021}\n{'name': 'LR', 'score': 0.7144444444444444, 'num_fetures': 418976}\n"
     ]
    },
    {
     "ename": "NameError",
     "evalue": "name 'new_shape' is not defined",
     "traceback": [
      "\u001b[0;31m---------------------------------------------------------------------------\u001b[0m",
      "\u001b[0;31mNameError\u001b[0m                                 Traceback (most recent call last)",
      "\u001b[0;32m<ipython-input-12-e3095f4d881f>\u001b[0m in \u001b[0;36m<module>\u001b[0;34m()\u001b[0m\n\u001b[1;32m      1\u001b[0m \u001b[0;32mfor\u001b[0m \u001b[0mbest\u001b[0m \u001b[0;32min\u001b[0m \u001b[0mbest_tr_results\u001b[0m\u001b[0;34m:\u001b[0m\u001b[0;34m\u001b[0m\u001b[0m\n\u001b[1;32m      2\u001b[0m     \u001b[0mprint\u001b[0m\u001b[0;34m(\u001b[0m\u001b[0mbest\u001b[0m\u001b[0;34m)\u001b[0m\u001b[0;34m\u001b[0m\u001b[0m\n\u001b[0;32m----> 3\u001b[0;31m \u001b[0mplt\u001b[0m\u001b[0;34m.\u001b[0m\u001b[0mplot\u001b[0m\u001b[0;34m(\u001b[0m\u001b[0mrange\u001b[0m\u001b[0;34m,\u001b[0m \u001b[0mnew_shape\u001b[0m\u001b[0;34m)\u001b[0m\u001b[0;34m\u001b[0m\u001b[0m\n\u001b[0m",
      "\u001b[0;31mNameError\u001b[0m: name 'new_shape' is not defined"
     ],
     "output_type": "error"
    }
   ],
   "source": [
    "    for best in best_tr_results:\n",
    "        print(best)\n",
    "    plt.plot(range, new_shape)"
   ]
  },
  {
   "cell_type": "code",
   "execution_count": null,
   "metadata": {},
   "outputs": [
    {
     "data": {
      "text/markdown": [
       "**Training Section** for: 418976 features"
      ],
      "text/plain": [
       "<IPython.core.display.Markdown object>"
      ]
     },
     "metadata": {},
     "output_type": "display_data"
    },
    {
     "name": "stderr",
     "output_type": "stream",
     "text": [
      "C:\\Users\\motybz\\Anaconda3\\envs\\lib\\site-packages\\sklearn\\discriminant_analysis.py:388: UserWarning: Variables are collinear.\n  warnings.warn(\"Variables are collinear.\")\n"
     ]
    },
    {
     "name": "stderr",
     "output_type": "stream",
     "text": [
      "C:\\Users\\motybz\\Anaconda3\\envs\\lib\\site-packages\\sklearn\\discriminant_analysis.py:388: UserWarning: Variables are collinear.\n  warnings.warn(\"Variables are collinear.\")\n"
     ]
    },
    {
     "name": "stderr",
     "output_type": "stream",
     "text": [
      "C:\\Users\\motybz\\Anaconda3\\envs\\lib\\site-packages\\sklearn\\discriminant_analysis.py:388: UserWarning: Variables are collinear.\n  warnings.warn(\"Variables are collinear.\")\n"
     ]
    },
    {
     "name": "stderr",
     "output_type": "stream",
     "text": [
      "C:\\Users\\motybz\\Anaconda3\\envs\\lib\\site-packages\\sklearn\\discriminant_analysis.py:388: UserWarning: Variables are collinear.\n  warnings.warn(\"Variables are collinear.\")\n"
     ]
    },
    {
     "name": "stderr",
     "output_type": "stream",
     "text": [
      "C:\\Users\\motybz\\Anaconda3\\envs\\lib\\site-packages\\sklearn\\discriminant_analysis.py:388: UserWarning: Variables are collinear.\n  warnings.warn(\"Variables are collinear.\")\n"
     ]
    },
    {
     "name": "stderr",
     "output_type": "stream",
     "text": [
      "C:\\Users\\motybz\\Anaconda3\\envs\\lib\\site-packages\\sklearn\\discriminant_analysis.py:388: UserWarning: Variables are collinear.\n  warnings.warn(\"Variables are collinear.\")\n"
     ]
    },
    {
     "name": "stderr",
     "output_type": "stream",
     "text": [
      "C:\\Users\\motybz\\Anaconda3\\envs\\lib\\site-packages\\sklearn\\discriminant_analysis.py:388: UserWarning: Variables are collinear.\n  warnings.warn(\"Variables are collinear.\")\n"
     ]
    },
    {
     "name": "stderr",
     "output_type": "stream",
     "text": [
      "C:\\Users\\motybz\\Anaconda3\\envs\\lib\\site-packages\\sklearn\\discriminant_analysis.py:388: UserWarning: Variables are collinear.\n  warnings.warn(\"Variables are collinear.\")\n"
     ]
    },
    {
     "name": "stderr",
     "output_type": "stream",
     "text": [
      "C:\\Users\\motybz\\Anaconda3\\envs\\lib\\site-packages\\sklearn\\discriminant_analysis.py:388: UserWarning: Variables are collinear.\n  warnings.warn(\"Variables are collinear.\")\n"
     ]
    },
    {
     "name": "stderr",
     "output_type": "stream",
     "text": [
      "C:\\Users\\motybz\\Anaconda3\\envs\\lib\\site-packages\\sklearn\\discriminant_analysis.py:388: UserWarning: Variables are collinear.\n  warnings.warn(\"Variables are collinear.\")\n"
     ]
    },
    {
     "data": {
      "image/png": "[encoded data removed]",
      "text/plain": [
       "<matplotlib.figure.Figure at 0x26e0470e128>"
      ]
     },
     "metadata": {},
     "output_type": "display_data"
    },
    {
     "data": {
      "text/markdown": [
       "The best model for the given data is: <span style=\"color:green\">LR</span> with the score <span style=\"color:green\">0.7144444444444444</span>"
      ],
      "text/plain": [
       "<IPython.core.display.Markdown object>"
      ]
     },
     "metadata": {},
     "output_type": "display_data"
    },
    {
     "name": "stdout",
     "output_type": "stream",
     "text": [
      "{'name': 'LR', 'score': 0.7144444444444444}\n{'name': 'LDA', 'score': 0.6266666666666667}\n{'name': 'KNN', 'score': 0.5822222222222223}\n{'name': 'CART', 'score': 0.62}\n{'name': 'NB', 'score': 0.6177777777777778}\n{'name': 'SVM', 'score': 0.5411111111111111}\n"
     ]
    },
    {
     "data": {
      "text/markdown": [
       "**Training Section** for: 300021 features"
      ],
      "text/plain": [
       "<IPython.core.display.Markdown object>"
      ]
     },
     "metadata": {},
     "output_type": "display_data"
    },
    {
     "name": "stderr",
     "output_type": "stream",
     "text": [
      "C:\\Users\\motybz\\Anaconda3\\envs\\lib\\site-packages\\sklearn\\discriminant_analysis.py:388: UserWarning: Variables are collinear.\n  warnings.warn(\"Variables are collinear.\")\n"
     ]
    },
    {
     "name": "stderr",
     "output_type": "stream",
     "text": [
      "C:\\Users\\motybz\\Anaconda3\\envs\\lib\\site-packages\\sklearn\\discriminant_analysis.py:388: UserWarning: Variables are collinear.\n  warnings.warn(\"Variables are collinear.\")\n"
     ]
    },
    {
     "name": "stderr",
     "output_type": "stream",
     "text": [
      "C:\\Users\\motybz\\Anaconda3\\envs\\lib\\site-packages\\sklearn\\discriminant_analysis.py:388: UserWarning: Variables are collinear.\n  warnings.warn(\"Variables are collinear.\")\n"
     ]
    },
    {
     "name": "stderr",
     "output_type": "stream",
     "text": [
      "C:\\Users\\motybz\\Anaconda3\\envs\\lib\\site-packages\\sklearn\\discriminant_analysis.py:388: UserWarning: Variables are collinear.\n  warnings.warn(\"Variables are collinear.\")\n"
     ]
    },
    {
     "name": "stderr",
     "output_type": "stream",
     "text": [
      "C:\\Users\\motybz\\Anaconda3\\envs\\lib\\site-packages\\sklearn\\discriminant_analysis.py:388: UserWarning: Variables are collinear.\n  warnings.warn(\"Variables are collinear.\")\n"
     ]
    },
    {
     "name": "stderr",
     "output_type": "stream",
     "text": [
      "C:\\Users\\motybz\\Anaconda3\\envs\\lib\\site-packages\\sklearn\\discriminant_analysis.py:388: UserWarning: Variables are collinear.\n  warnings.warn(\"Variables are collinear.\")\n"
     ]
    },
    {
     "name": "stderr",
     "output_type": "stream",
     "text": [
      "C:\\Users\\motybz\\Anaconda3\\envs\\lib\\site-packages\\sklearn\\discriminant_analysis.py:388: UserWarning: Variables are collinear.\n  warnings.warn(\"Variables are collinear.\")\n"
     ]
    },
    {
     "name": "stderr",
     "output_type": "stream",
     "text": [
      "C:\\Users\\motybz\\Anaconda3\\envs\\lib\\site-packages\\sklearn\\discriminant_analysis.py:388: UserWarning: Variables are collinear.\n  warnings.warn(\"Variables are collinear.\")\n"
     ]
    },
    {
     "name": "stderr",
     "output_type": "stream",
     "text": [
      "C:\\Users\\motybz\\Anaconda3\\envs\\lib\\site-packages\\sklearn\\discriminant_analysis.py:388: UserWarning: Variables are collinear.\n  warnings.warn(\"Variables are collinear.\")\n"
     ]
    },
    {
     "name": "stderr",
     "output_type": "stream",
     "text": [
      "C:\\Users\\motybz\\Anaconda3\\envs\\lib\\site-packages\\sklearn\\discriminant_analysis.py:388: UserWarning: Variables are collinear.\n  warnings.warn(\"Variables are collinear.\")\n"
     ]
    },
    {
     "data": {
      "image/png": "[encoded data removed]",
      "text/plain": [
       "<matplotlib.figure.Figure at 0x26e02f1f9e8>"
      ]
     },
     "metadata": {},
     "output_type": "display_data"
    },
    {
     "data": {
      "text/markdown": [
       "The best model for the given data is: <span style=\"color:green\">LR</span> with the score <span style=\"color:green\">0.6933333333333334</span>"
      ],
      "text/plain": [
       "<IPython.core.display.Markdown object>"
      ]
     },
     "metadata": {},
     "output_type": "display_data"
    },
    {
     "name": "stdout",
     "output_type": "stream",
     "text": [
      "{'name': 'LR', 'score': 0.6933333333333334}\n{'name': 'LDA', 'score': 0.6166666666666666}\n{'name': 'KNN', 'score': 0.5822222222222222}\n{'name': 'CART', 'score': 0.5977777777777777}\n{'name': 'NB', 'score': 0.6211111111111112}\n{'name': 'SVM', 'score': 0.5411111111111111}\n"
     ]
    },
    {
     "data": {
      "text/markdown": [
       "**Training Section** for: 249789 features"
      ],
      "text/plain": [
       "<IPython.core.display.Markdown object>"
      ]
     },
     "metadata": {},
     "output_type": "display_data"
    },
    {
     "name": "stderr",
     "output_type": "stream",
     "text": [
      "C:\\Users\\motybz\\Anaconda3\\envs\\lib\\site-packages\\sklearn\\discriminant_analysis.py:388: UserWarning: Variables are collinear.\n  warnings.warn(\"Variables are collinear.\")\n"
     ]
    },
    {
     "name": "stderr",
     "output_type": "stream",
     "text": [
      "C:\\Users\\motybz\\Anaconda3\\envs\\lib\\site-packages\\sklearn\\discriminant_analysis.py:388: UserWarning: Variables are collinear.\n  warnings.warn(\"Variables are collinear.\")\n"
     ]
    },
    {
     "name": "stderr",
     "output_type": "stream",
     "text": [
      "C:\\Users\\motybz\\Anaconda3\\envs\\lib\\site-packages\\sklearn\\discriminant_analysis.py:388: UserWarning: Variables are collinear.\n  warnings.warn(\"Variables are collinear.\")\n"
     ]
    },
    {
     "name": "stderr",
     "output_type": "stream",
     "text": [
      "C:\\Users\\motybz\\Anaconda3\\envs\\lib\\site-packages\\sklearn\\discriminant_analysis.py:388: UserWarning: Variables are collinear.\n  warnings.warn(\"Variables are collinear.\")\n"
     ]
    },
    {
     "name": "stderr",
     "output_type": "stream",
     "text": [
      "C:\\Users\\motybz\\Anaconda3\\envs\\lib\\site-packages\\sklearn\\discriminant_analysis.py:388: UserWarning: Variables are collinear.\n  warnings.warn(\"Variables are collinear.\")\n"
     ]
    },
    {
     "name": "stderr",
     "output_type": "stream",
     "text": [
      "C:\\Users\\motybz\\Anaconda3\\envs\\lib\\site-packages\\sklearn\\discriminant_analysis.py:388: UserWarning: Variables are collinear.\n  warnings.warn(\"Variables are collinear.\")\n"
     ]
    },
    {
     "name": "stderr",
     "output_type": "stream",
     "text": [
      "C:\\Users\\motybz\\Anaconda3\\envs\\lib\\site-packages\\sklearn\\discriminant_analysis.py:388: UserWarning: Variables are collinear.\n  warnings.warn(\"Variables are collinear.\")\n"
     ]
    },
    {
     "name": "stderr",
     "output_type": "stream",
     "text": [
      "C:\\Users\\motybz\\Anaconda3\\envs\\lib\\site-packages\\sklearn\\discriminant_analysis.py:388: UserWarning: Variables are collinear.\n  warnings.warn(\"Variables are collinear.\")\n"
     ]
    },
    {
     "name": "stderr",
     "output_type": "stream",
     "text": [
      "C:\\Users\\motybz\\Anaconda3\\envs\\lib\\site-packages\\sklearn\\discriminant_analysis.py:388: UserWarning: Variables are collinear.\n  warnings.warn(\"Variables are collinear.\")\n"
     ]
    },
    {
     "name": "stderr",
     "output_type": "stream",
     "text": [
      "C:\\Users\\motybz\\Anaconda3\\envs\\lib\\site-packages\\sklearn\\discriminant_analysis.py:388: UserWarning: Variables are collinear.\n  warnings.warn(\"Variables are collinear.\")\n"
     ]
    },
    {
     "data": {
      "image/png": "[encoded data removed]",
      "text/plain": [
       "<matplotlib.figure.Figure at 0x26e02f13e10>"
      ]
     },
     "metadata": {},
     "output_type": "display_data"
    },
    {
     "data": {
      "text/markdown": [
       "The best model for the given data is: <span style=\"color:green\">LR</span> with the score <span style=\"color:green\">0.6933333333333334</span>"
      ],
      "text/plain": [
       "<IPython.core.display.Markdown object>"
      ]
     },
     "metadata": {},
     "output_type": "display_data"
    },
    {
     "name": "stdout",
     "output_type": "stream",
     "text": [
      "{'name': 'LR', 'score': 0.6933333333333334}\n{'name': 'LDA', 'score': 0.6277777777777778}\n{'name': 'KNN', 'score': 0.5933333333333334}\n{'name': 'CART', 'score': 0.5211111111111111}\n{'name': 'NB', 'score': 0.598888888888889}\n{'name': 'SVM', 'score': 0.5411111111111111}\n"
     ]
    },
    {
     "data": {
      "text/markdown": [
       "**Training Section** for: 212518 features"
      ],
      "text/plain": [
       "<IPython.core.display.Markdown object>"
      ]
     },
     "metadata": {},
     "output_type": "display_data"
    },
    {
     "name": "stderr",
     "output_type": "stream",
     "text": [
      "C:\\Users\\motybz\\Anaconda3\\envs\\lib\\site-packages\\sklearn\\discriminant_analysis.py:388: UserWarning: Variables are collinear.\n  warnings.warn(\"Variables are collinear.\")\n"
     ]
    },
    {
     "name": "stderr",
     "output_type": "stream",
     "text": [
      "C:\\Users\\motybz\\Anaconda3\\envs\\lib\\site-packages\\sklearn\\discriminant_analysis.py:388: UserWarning: Variables are collinear.\n  warnings.warn(\"Variables are collinear.\")\n"
     ]
    },
    {
     "name": "stderr",
     "output_type": "stream",
     "text": [
      "C:\\Users\\motybz\\Anaconda3\\envs\\lib\\site-packages\\sklearn\\discriminant_analysis.py:388: UserWarning: Variables are collinear.\n  warnings.warn(\"Variables are collinear.\")\n"
     ]
    },
    {
     "name": "stderr",
     "output_type": "stream",
     "text": [
      "C:\\Users\\motybz\\Anaconda3\\envs\\lib\\site-packages\\sklearn\\discriminant_analysis.py:388: UserWarning: Variables are collinear.\n  warnings.warn(\"Variables are collinear.\")\n"
     ]
    },
    {
     "name": "stderr",
     "output_type": "stream",
     "text": [
      "C:\\Users\\motybz\\Anaconda3\\envs\\lib\\site-packages\\sklearn\\discriminant_analysis.py:388: UserWarning: Variables are collinear.\n  warnings.warn(\"Variables are collinear.\")\n"
     ]
    },
    {
     "name": "stderr",
     "output_type": "stream",
     "text": [
      "C:\\Users\\motybz\\Anaconda3\\envs\\lib\\site-packages\\sklearn\\discriminant_analysis.py:388: UserWarning: Variables are collinear.\n  warnings.warn(\"Variables are collinear.\")\n"
     ]
    },
    {
     "name": "stderr",
     "output_type": "stream",
     "text": [
      "C:\\Users\\motybz\\Anaconda3\\envs\\lib\\site-packages\\sklearn\\discriminant_analysis.py:388: UserWarning: Variables are collinear.\n  warnings.warn(\"Variables are collinear.\")\n"
     ]
    },
    {
     "name": "stderr",
     "output_type": "stream",
     "text": [
      "C:\\Users\\motybz\\Anaconda3\\envs\\lib\\site-packages\\sklearn\\discriminant_analysis.py:388: UserWarning: Variables are collinear.\n  warnings.warn(\"Variables are collinear.\")\n"
     ]
    },
    {
     "name": "stderr",
     "output_type": "stream",
     "text": [
      "C:\\Users\\motybz\\Anaconda3\\envs\\lib\\site-packages\\sklearn\\discriminant_analysis.py:388: UserWarning: Variables are collinear.\n  warnings.warn(\"Variables are collinear.\")\n"
     ]
    },
    {
     "name": "stderr",
     "output_type": "stream",
     "text": [
      "C:\\Users\\motybz\\Anaconda3\\envs\\lib\\site-packages\\sklearn\\discriminant_analysis.py:388: UserWarning: Variables are collinear.\n  warnings.warn(\"Variables are collinear.\")\n"
     ]
    },
    {
     "data": {
      "image/png": "[encoded data removed]",
      "text/plain": [
       "<matplotlib.figure.Figure at 0x26e017b6d30>"
      ]
     },
     "metadata": {},
     "output_type": "display_data"
    },
    {
     "data": {
      "text/markdown": [
       "The best model for the given data is: <span style=\"color:green\">LR</span> with the score <span style=\"color:green\">0.6922222222222223</span>"
      ],
      "text/plain": [
       "<IPython.core.display.Markdown object>"
      ]
     },
     "metadata": {},
     "output_type": "display_data"
    },
    {
     "name": "stdout",
     "output_type": "stream",
     "text": [
      "{'name': 'LR', 'score': 0.6922222222222223}\n{'name': 'LDA', 'score': 0.6488888888888888}\n{'name': 'KNN', 'score': 0.56}\n{'name': 'CART', 'score': 0.5544444444444444}\n{'name': 'NB', 'score': 0.5888888888888889}\n{'name': 'SVM', 'score': 0.5411111111111111}\n"
     ]
    },
    {
     "data": {
      "text/markdown": [
       "**Training Section** for: 181350 features"
      ],
      "text/plain": [
       "<IPython.core.display.Markdown object>"
      ]
     },
     "metadata": {},
     "output_type": "display_data"
    },
    {
     "name": "stderr",
     "output_type": "stream",
     "text": [
      "C:\\Users\\motybz\\Anaconda3\\envs\\lib\\site-packages\\sklearn\\discriminant_analysis.py:388: UserWarning: Variables are collinear.\n  warnings.warn(\"Variables are collinear.\")\n"
     ]
    },
    {
     "name": "stderr",
     "output_type": "stream",
     "text": [
      "C:\\Users\\motybz\\Anaconda3\\envs\\lib\\site-packages\\sklearn\\discriminant_analysis.py:388: UserWarning: Variables are collinear.\n  warnings.warn(\"Variables are collinear.\")\n"
     ]
    },
    {
     "name": "stderr",
     "output_type": "stream",
     "text": [
      "C:\\Users\\motybz\\Anaconda3\\envs\\lib\\site-packages\\sklearn\\discriminant_analysis.py:388: UserWarning: Variables are collinear.\n  warnings.warn(\"Variables are collinear.\")\n"
     ]
    },
    {
     "name": "stderr",
     "output_type": "stream",
     "text": [
      "C:\\Users\\motybz\\Anaconda3\\envs\\lib\\site-packages\\sklearn\\discriminant_analysis.py:388: UserWarning: Variables are collinear.\n  warnings.warn(\"Variables are collinear.\")\n"
     ]
    },
    {
     "name": "stderr",
     "output_type": "stream",
     "text": [
      "C:\\Users\\motybz\\Anaconda3\\envs\\lib\\site-packages\\sklearn\\discriminant_analysis.py:388: UserWarning: Variables are collinear.\n  warnings.warn(\"Variables are collinear.\")\n"
     ]
    },
    {
     "name": "stderr",
     "output_type": "stream",
     "text": [
      "C:\\Users\\motybz\\Anaconda3\\envs\\lib\\site-packages\\sklearn\\discriminant_analysis.py:388: UserWarning: Variables are collinear.\n  warnings.warn(\"Variables are collinear.\")\n"
     ]
    },
    {
     "name": "stderr",
     "output_type": "stream",
     "text": [
      "C:\\Users\\motybz\\Anaconda3\\envs\\lib\\site-packages\\sklearn\\discriminant_analysis.py:388: UserWarning: Variables are collinear.\n  warnings.warn(\"Variables are collinear.\")\n"
     ]
    },
    {
     "name": "stderr",
     "output_type": "stream",
     "text": [
      "C:\\Users\\motybz\\Anaconda3\\envs\\lib\\site-packages\\sklearn\\discriminant_analysis.py:388: UserWarning: Variables are collinear.\n  warnings.warn(\"Variables are collinear.\")\n"
     ]
    },
    {
     "name": "stderr",
     "output_type": "stream",
     "text": [
      "C:\\Users\\motybz\\Anaconda3\\envs\\lib\\site-packages\\sklearn\\discriminant_analysis.py:388: UserWarning: Variables are collinear.\n  warnings.warn(\"Variables are collinear.\")\n"
     ]
    },
    {
     "name": "stderr",
     "output_type": "stream",
     "text": [
      "C:\\Users\\motybz\\Anaconda3\\envs\\lib\\site-packages\\sklearn\\discriminant_analysis.py:388: UserWarning: Variables are collinear.\n  warnings.warn(\"Variables are collinear.\")\n"
     ]
    },
    {
     "data": {
      "image/png": "[encoded data removed]",
      "text/plain": [
       "<matplotlib.figure.Figure at 0x26e04687b00>"
      ]
     },
     "metadata": {},
     "output_type": "display_data"
    },
    {
     "data": {
      "text/markdown": [
       "The best model for the given data is: <span style=\"color:green\">LR</span> with the score <span style=\"color:green\">0.7033333333333334</span>"
      ],
      "text/plain": [
       "<IPython.core.display.Markdown object>"
      ]
     },
     "metadata": {},
     "output_type": "display_data"
    },
    {
     "name": "stdout",
     "output_type": "stream",
     "text": [
      "{'name': 'LR', 'score': 0.7033333333333334}\n{'name': 'LDA', 'score': 0.6488888888888888}\n{'name': 'KNN', 'score': 0.5811111111111111}\n{'name': 'CART', 'score': 0.5466666666666666}\n{'name': 'NB', 'score': 0.5333333333333334}\n{'name': 'SVM', 'score': 0.5411111111111111}\n"
     ]
    },
    {
     "data": {
      "text/markdown": [
       "**Training Section** for: 153725 features"
      ],
      "text/plain": [
       "<IPython.core.display.Markdown object>"
      ]
     },
     "metadata": {},
     "output_type": "display_data"
    },
    {
     "name": "stderr",
     "output_type": "stream",
     "text": [
      "C:\\Users\\motybz\\Anaconda3\\envs\\lib\\site-packages\\sklearn\\discriminant_analysis.py:388: UserWarning: Variables are collinear.\n  warnings.warn(\"Variables are collinear.\")\n"
     ]
    },
    {
     "name": "stderr",
     "output_type": "stream",
     "text": [
      "C:\\Users\\motybz\\Anaconda3\\envs\\lib\\site-packages\\sklearn\\discriminant_analysis.py:388: UserWarning: Variables are collinear.\n  warnings.warn(\"Variables are collinear.\")\n"
     ]
    },
    {
     "name": "stderr",
     "output_type": "stream",
     "text": [
      "C:\\Users\\motybz\\Anaconda3\\envs\\lib\\site-packages\\sklearn\\discriminant_analysis.py:388: UserWarning: Variables are collinear.\n  warnings.warn(\"Variables are collinear.\")\n"
     ]
    },
    {
     "name": "stderr",
     "output_type": "stream",
     "text": [
      "C:\\Users\\motybz\\Anaconda3\\envs\\lib\\site-packages\\sklearn\\discriminant_analysis.py:388: UserWarning: Variables are collinear.\n  warnings.warn(\"Variables are collinear.\")\n"
     ]
    },
    {
     "name": "stderr",
     "output_type": "stream",
     "text": [
      "C:\\Users\\motybz\\Anaconda3\\envs\\lib\\site-packages\\sklearn\\discriminant_analysis.py:388: UserWarning: Variables are collinear.\n  warnings.warn(\"Variables are collinear.\")\n"
     ]
    },
    {
     "name": "stderr",
     "output_type": "stream",
     "text": [
      "C:\\Users\\motybz\\Anaconda3\\envs\\lib\\site-packages\\sklearn\\discriminant_analysis.py:388: UserWarning: Variables are collinear.\n  warnings.warn(\"Variables are collinear.\")\n"
     ]
    },
    {
     "name": "stderr",
     "output_type": "stream",
     "text": [
      "C:\\Users\\motybz\\Anaconda3\\envs\\lib\\site-packages\\sklearn\\discriminant_analysis.py:388: UserWarning: Variables are collinear.\n  warnings.warn(\"Variables are collinear.\")\n"
     ]
    },
    {
     "name": "stderr",
     "output_type": "stream",
     "text": [
      "C:\\Users\\motybz\\Anaconda3\\envs\\lib\\site-packages\\sklearn\\discriminant_analysis.py:388: UserWarning: Variables are collinear.\n  warnings.warn(\"Variables are collinear.\")\n"
     ]
    },
    {
     "name": "stderr",
     "output_type": "stream",
     "text": [
      "C:\\Users\\motybz\\Anaconda3\\envs\\lib\\site-packages\\sklearn\\discriminant_analysis.py:388: UserWarning: Variables are collinear.\n  warnings.warn(\"Variables are collinear.\")\n"
     ]
    },
    {
     "name": "stderr",
     "output_type": "stream",
     "text": [
      "C:\\Users\\motybz\\Anaconda3\\envs\\lib\\site-packages\\sklearn\\discriminant_analysis.py:388: UserWarning: Variables are collinear.\n  warnings.warn(\"Variables are collinear.\")\n"
     ]
    },
    {
     "data": {
      "image/png": "[encoded data removed]",
      "text/plain": [
       "<matplotlib.figure.Figure at 0x26e01732518>"
      ]
     },
     "metadata": {},
     "output_type": "display_data"
    },
    {
     "data": {
      "text/markdown": [
       "The best model for the given data is: <span style=\"color:green\">LR</span> with the score <span style=\"color:green\">0.7033333333333334</span>"
      ],
      "text/plain": [
       "<IPython.core.display.Markdown object>"
      ]
     },
     "metadata": {},
     "output_type": "display_data"
    },
    {
     "name": "stdout",
     "output_type": "stream",
     "text": [
      "{'name': 'LR', 'score': 0.7033333333333334}\n{'name': 'LDA', 'score': 0.6599999999999999}\n{'name': 'KNN', 'score': 0.5922222222222222}\n{'name': 'CART', 'score': 0.6533333333333333}\n{'name': 'NB', 'score': 0.5344444444444444}\n{'name': 'SVM', 'score': 0.5411111111111111}\n"
     ]
    },
    {
     "data": {
      "text/markdown": [
       "**Training Section** for: 129439 features"
      ],
      "text/plain": [
       "<IPython.core.display.Markdown object>"
      ]
     },
     "metadata": {},
     "output_type": "display_data"
    },
    {
     "name": "stderr",
     "output_type": "stream",
     "text": [
      "C:\\Users\\motybz\\Anaconda3\\envs\\lib\\site-packages\\sklearn\\discriminant_analysis.py:388: UserWarning: Variables are collinear.\n  warnings.warn(\"Variables are collinear.\")\n"
     ]
    },
    {
     "name": "stderr",
     "output_type": "stream",
     "text": [
      "C:\\Users\\motybz\\Anaconda3\\envs\\lib\\site-packages\\sklearn\\discriminant_analysis.py:388: UserWarning: Variables are collinear.\n  warnings.warn(\"Variables are collinear.\")\n"
     ]
    },
    {
     "name": "stderr",
     "output_type": "stream",
     "text": [
      "C:\\Users\\motybz\\Anaconda3\\envs\\lib\\site-packages\\sklearn\\discriminant_analysis.py:388: UserWarning: Variables are collinear.\n  warnings.warn(\"Variables are collinear.\")\n"
     ]
    },
    {
     "name": "stderr",
     "output_type": "stream",
     "text": [
      "C:\\Users\\motybz\\Anaconda3\\envs\\lib\\site-packages\\sklearn\\discriminant_analysis.py:388: UserWarning: Variables are collinear.\n  warnings.warn(\"Variables are collinear.\")\n"
     ]
    },
    {
     "name": "stderr",
     "output_type": "stream",
     "text": [
      "C:\\Users\\motybz\\Anaconda3\\envs\\lib\\site-packages\\sklearn\\discriminant_analysis.py:388: UserWarning: Variables are collinear.\n  warnings.warn(\"Variables are collinear.\")\n"
     ]
    },
    {
     "name": "stderr",
     "output_type": "stream",
     "text": [
      "C:\\Users\\motybz\\Anaconda3\\envs\\lib\\site-packages\\sklearn\\discriminant_analysis.py:388: UserWarning: Variables are collinear.\n  warnings.warn(\"Variables are collinear.\")\n"
     ]
    },
    {
     "name": "stderr",
     "output_type": "stream",
     "text": [
      "C:\\Users\\motybz\\Anaconda3\\envs\\lib\\site-packages\\sklearn\\discriminant_analysis.py:388: UserWarning: Variables are collinear.\n  warnings.warn(\"Variables are collinear.\")\n"
     ]
    },
    {
     "name": "stderr",
     "output_type": "stream",
     "text": [
      "C:\\Users\\motybz\\Anaconda3\\envs\\lib\\site-packages\\sklearn\\discriminant_analysis.py:388: UserWarning: Variables are collinear.\n  warnings.warn(\"Variables are collinear.\")\n"
     ]
    },
    {
     "name": "stderr",
     "output_type": "stream",
     "text": [
      "C:\\Users\\motybz\\Anaconda3\\envs\\lib\\site-packages\\sklearn\\discriminant_analysis.py:388: UserWarning: Variables are collinear.\n  warnings.warn(\"Variables are collinear.\")\n"
     ]
    },
    {
     "name": "stderr",
     "output_type": "stream",
     "text": [
      "C:\\Users\\motybz\\Anaconda3\\envs\\lib\\site-packages\\sklearn\\discriminant_analysis.py:388: UserWarning: Variables are collinear.\n  warnings.warn(\"Variables are collinear.\")\n"
     ]
    },
    {
     "data": {
      "image/png": "[encoded data removed]",
      "text/plain": [
       "<matplotlib.figure.Figure at 0x26e018bd470>"
      ]
     },
     "metadata": {},
     "output_type": "display_data"
    },
    {
     "data": {
      "text/markdown": [
       "The best model for the given data is: <span style=\"color:green\">LR</span> with the score <span style=\"color:green\">0.7033333333333334</span>"
      ],
      "text/plain": [
       "<IPython.core.display.Markdown object>"
      ]
     },
     "metadata": {},
     "output_type": "display_data"
    },
    {
     "name": "stdout",
     "output_type": "stream",
     "text": [
      "{'name': 'LR', 'score': 0.7033333333333334}\n{'name': 'LDA', 'score': 0.6588888888888889}\n{'name': 'KNN', 'score': 0.5922222222222222}\n{'name': 'CART', 'score': 0.6622222222222222}\n{'name': 'NB', 'score': 0.5555555555555556}\n{'name': 'SVM', 'score': 0.5411111111111111}\n"
     ]
    },
    {
     "data": {
      "text/markdown": [
       "**Training Section** for: 108368 features"
      ],
      "text/plain": [
       "<IPython.core.display.Markdown object>"
      ]
     },
     "metadata": {},
     "output_type": "display_data"
    },
    {
     "name": "stderr",
     "output_type": "stream",
     "text": [
      "C:\\Users\\motybz\\Anaconda3\\envs\\lib\\site-packages\\sklearn\\discriminant_analysis.py:388: UserWarning: Variables are collinear.\n  warnings.warn(\"Variables are collinear.\")\n"
     ]
    },
    {
     "name": "stderr",
     "output_type": "stream",
     "text": [
      "C:\\Users\\motybz\\Anaconda3\\envs\\lib\\site-packages\\sklearn\\discriminant_analysis.py:388: UserWarning: Variables are collinear.\n  warnings.warn(\"Variables are collinear.\")\n"
     ]
    },
    {
     "name": "stderr",
     "output_type": "stream",
     "text": [
      "C:\\Users\\motybz\\Anaconda3\\envs\\lib\\site-packages\\sklearn\\discriminant_analysis.py:388: UserWarning: Variables are collinear.\n  warnings.warn(\"Variables are collinear.\")\n"
     ]
    },
    {
     "name": "stderr",
     "output_type": "stream",
     "text": [
      "C:\\Users\\motybz\\Anaconda3\\envs\\lib\\site-packages\\sklearn\\discriminant_analysis.py:388: UserWarning: Variables are collinear.\n  warnings.warn(\"Variables are collinear.\")\n"
     ]
    },
    {
     "name": "stderr",
     "output_type": "stream",
     "text": [
      "C:\\Users\\motybz\\Anaconda3\\envs\\lib\\site-packages\\sklearn\\discriminant_analysis.py:388: UserWarning: Variables are collinear.\n  warnings.warn(\"Variables are collinear.\")\n"
     ]
    },
    {
     "name": "stderr",
     "output_type": "stream",
     "text": [
      "C:\\Users\\motybz\\Anaconda3\\envs\\lib\\site-packages\\sklearn\\discriminant_analysis.py:388: UserWarning: Variables are collinear.\n  warnings.warn(\"Variables are collinear.\")\n"
     ]
    },
    {
     "name": "stderr",
     "output_type": "stream",
     "text": [
      "C:\\Users\\motybz\\Anaconda3\\envs\\lib\\site-packages\\sklearn\\discriminant_analysis.py:388: UserWarning: Variables are collinear.\n  warnings.warn(\"Variables are collinear.\")\n"
     ]
    },
    {
     "name": "stderr",
     "output_type": "stream",
     "text": [
      "C:\\Users\\motybz\\Anaconda3\\envs\\lib\\site-packages\\sklearn\\discriminant_analysis.py:388: UserWarning: Variables are collinear.\n  warnings.warn(\"Variables are collinear.\")\n"
     ]
    },
    {
     "name": "stderr",
     "output_type": "stream",
     "text": [
      "C:\\Users\\motybz\\Anaconda3\\envs\\lib\\site-packages\\sklearn\\discriminant_analysis.py:388: UserWarning: Variables are collinear.\n  warnings.warn(\"Variables are collinear.\")\n"
     ]
    },
    {
     "name": "stderr",
     "output_type": "stream",
     "text": [
      "C:\\Users\\motybz\\Anaconda3\\envs\\lib\\site-packages\\sklearn\\discriminant_analysis.py:388: UserWarning: Variables are collinear.\n  warnings.warn(\"Variables are collinear.\")\n"
     ]
    },
    {
     "data": {
      "image/png": "[encoded data removed]",
      "text/plain": [
       "<matplotlib.figure.Figure at 0x26e01935ef0>"
      ]
     },
     "metadata": {},
     "output_type": "display_data"
    },
    {
     "data": {
      "text/markdown": [
       "The best model for the given data is: <span style=\"color:green\">LR</span> with the score <span style=\"color:green\">0.7144444444444445</span>"
      ],
      "text/plain": [
       "<IPython.core.display.Markdown object>"
      ]
     },
     "metadata": {},
     "output_type": "display_data"
    },
    {
     "name": "stdout",
     "output_type": "stream",
     "text": [
      "{'name': 'LR', 'score': 0.7144444444444445}\n{'name': 'LDA', 'score': 0.6588888888888889}\n{'name': 'KNN', 'score': 0.5822222222222223}\n{'name': 'CART', 'score': 0.5433333333333333}\n{'name': 'NB', 'score': 0.5344444444444445}\n{'name': 'SVM', 'score': 0.5411111111111111}\n"
     ]
    },
    {
     "data": {
      "text/markdown": [
       "**Training Section** for: 90282 features"
      ],
      "text/plain": [
       "<IPython.core.display.Markdown object>"
      ]
     },
     "metadata": {},
     "output_type": "display_data"
    },
    {
     "name": "stderr",
     "output_type": "stream",
     "text": [
      "C:\\Users\\motybz\\Anaconda3\\envs\\lib\\site-packages\\sklearn\\discriminant_analysis.py:388: UserWarning: Variables are collinear.\n  warnings.warn(\"Variables are collinear.\")\n"
     ]
    },
    {
     "name": "stderr",
     "output_type": "stream",
     "text": [
      "C:\\Users\\motybz\\Anaconda3\\envs\\lib\\site-packages\\sklearn\\discriminant_analysis.py:388: UserWarning: Variables are collinear.\n  warnings.warn(\"Variables are collinear.\")\n"
     ]
    },
    {
     "name": "stderr",
     "output_type": "stream",
     "text": [
      "C:\\Users\\motybz\\Anaconda3\\envs\\lib\\site-packages\\sklearn\\discriminant_analysis.py:388: UserWarning: Variables are collinear.\n  warnings.warn(\"Variables are collinear.\")\n"
     ]
    },
    {
     "name": "stderr",
     "output_type": "stream",
     "text": [
      "C:\\Users\\motybz\\Anaconda3\\envs\\lib\\site-packages\\sklearn\\discriminant_analysis.py:388: UserWarning: Variables are collinear.\n  warnings.warn(\"Variables are collinear.\")\n"
     ]
    },
    {
     "name": "stderr",
     "output_type": "stream",
     "text": [
      "C:\\Users\\motybz\\Anaconda3\\envs\\lib\\site-packages\\sklearn\\discriminant_analysis.py:388: UserWarning: Variables are collinear.\n  warnings.warn(\"Variables are collinear.\")\n"
     ]
    },
    {
     "name": "stderr",
     "output_type": "stream",
     "text": [
      "C:\\Users\\motybz\\Anaconda3\\envs\\lib\\site-packages\\sklearn\\discriminant_analysis.py:388: UserWarning: Variables are collinear.\n  warnings.warn(\"Variables are collinear.\")\n"
     ]
    },
    {
     "name": "stderr",
     "output_type": "stream",
     "text": [
      "C:\\Users\\motybz\\Anaconda3\\envs\\lib\\site-packages\\sklearn\\discriminant_analysis.py:388: UserWarning: Variables are collinear.\n  warnings.warn(\"Variables are collinear.\")\n"
     ]
    }
   ],
   "source": [
    "#need to modify the test shape\n",
    "    printmd(\"**Testing Section:**\")\n",
    "    test_results = test_the_data(X_train,Y_train,X_test,Y_test,models)\n",
    "    best_ts = get_the_best(test_results)\n",
    "    for model in test_results:\n",
    "        print (model)\n"
   ]
  },
  {
   "cell_type": "code",
   "execution_count": 9,
   "metadata": {},
   "outputs": [],
   "source": [
    "    # #after we found the elbow\n",
    "    # new_shape = []\n",
    "    # range = np.arange(0.04, 0.17, 0.001)\n",
    "    # for VTHRESH in range:  \n",
    "    #     sel = fs.VarianceThreshold(VTHRESH)\n",
    "    #     x = sel.fit_transform(X_train)\n",
    "    #     new_shape.append(x.shape[-1])\n",
    "    # plt.plot(range, new_shape)"
   ]
  },
  {
   "cell_type": "code",
   "execution_count": null,
   "metadata": {},
   "outputs": [],
   "source": [
    ""
   ]
  },
  {
   "cell_type": "code",
   "execution_count": null,
   "metadata": {},
   "outputs": [],
   "source": []
  }
 ],
 "metadata": {
  "kernelspec": {
   "display_name": "Python 3",
   "language": "python",
   "name": "python3"
  },
  "language_info": {
   "codemirror_mode": {
    "name": "ipython",
    "version": 3
   },
   "file_extension": ".py",
   "mimetype": "text/x-python",
   "name": "python",
   "nbconvert_exporter": "python",
   "pygments_lexer": "ipython3",
   "version": "3.6.3"
  }
 },
 "nbformat": 4,
 "nbformat_minor": 2
}
