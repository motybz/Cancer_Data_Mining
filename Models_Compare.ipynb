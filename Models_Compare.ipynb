{
 "cells": [
  {
   "cell_type": "code",
   "execution_count": 1,
   "metadata": {},
   "outputs": [],
   "source": [
    "import os , csv ,multiprocessing , configparser\n",
    "from tools.import_data import *\n",
    "from pathlib import Path, PureWindowsPath\n",
    "from IPython.display import Markdown, display\n",
    "def printmd(string):\n",
    "    display(Markdown(string))"
   ]
  },
  {
   "cell_type": "code",
   "execution_count": 2,
   "metadata": {},
   "outputs": [],
   "source": [
    "from sklearn import model_selection\n",
    "from sklearn import preprocessing\n",
    "from sklearn.metrics import classification_report\n",
    "from sklearn.metrics import confusion_matrix\n",
    "from sklearn.metrics import accuracy_score\n",
    "from sklearn.linear_model import LogisticRegression\n",
    "from sklearn.tree import DecisionTreeClassifier\n",
    "from sklearn.neighbors import KNeighborsClassifier\n",
    "from sklearn.discriminant_analysis import LinearDiscriminantAnalysis\n",
    "from sklearn.naive_bayes import GaussianNB\n",
    "from sklearn.svm import SVC\n",
    "from sklearn import feature_selection as fs\n",
    "from sklearn.preprocessing import LabelEncoder\n",
    "from sklearn.preprocessing import Imputer # for NaN values\n",
    "from pandas import read_csv\n",
    "import matplotlib.pyplot as plt"
   ]
  },
  {
   "cell_type": "code",
   "execution_count": 3,
   "metadata": {},
   "outputs": [],
   "source": [
    "def train_the_data(X_train,Y_train,models):\n",
    "    # Spot Check Algorithms with cross validation\n",
    "    # evaluate each model in turn\n",
    "    scoring = 'accuracy'\n",
    "    scores = []\n",
    "    names = []\n",
    "    results = []\n",
    "    for name, model in models:\n",
    "        kfold = model_selection.KFold(n_splits=10)\n",
    "        cv_results = model_selection.cross_val_score(model, X_train, Y_train, cv=kfold,n_jobs=-1, scoring=scoring )\n",
    "        scores.append(cv_results)\n",
    "        names.append(name)\n",
    "        results.append({\"name\":name,\"score\":cv_results.mean()})\n",
    "        # msg = \"%s: %f (%f)\" % (name, cv_results.mean(), cv_results.std())\n",
    "        # print(msg)\n",
    "    # Compare Algorithms\n",
    "    fig = plt.figure()\n",
    "    fig.suptitle('Algorithm Comparison')\n",
    "    ax = fig.add_subplot(111)\n",
    "    plt.boxplot(scores)\n",
    "    ax.set_xticklabels(names)\n",
    "    plt.show()\n",
    "    return results\n",
    "        \n",
    "def test_the_data(X_train,Y_train,X_test,Y_test,models):\n",
    "    # Make predictions on test dataset\n",
    "    results = []\n",
    "    for name, model in models:\n",
    "        model.fit(X_train, Y_train)\n",
    "        predictions = model.predict(X_test)\n",
    "        # print('Model ' , name)\n",
    "        # print('Accuracy: ', accuracy_score(Y_test, predictions))\n",
    "        results.append({\"name\":name,\"score\":accuracy_score(Y_test, predictions)})\n",
    "        #print(confusion_matrix(Y_validation, predictions))\n",
    "        # print(classification_report(Y_test, predictions))\n",
    "    return results \n",
    "    # \n",
    "    # encoder(predict_dataset)\n",
    "    # #print (predict_dataset)\n",
    "    # predict=predict_dataset.values[:,0:22]\n",
    "    # \n",
    "    # predictions = lr.predict(predict)\n",
    "    \n",
    "    # temp = pandas.DataFrame(predict)\n",
    "    # temp['class'] = predictions\n",
    "    # temp.to_csv('predict.csv')\n",
    "def get_the_best(results): # input - list of dict {\"name\":name,\"score\":score}\n",
    "    m = max([k[\"score\"] for k in results])\n",
    "    i = [k[\"score\"] for k in results].index(m)\n",
    "    name = results[i][\"name\"]\n",
    "    printmd('The best model for the given data is: <span style=\"color:green\">' + str(name).format() + '</span> with the score <span style=\"color:green\">' + str(m) + '</span>' )\n",
    "    # print ('The best model for the given train (' + X_train.shape +') is: ' + name + 'with the score ' +m )\n",
    "    return results[i] # the max model (dict type)\n",
    "\n",
    "# def information_gain(X, y):\n",
    "#     def _entropy(labels):\n",
    "#         counts = np.bincount(labels)\n",
    "#         return entropy(counts, base=None)\n",
    "# \n",
    "#     def _ig(x, y):\n",
    "#         # indices where x is set/not set\n",
    "#         x_set = np.nonzero(x)[1]\n",
    "#         x_not_set = np.delete(np.arange(x.shape[1]), x_set)\n",
    "# \n",
    "#         h_x_set = _entropy(y[x_set])\n",
    "#         h_x_not_set = _entropy(y[x_not_set])\n",
    "# \n",
    "#         return entropy_full - (((len(x_set) / f_size) * h_x_set)\n",
    "#                              + ((len(x_not_set) / f_size) * h_x_not_set))\n",
    "# \n",
    "#     entropy_full = _entropy(y)\n",
    "# \n",
    "#     f_size = float(X.shape[0])\n",
    "# \n",
    "#     scores = np.array([_ig(x, y) for x in X.T])\n",
    "#     return scores"
   ]
  },
  {
   "cell_type": "code",
   "execution_count": 12,
   "metadata": {
    "collapsed": true
   },
   "outputs": [
    {
     "name": "stdout",
     "output_type": "stream",
     "text": [
      "(776, 21)\nTrain data shape:  (776, 21)\nTrain labels shape:  (776,)\n"
     ]
    }
   ],
   "source": [
    "#consts\n",
    "FILE_PATH = os.path.dirname(os.path.abspath(\"__file__\"))\n",
    "CONFIG_FILE = '{}/config.ini'.format(FILE_PATH)\n",
    "config = configparser.ConfigParser()\n",
    "config.read(CONFIG_FILE)\n",
    "TRAIN_FILE = str(config['files']['train_set'])\n",
    "TEST_FILE = str(config['files']['test_set'])\n",
    "\n",
    "models = []\n",
    "    \n",
    "models.append(('LR', LogisticRegression()))\n",
    "models.append(('LDA', LinearDiscriminantAnalysis()))\n",
    "models.append(('KNN', KNeighborsClassifier()))\n",
    "models.append(('CART', DecisionTreeClassifier()))\n",
    "models.append(('NB', GaussianNB()))\n",
    "models.append(('SVM', SVC()))\n",
    "\n",
    "if __name__ == \"__main__\":\n",
    "    X_train, Y_train , original_headers_train = load_dataset(TRAIN_FILE) \n",
    "    print ('Train data shape: ', X_train.shape)\n",
    "    print ('Train labels shape: ', Y_train.shape)\n",
    "    if TEST_FILE:\n",
    "        X_test, Y_test ,original_headers_test = load_dataset(TEST_FILE)\n",
    "        print ('Test data shape: ', X_test.shape)\n",
    "        print ('Test labels shape: ', Y_test.shape)"
   ]
  },
  {
   "cell_type": "code",
   "execution_count": 13,
   "metadata": {
    "collapsed": true
   },
   "outputs": [
    {
     "name": "stdout",
     "output_type": "stream",
     "text": [
      "New Train data shape:  (776, 21)\nAGE|0.008332659329502778\nSEX|0.07344221026527964\nHEIGHT|0.06490955425883316\nWEIGHT|0.03668202722932623\nWAIST_CIRCUMFERENCE|0.08900415111700077\nEDUCATION_LEVEL|0.011949609034282771\nSMK_EVER_SMOKED|0.025068870429183043\nSMK_AGE_STARTED|0.008619909456568209\nSMK_AGE_SMOKING_STOPPED|0.04827754171504961\nALC_UNITS_PER_WEEK|0.03212570962906236\nALC_UNITS_PER_WEEK_AGED_30|0.039137990452766\nALC_DRINK_HEAVILY|0.011525896094562782\nPREFERRED_DRINK|0.029239676235640166\nSYM_CHEST_PAIN|0.06321354790869993\nSYM_BURNING_CHEST|0.0498348462380922\nSYM_ACID_TASTE|0.004018513084999897\nSYM_SORE_THROAT|0.01515704448830446\nSYM_SLEEP_DISRUPTED|0.040008425239727474\nSYM_YRS_SINCE_HEARTBURN_START|0.1488346478015672\nSYM_YRS_SINCE_ACID_TASTE_START|0.1258500439845509\nSYM_TAKING_STOMACH_MEDS|0.07521696319531479\n"
     ]
    }
   ],
   "source": [
    "    # Encoding Categorial features and imputing NaN's\n",
    "    # https://chrisalbon.com/machine_learning/preprocessing_structured_data/convert_pandas_categorical_column_into_integers_for_scikit-learn/\n",
    "    # http://pbpython.com/categorical-encoding.html\n",
    "    # https://datascience.stackexchange.com/questions/14069/mass-convert-categorical-columns-in-pandas-not-one-hot-encoding\n",
    "    char_cols = X_train.dtypes.pipe(lambda x: x[x == 'object']).index\n",
    "    if not char_cols.empty:\n",
    "        label_mapping = {}\n",
    "        for c in char_cols:\n",
    "            X_train_non_numeric = X_train.copy()\n",
    "            X_train[c], label_mapping[c] = pd.factorize(X_train[c])\n",
    "    imp = Imputer(axis=0, verbose=1)\n",
    "    imp = imp.fit(X_train)\n",
    "    X_train_imp = imp.transform(X_train)\n",
    "    print ('New Train data shape: ',X_train_imp.shape)\n",
    "    fs_scores = fs.mutual_info_classif(X_train_imp,Y_train)\n",
    "    for i,score in enumerate(fs_scores):\n",
    "        print ('{}|{}'.format(original_headers_train[i],score))"
   ]
  },
  {
   "cell_type": "code",
   "execution_count": 14,
   "metadata": {
    "collapsed": true
   },
   "outputs": [],
   "source": [
    "    #before we found the elbow\n",
    "    new_trains = []\n",
    "    new_shapes_ratio = []\n",
    "    new_range = []\n",
    "    myrange = np.arange(0.01, 1, 0.01)\n",
    "    for VTHRESH in myrange:  \n",
    "        # sel = fs.VarianceThreshold(VTHRESH)\n",
    "        sel = fs.SelectPercentile(score_func=fs.mutual_info_classif,percentile=VTHRESH*100)\n",
    "        # sel.fit(X_train_imp,Y_train)\n",
    "        # print (sel.get_params())\n",
    "        # print (sel.get_support())\n",
    "        X_train_mod = sel.fit_transform(X_train_imp,Y_train)\n",
    "        if len(new_shapes_ratio) >= 1:\n",
    "            if new_shapes_ratio[-1]!= X_train_mod.shape[-1]/X_train.shape[-1]:\n",
    "                new_range.append(VTHRESH)\n",
    "                new_trains.append(X_train_mod)\n",
    "                new_shapes_ratio.append(X_train_mod.shape[-1]/X_train.shape[-1])\n",
    "        else:\n",
    "            new_range.append(VTHRESH)\n",
    "            new_trains.append(X_train_mod)\n",
    "            new_shapes_ratio.append(X_train_mod.shape[-1]/X_train.shape[-1])\n",
    "        \n"
   ]
  },
  {
   "cell_type": "code",
   "execution_count": 15,
   "metadata": {
    "collapsed": true
   },
   "outputs": [
    {
     "data": {
      "text/markdown": [
       "**Training Section** for: 1 features"
      ],
      "text/plain": [
       "<IPython.core.display.Markdown object>"
      ]
     },
     "metadata": {},
     "output_type": "display_data"
    },
    {
     "data": {
      "image/png": "[encoded data removed]",
      "text/plain": [
       "<matplotlib.figure.Figure at 0x22b6b2ab4e0>"
      ]
     },
     "metadata": {},
     "output_type": "display_data"
    },
    {
     "data": {
      "image/png": "[encoded data removed]",
      "text/plain": [
       "<matplotlib.figure.Figure at 0x22b6b257198>"
      ]
     },
     "metadata": {},
     "output_type": "display_data"
    },
    {
     "data": {
      "text/markdown": [
       "The best model for the given data is: <span style=\"color:green\">SVM</span> with the score <span style=\"color:green\">0.757925407925</span>"
      ],
      "text/plain": [
       "<IPython.core.display.Markdown object>"
      ]
     },
     "metadata": {},
     "output_type": "display_data"
    },
    {
     "name": "stdout",
     "output_type": "stream",
     "text": [
      "{'name': 'LR', 'score': 0.69695304695304694}\n{'name': 'LDA', 'score': 0.68934398934398933}\n{'name': 'KNN', 'score': 0.70767565767565777}\n{'name': 'CART', 'score': 0.75406260406260417}\n{'name': 'NB', 'score': 0.69843489843489848}\n{'name': 'SVM', 'score': 0.75792540792540797}\n"
     ]
    },
    {
     "data": {
      "text/markdown": [
       "**Training Section** for: 2 features"
      ],
      "text/plain": [
       "<IPython.core.display.Markdown object>"
      ]
     },
     "metadata": {},
     "output_type": "display_data"
    },
    {
     "data": {
      "image/png": "[encoded data removed]",
      "text/plain": [
       "<matplotlib.figure.Figure at 0x22b6b257240>"
      ]
     },
     "metadata": {},
     "output_type": "display_data"
    },
    {
     "data": {
      "text/markdown": [
       "The best model for the given data is: <span style=\"color:green\">KNN</span> with the score <span style=\"color:green\">0.764219114219</span>"
      ],
      "text/plain": [
       "<IPython.core.display.Markdown object>"
      ]
     },
     "metadata": {},
     "output_type": "display_data"
    },
    {
     "name": "stdout",
     "output_type": "stream",
     "text": [
      "{'name': 'LR', 'score': 0.69335664335664338}\n{'name': 'LDA', 'score': 0.70258075258075259}\n{'name': 'KNN', 'score': 0.76421911421911415}\n{'name': 'CART', 'score': 0.7475191475191475}\n{'name': 'NB', 'score': 0.70281385281385289}\n{'name': 'SVM', 'score': 0.7475191475191475}\n"
     ]
    },
    {
     "data": {
      "text/markdown": [
       "**Training Section** for: 3 features"
      ],
      "text/plain": [
       "<IPython.core.display.Markdown object>"
      ]
     },
     "metadata": {},
     "output_type": "display_data"
    },
    {
     "data": {
      "image/png": "[encoded data removed]",
      "text/plain": [
       "<matplotlib.figure.Figure at 0x22b5a2fc908>"
      ]
     },
     "metadata": {},
     "output_type": "display_data"
    },
    {
     "data": {
      "text/markdown": [
       "The best model for the given data is: <span style=\"color:green\">KNN</span> with the score <span style=\"color:green\">0.777522477522</span>"
      ],
      "text/plain": [
       "<IPython.core.display.Markdown object>"
      ]
     },
     "metadata": {},
     "output_type": "display_data"
    },
    {
     "name": "stdout",
     "output_type": "stream",
     "text": [
      "{'name': 'LR', 'score': 0.71010656010656015}\n{'name': 'LDA', 'score': 0.72049617049617054}\n{'name': 'KNN', 'score': 0.77752247752247738}\n{'name': 'CART', 'score': 0.75922410922410921}\n{'name': 'NB', 'score': 0.76225441225441215}\n{'name': 'SVM', 'score': 0.77216117216117208}\n"
     ]
    },
    {
     "data": {
      "text/markdown": [
       "**Training Section** for: 4 features"
      ],
      "text/plain": [
       "<IPython.core.display.Markdown object>"
      ]
     },
     "metadata": {},
     "output_type": "display_data"
    },
    {
     "data": {
      "image/png": "[encoded data removed]",
      "text/plain": [
       "<matplotlib.figure.Figure at 0x22b585c0128>"
      ]
     },
     "metadata": {},
     "output_type": "display_data"
    },
    {
     "data": {
      "text/markdown": [
       "The best model for the given data is: <span style=\"color:green\">LDA</span> with the score <span style=\"color:green\">0.795604395604</span>"
      ],
      "text/plain": [
       "<IPython.core.display.Markdown object>"
      ]
     },
     "metadata": {},
     "output_type": "display_data"
    },
    {
     "name": "stdout",
     "output_type": "stream",
     "text": [
      "{'name': 'LR', 'score': 0.76595071595071595}\n{'name': 'LDA', 'score': 0.79560439560439566}\n{'name': 'KNN', 'score': 0.7814352314352313}\n{'name': 'CART', 'score': 0.74908424908424898}\n{'name': 'NB', 'score': 0.76122211122211125}\n{'name': 'SVM', 'score': 0.75422910422910427}\n"
     ]
    },
    {
     "data": {
      "text/markdown": [
       "**Training Section** for: 5 features"
      ],
      "text/plain": [
       "<IPython.core.display.Markdown object>"
      ]
     },
     "metadata": {},
     "output_type": "display_data"
    },
    {
     "data": {
      "image/png": "[encoded data removed]",
      "text/plain": [
       "<matplotlib.figure.Figure at 0x22b681bdc18>"
      ]
     },
     "metadata": {},
     "output_type": "display_data"
    },
    {
     "data": {
      "text/markdown": [
       "The best model for the given data is: <span style=\"color:green\">LDA</span> with the score <span style=\"color:green\">0.798118548119</span>"
      ],
      "text/plain": [
       "<IPython.core.display.Markdown object>"
      ]
     },
     "metadata": {},
     "output_type": "display_data"
    },
    {
     "name": "stdout",
     "output_type": "stream",
     "text": [
      "{'name': 'LR', 'score': 0.78779553779553779}\n{'name': 'LDA', 'score': 0.7981185481185481}\n{'name': 'KNN', 'score': 0.76198801198801192}\n{'name': 'CART', 'score': 0.74164169164169158}\n{'name': 'NB', 'score': 0.78183483183483171}\n{'name': 'SVM', 'score': 0.74761904761904763}\n"
     ]
    },
    {
     "data": {
      "text/markdown": [
       "**Training Section** for: 6 features"
      ],
      "text/plain": [
       "<IPython.core.display.Markdown object>"
      ]
     },
     "metadata": {},
     "output_type": "display_data"
    },
    {
     "data": {
      "image/png": "[encoded data removed]",
      "text/plain": [
       "<matplotlib.figure.Figure at 0x22b58c9ee48>"
      ]
     },
     "metadata": {},
     "output_type": "display_data"
    },
    {
     "data": {
      "text/markdown": [
       "The best model for the given data is: <span style=\"color:green\">LDA</span> with the score <span style=\"color:green\">0.822743922744</span>"
      ],
      "text/plain": [
       "<IPython.core.display.Markdown object>"
      ]
     },
     "metadata": {},
     "output_type": "display_data"
    },
    {
     "name": "stdout",
     "output_type": "stream",
     "text": [
      "{'name': 'LR', 'score': 0.8111055611055612}\n{'name': 'LDA', 'score': 0.82274392274392272}\n{'name': 'KNN', 'score': 0.74910089910089905}\n{'name': 'CART', 'score': 0.73651348651348658}\n{'name': 'NB', 'score': 0.80907425907425901}\n{'name': 'SVM', 'score': 0.74109224109224114}\n"
     ]
    },
    {
     "data": {
      "text/markdown": [
       "**Training Section** for: 7 features"
      ],
      "text/plain": [
       "<IPython.core.display.Markdown object>"
      ]
     },
     "metadata": {},
     "output_type": "display_data"
    },
    {
     "data": {
      "image/png": "[encoded data removed]",
      "text/plain": [
       "<matplotlib.figure.Figure at 0x22b58c669b0>"
      ]
     },
     "metadata": {},
     "output_type": "display_data"
    },
    {
     "data": {
      "text/markdown": [
       "The best model for the given data is: <span style=\"color:green\">LDA</span> with the score <span style=\"color:green\">0.824025974026</span>"
      ],
      "text/plain": [
       "<IPython.core.display.Markdown object>"
      ]
     },
     "metadata": {},
     "output_type": "display_data"
    },
    {
     "name": "stdout",
     "output_type": "stream",
     "text": [
      "{'name': 'LR', 'score': 0.8163003663003664}\n{'name': 'LDA', 'score': 0.824025974025974}\n{'name': 'KNN', 'score': 0.72459207459207453}\n{'name': 'CART', 'score': 0.74811854811854805}\n{'name': 'NB', 'score': 0.78984348984348984}\n{'name': 'SVM', 'score': 0.69808524808524797}\n"
     ]
    },
    {
     "data": {
      "text/markdown": [
       "**Training Section** for: 8 features"
      ],
      "text/plain": [
       "<IPython.core.display.Markdown object>"
      ]
     },
     "metadata": {},
     "output_type": "display_data"
    },
    {
     "data": {
      "image/png": "[encoded data removed]",
      "text/plain": [
       "<matplotlib.figure.Figure at 0x22b5a2fc908>"
      ]
     },
     "metadata": {},
     "output_type": "display_data"
    },
    {
     "data": {
      "text/markdown": [
       "The best model for the given data is: <span style=\"color:green\">NB</span> with the score <span style=\"color:green\">0.820729270729</span>"
      ],
      "text/plain": [
       "<IPython.core.display.Markdown object>"
      ]
     },
     "metadata": {},
     "output_type": "display_data"
    },
    {
     "name": "stdout",
     "output_type": "stream",
     "text": [
      "{'name': 'LR', 'score': 0.81243756243756238}\n{'name': 'LDA', 'score': 0.81891441891441885}\n{'name': 'KNN', 'score': 0.74124209124209117}\n{'name': 'CART', 'score': 0.73654678654678662}\n{'name': 'NB', 'score': 0.82072927072927082}\n{'name': 'SVM', 'score': 0.64998334998334995}\n"
     ]
    },
    {
     "data": {
      "text/markdown": [
       "**Training Section** for: 9 features"
      ],
      "text/plain": [
       "<IPython.core.display.Markdown object>"
      ]
     },
     "metadata": {},
     "output_type": "display_data"
    },
    {
     "data": {
      "image/png": "[encoded data removed]",
      "text/plain": [
       "<matplotlib.figure.Figure at 0x22b58c9ee48>"
      ]
     },
     "metadata": {},
     "output_type": "display_data"
    },
    {
     "data": {
      "text/markdown": [
       "The best model for the given data is: <span style=\"color:green\">LDA</span> with the score <span style=\"color:green\">0.817632367632</span>"
      ],
      "text/plain": [
       "<IPython.core.display.Markdown object>"
      ]
     },
     "metadata": {},
     "output_type": "display_data"
    },
    {
     "name": "stdout",
     "output_type": "stream",
     "text": [
      "{'name': 'LR', 'score': 0.81506826506826502}\n{'name': 'LDA', 'score': 0.81763236763236757}\n{'name': 'KNN', 'score': 0.69988344988344986}\n{'name': 'CART', 'score': 0.73140193140193144}\n{'name': 'NB', 'score': 0.80276390276390275}\n{'name': 'SVM', 'score': 0.66909756909756912}\n"
     ]
    },
    {
     "data": {
      "text/markdown": [
       "**Training Section** for: 10 features"
      ],
      "text/plain": [
       "<IPython.core.display.Markdown object>"
      ]
     },
     "metadata": {},
     "output_type": "display_data"
    },
    {
     "data": {
      "image/png": "[encoded data removed]",
      "text/plain": [
       "<matplotlib.figure.Figure at 0x22b695dbcf8>"
      ]
     },
     "metadata": {},
     "output_type": "display_data"
    },
    {
     "data": {
      "text/markdown": [
       "The best model for the given data is: <span style=\"color:green\">LDA</span> with the score <span style=\"color:green\">0.820263070263</span>"
      ],
      "text/plain": [
       "<IPython.core.display.Markdown object>"
      ]
     },
     "metadata": {},
     "output_type": "display_data"
    },
    {
     "name": "stdout",
     "output_type": "stream",
     "text": [
      "{'name': 'LR', 'score': 0.8150849150849151}\n{'name': 'LDA', 'score': 0.8202630702630701}\n{'name': 'KNN', 'score': 0.71010656010656015}\n{'name': 'CART', 'score': 0.72234432234432244}\n{'name': 'NB', 'score': 0.81823176823176824}\n{'name': 'SVM', 'score': 0.66262071262071265}\n"
     ]
    },
    {
     "data": {
      "text/markdown": [
       "**Training Section** for: 11 features"
      ],
      "text/plain": [
       "<IPython.core.display.Markdown object>"
      ]
     },
     "metadata": {},
     "output_type": "display_data"
    },
    {
     "data": {
      "image/png": "[encoded data removed]",
      "text/plain": [
       "<matplotlib.figure.Figure at 0x22b58c9ee48>"
      ]
     },
     "metadata": {},
     "output_type": "display_data"
    },
    {
     "data": {
      "text/markdown": [
       "The best model for the given data is: <span style=\"color:green\">NB</span> with the score <span style=\"color:green\">0.820795870796</span>"
      ],
      "text/plain": [
       "<IPython.core.display.Markdown object>"
      ]
     },
     "metadata": {},
     "output_type": "display_data"
    },
    {
     "name": "stdout",
     "output_type": "stream",
     "text": [
      "{'name': 'LR', 'score': 0.80857475857475847}\n{'name': 'LDA', 'score': 0.81375291375291392}\n{'name': 'KNN', 'score': 0.67783882783882787}\n{'name': 'CART', 'score': 0.74958374958374951}\n{'name': 'NB', 'score': 0.8207958707958708}\n{'name': 'SVM', 'score': 0.67537462537462534}\n"
     ]
    },
    {
     "data": {
      "text/markdown": [
       "**Training Section** for: 12 features"
      ],
      "text/plain": [
       "<IPython.core.display.Markdown object>"
      ]
     },
     "metadata": {},
     "output_type": "display_data"
    },
    {
     "data": {
      "image/png": "[encoded data removed]",
      "text/plain": [
       "<matplotlib.figure.Figure at 0x22b58c9ee48>"
      ]
     },
     "metadata": {},
     "output_type": "display_data"
    },
    {
     "data": {
      "text/markdown": [
       "The best model for the given data is: <span style=\"color:green\">LDA</span> with the score <span style=\"color:green\">0.8164002664</span>"
      ],
      "text/plain": [
       "<IPython.core.display.Markdown object>"
      ]
     },
     "metadata": {},
     "output_type": "display_data"
    },
    {
     "name": "stdout",
     "output_type": "stream",
     "text": [
      "{'name': 'LR', 'score': 0.81250416250416246}\n{'name': 'LDA', 'score': 0.81640026640026642}\n{'name': 'KNN', 'score': 0.70093240093240095}\n{'name': 'CART', 'score': 0.74302364302364299}\n{'name': 'NB', 'score': 0.81561771561771557}\n{'name': 'SVM', 'score': 0.67407592407592409}\n"
     ]
    },
    {
     "data": {
      "text/markdown": [
       "**Training Section** for: 13 features"
      ],
      "text/plain": [
       "<IPython.core.display.Markdown object>"
      ]
     },
     "metadata": {},
     "output_type": "display_data"
    },
    {
     "data": {
      "image/png": "[encoded data removed]",
      "text/plain": [
       "<matplotlib.figure.Figure at 0x22b69907cc0>"
      ]
     },
     "metadata": {},
     "output_type": "display_data"
    },
    {
     "data": {
      "text/markdown": [
       "The best model for the given data is: <span style=\"color:green\">LDA</span> with the score <span style=\"color:green\">0.817682317682</span>"
      ],
      "text/plain": [
       "<IPython.core.display.Markdown object>"
      ]
     },
     "metadata": {},
     "output_type": "display_data"
    },
    {
     "name": "stdout",
     "output_type": "stream",
     "text": [
      "{'name': 'LR', 'score': 0.80730935730935727}\n{'name': 'LDA', 'score': 0.81768231768231769}\n{'name': 'KNN', 'score': 0.68809523809523809}\n{'name': 'CART', 'score': 0.73391608391608387}\n{'name': 'NB', 'score': 0.80276390276390275}\n{'name': 'SVM', 'score': 0.67792207792207793}\n"
     ]
    },
    {
     "data": {
      "text/markdown": [
       "**Training Section** for: 14 features"
      ],
      "text/plain": [
       "<IPython.core.display.Markdown object>"
      ]
     },
     "metadata": {},
     "output_type": "display_data"
    },
    {
     "data": {
      "image/png": "[encoded data removed]",
      "text/plain": [
       "<matplotlib.figure.Figure at 0x22b6b25ee48>"
      ]
     },
     "metadata": {},
     "output_type": "display_data"
    },
    {
     "data": {
      "text/markdown": [
       "The best model for the given data is: <span style=\"color:green\">LDA</span> with the score <span style=\"color:green\">0.80994005994</span>"
      ],
      "text/plain": [
       "<IPython.core.display.Markdown object>"
      ]
     },
     "metadata": {},
     "output_type": "display_data"
    },
    {
     "name": "stdout",
     "output_type": "stream",
     "text": [
      "{'name': 'LR', 'score': 0.80474525474525493}\n{'name': 'LDA', 'score': 0.80994005994005991}\n{'name': 'KNN', 'score': 0.68681318681318682}\n{'name': 'CART', 'score': 0.77151182151182152}\n{'name': 'NB', 'score': 0.80283050283050295}\n{'name': 'SVM', 'score': 0.67664002664002665}\n"
     ]
    },
    {
     "data": {
      "text/markdown": [
       "**Training Section** for: 15 features"
      ],
      "text/plain": [
       "<IPython.core.display.Markdown object>"
      ]
     },
     "metadata": {},
     "output_type": "display_data"
    },
    {
     "data": {
      "image/png": "[encoded data removed]",
      "text/plain": [
       "<matplotlib.figure.Figure at 0x22b5a2fc908>"
      ]
     },
     "metadata": {},
     "output_type": "display_data"
    },
    {
     "data": {
      "text/markdown": [
       "The best model for the given data is: <span style=\"color:green\">LDA</span> with the score <span style=\"color:green\">0.812520812521</span>"
      ],
      "text/plain": [
       "<IPython.core.display.Markdown object>"
      ]
     },
     "metadata": {},
     "output_type": "display_data"
    },
    {
     "name": "stdout",
     "output_type": "stream",
     "text": [
      "{'name': 'LR', 'score': 0.80476190476190479}\n{'name': 'LDA', 'score': 0.81252081252081254}\n{'name': 'KNN', 'score': 0.6894771894771895}\n{'name': 'CART', 'score': 0.75980685980685969}\n{'name': 'NB', 'score': 0.80281385281385265}\n{'name': 'SVM', 'score': 0.67792207792207793}\n"
     ]
    },
    {
     "data": {
      "text/markdown": [
       "**Training Section** for: 16 features"
      ],
      "text/plain": [
       "<IPython.core.display.Markdown object>"
      ]
     },
     "metadata": {},
     "output_type": "display_data"
    },
    {
     "data": {
      "image/png": "[encoded data removed]",
      "text/plain": [
       "<matplotlib.figure.Figure at 0x22b681bdc18>"
      ]
     },
     "metadata": {},
     "output_type": "display_data"
    },
    {
     "data": {
      "text/markdown": [
       "The best model for the given data is: <span style=\"color:green\">LR</span> with the score <span style=\"color:green\">0.811255411255</span>"
      ],
      "text/plain": [
       "<IPython.core.display.Markdown object>"
      ]
     },
     "metadata": {},
     "output_type": "display_data"
    },
    {
     "name": "stdout",
     "output_type": "stream",
     "text": [
      "{'name': 'LR', 'score': 0.81125541125541134}\n{'name': 'LDA', 'score': 0.80870795870795875}\n{'name': 'KNN', 'score': 0.68954378954378959}\n{'name': 'CART', 'score': 0.76618381618381615}\n{'name': 'NB', 'score': 0.80154845154845145}\n{'name': 'SVM', 'score': 0.67667332667332669}\n"
     ]
    },
    {
     "data": {
      "text/markdown": [
       "**Training Section** for: 17 features"
      ],
      "text/plain": [
       "<IPython.core.display.Markdown object>"
      ]
     },
     "metadata": {},
     "output_type": "display_data"
    },
    {
     "data": {
      "image/png": "[encoded data removed]",
      "text/plain": [
       "<matplotlib.figure.Figure at 0x22b695dbcf8>"
      ]
     },
     "metadata": {},
     "output_type": "display_data"
    },
    {
     "data": {
      "text/markdown": [
       "The best model for the given data is: <span style=\"color:green\">LDA</span> with the score <span style=\"color:green\">0.813786213786</span>"
      ],
      "text/plain": [
       "<IPython.core.display.Markdown object>"
      ]
     },
     "metadata": {},
     "output_type": "display_data"
    },
    {
     "name": "stdout",
     "output_type": "stream",
     "text": [
      "{'name': 'LR', 'score': 0.80990675990675987}\n{'name': 'LDA', 'score': 0.81378621378621374}\n{'name': 'KNN', 'score': 0.69079254079254071}\n{'name': 'CART', 'score': 0.71968031968031965}\n{'name': 'NB', 'score': 0.8040626040626041}\n{'name': 'SVM', 'score': 0.67792207792207793}\n"
     ]
    },
    {
     "data": {
      "text/markdown": [
       "**Training Section** for: 18 features"
      ],
      "text/plain": [
       "<IPython.core.display.Markdown object>"
      ]
     },
     "metadata": {},
     "output_type": "display_data"
    },
    {
     "data": {
      "image/png": "[encoded data removed]",
      "text/plain": [
       "<matplotlib.figure.Figure at 0x22b681bdc18>"
      ]
     },
     "metadata": {},
     "output_type": "display_data"
    },
    {
     "data": {
      "text/markdown": [
       "The best model for the given data is: <span style=\"color:green\">LDA</span> with the score <span style=\"color:green\">0.809956709957</span>"
      ],
      "text/plain": [
       "<IPython.core.display.Markdown object>"
      ]
     },
     "metadata": {},
     "output_type": "display_data"
    },
    {
     "name": "stdout",
     "output_type": "stream",
     "text": [
      "{'name': 'LR', 'score': 0.80477855477855476}\n{'name': 'LDA', 'score': 0.80995670995670999}\n{'name': 'KNN', 'score': 0.67142857142857149}\n{'name': 'CART', 'score': 0.75214785214785207}\n{'name': 'NB', 'score': 0.79890109890109895}\n{'name': 'SVM', 'score': 0.67792207792207793}\n"
     ]
    },
    {
     "data": {
      "text/markdown": [
       "**Training Section** for: 19 features"
      ],
      "text/plain": [
       "<IPython.core.display.Markdown object>"
      ]
     },
     "metadata": {},
     "output_type": "display_data"
    },
    {
     "data": {
      "image/png": "[encoded data removed]",
      "text/plain": [
       "<matplotlib.figure.Figure at 0x22b5a314f60>"
      ]
     },
     "metadata": {},
     "output_type": "display_data"
    },
    {
     "data": {
      "text/markdown": [
       "The best model for the given data is: <span style=\"color:green\">LDA</span> with the score <span style=\"color:green\">0.807392607393</span>"
      ],
      "text/plain": [
       "<IPython.core.display.Markdown object>"
      ]
     },
     "metadata": {},
     "output_type": "display_data"
    },
    {
     "name": "stdout",
     "output_type": "stream",
     "text": [
      "{'name': 'LR', 'score': 0.79960039960039953}\n{'name': 'LDA', 'score': 0.80739260739260743}\n{'name': 'KNN', 'score': 0.69595404595404597}\n{'name': 'CART', 'score': 0.7403096903096904}\n{'name': 'NB', 'score': 0.79890109890109895}\n{'name': 'SVM', 'score': 0.67792207792207793}\n"
     ]
    },
    {
     "data": {
      "text/markdown": [
       "**Training Section** for: 20 features"
      ],
      "text/plain": [
       "<IPython.core.display.Markdown object>"
      ]
     },
     "metadata": {},
     "output_type": "display_data"
    },
    {
     "data": {
      "image/png": "[encoded data removed]",
      "text/plain": [
       "<matplotlib.figure.Figure at 0x22b5a2fc908>"
      ]
     },
     "metadata": {},
     "output_type": "display_data"
    },
    {
     "data": {
      "text/markdown": [
       "The best model for the given data is: <span style=\"color:green\">LDA</span> with the score <span style=\"color:green\">0.806060606061</span>"
      ],
      "text/plain": [
       "<IPython.core.display.Markdown object>"
      ]
     },
     "metadata": {},
     "output_type": "display_data"
    },
    {
     "name": "stdout",
     "output_type": "stream",
     "text": [
      "{'name': 'LR', 'score': 0.79828504828504832}\n{'name': 'LDA', 'score': 0.80606060606060626}\n{'name': 'KNN', 'score': 0.67787212787212781}\n{'name': 'CART', 'score': 0.72885447885447885}\n{'name': 'NB', 'score': 0.80401265401265398}\n{'name': 'SVM', 'score': 0.67792207792207793}\n"
     ]
    }
   ],
   "source": [
    "    best_tr_results = []\n",
    "    # new_trains.reverse()\n",
    "    for X_train_mod in new_trains:\n",
    "        # train the new shape\n",
    "        printmd(\"**Training Section** for: \" + str(X_train_mod.shape[-1]) + \" features\")\n",
    "        train_resultes = train_the_data(X_train_mod,Y_train,models)\n",
    "        best_tr = get_the_best(train_resultes)\n",
    "        best_tr_results.append({\"name\":best_tr['name'],\"score\":best_tr['score'],\"num_fetures\":int(X_train_mod.shape[-1])})\n",
    "        for model in train_resultes:\n",
    "            print (model)"
   ]
  },
  {
   "cell_type": "code",
   "execution_count": 16,
   "metadata": {},
   "outputs": [
    {
     "name": "stdout",
     "output_type": "stream",
     "text": [
      "{'name': 'SVM', 'score': 0.75792540792540797, 'num_fetures': 1}\n{'name': 'KNN', 'score': 0.76421911421911415, 'num_fetures': 2}\n{'name': 'KNN', 'score': 0.77752247752247738, 'num_fetures': 3}\n{'name': 'LDA', 'score': 0.79560439560439566, 'num_fetures': 4}\n{'name': 'LDA', 'score': 0.7981185481185481, 'num_fetures': 5}\n{'name': 'LDA', 'score': 0.82274392274392272, 'num_fetures': 6}\n{'name': 'LDA', 'score': 0.824025974025974, 'num_fetures': 7}\n{'name': 'NB', 'score': 0.82072927072927082, 'num_fetures': 8}\n{'name': 'LDA', 'score': 0.81763236763236757, 'num_fetures': 9}\n{'name': 'LDA', 'score': 0.8202630702630701, 'num_fetures': 10}\n{'name': 'NB', 'score': 0.8207958707958708, 'num_fetures': 11}\n{'name': 'LDA', 'score': 0.81640026640026642, 'num_fetures': 12}\n{'name': 'LDA', 'score': 0.81768231768231769, 'num_fetures': 13}\n{'name': 'LDA', 'score': 0.80994005994005991, 'num_fetures': 14}\n{'name': 'LDA', 'score': 0.81252081252081254, 'num_fetures': 15}\n{'name': 'LR', 'score': 0.81125541125541134, 'num_fetures': 16}\n{'name': 'LDA', 'score': 0.81378621378621374, 'num_fetures': 17}\n{'name': 'LDA', 'score': 0.80995670995670999, 'num_fetures': 18}\n{'name': 'LDA', 'score': 0.80739260739260743, 'num_fetures': 19}\n{'name': 'LDA', 'score': 0.80606060606060626, 'num_fetures': 20}\n"
     ]
    },
    {
     "data": {
      "text/plain": [
       "[<matplotlib.lines.Line2D at 0x22b6d443b38>,\n <matplotlib.lines.Line2D at 0x22b6d443cf8>]"
      ]
     },
     "execution_count": 16,
     "metadata": {},
     "output_type": "execute_result"
    }
   ],
   "source": [
    "    for best in best_tr_results:\n",
    "        print(best)\n",
    "    plt.plot(new_range, np.column_stack((new_shapes_ratio, [rs['score'] for rs in best_tr_results])))"
   ]
  },
  {
   "cell_type": "code",
   "execution_count": null,
   "metadata": {},
   "outputs": [
    {
     "data": {
      "text/markdown": [
       "**Training Section** for: 418976 features"
      ],
      "text/plain": [
       "<IPython.core.display.Markdown object>"
      ]
     },
     "metadata": {},
     "output_type": "display_data"
    },
    {
     "name": "stderr",
     "output_type": "stream",
     "text": [
      "C:\\Users\\motybz\\Anaconda3\\envs\\lib\\site-packages\\sklearn\\discriminant_analysis.py:388: UserWarning: Variables are collinear.\n  warnings.warn(\"Variables are collinear.\")\n"
     ]
    },
    {
     "name": "stderr",
     "output_type": "stream",
     "text": [
      "C:\\Users\\motybz\\Anaconda3\\envs\\lib\\site-packages\\sklearn\\discriminant_analysis.py:388: UserWarning: Variables are collinear.\n  warnings.warn(\"Variables are collinear.\")\n"
     ]
    },
    {
     "name": "stderr",
     "output_type": "stream",
     "text": [
      "C:\\Users\\motybz\\Anaconda3\\envs\\lib\\site-packages\\sklearn\\discriminant_analysis.py:388: UserWarning: Variables are collinear.\n  warnings.warn(\"Variables are collinear.\")\n"
     ]
    },
    {
     "name": "stderr",
     "output_type": "stream",
     "text": [
      "C:\\Users\\motybz\\Anaconda3\\envs\\lib\\site-packages\\sklearn\\discriminant_analysis.py:388: UserWarning: Variables are collinear.\n  warnings.warn(\"Variables are collinear.\")\n"
     ]
    },
    {
     "name": "stderr",
     "output_type": "stream",
     "text": [
      "C:\\Users\\motybz\\Anaconda3\\envs\\lib\\site-packages\\sklearn\\discriminant_analysis.py:388: UserWarning: Variables are collinear.\n  warnings.warn(\"Variables are collinear.\")\n"
     ]
    },
    {
     "name": "stderr",
     "output_type": "stream",
     "text": [
      "C:\\Users\\motybz\\Anaconda3\\envs\\lib\\site-packages\\sklearn\\discriminant_analysis.py:388: UserWarning: Variables are collinear.\n  warnings.warn(\"Variables are collinear.\")\n"
     ]
    },
    {
     "name": "stderr",
     "output_type": "stream",
     "text": [
      "C:\\Users\\motybz\\Anaconda3\\envs\\lib\\site-packages\\sklearn\\discriminant_analysis.py:388: UserWarning: Variables are collinear.\n  warnings.warn(\"Variables are collinear.\")\n"
     ]
    },
    {
     "name": "stderr",
     "output_type": "stream",
     "text": [
      "C:\\Users\\motybz\\Anaconda3\\envs\\lib\\site-packages\\sklearn\\discriminant_analysis.py:388: UserWarning: Variables are collinear.\n  warnings.warn(\"Variables are collinear.\")\n"
     ]
    },
    {
     "name": "stderr",
     "output_type": "stream",
     "text": [
      "C:\\Users\\motybz\\Anaconda3\\envs\\lib\\site-packages\\sklearn\\discriminant_analysis.py:388: UserWarning: Variables are collinear.\n  warnings.warn(\"Variables are collinear.\")\n"
     ]
    },
    {
     "name": "stderr",
     "output_type": "stream",
     "text": [
      "C:\\Users\\motybz\\Anaconda3\\envs\\lib\\site-packages\\sklearn\\discriminant_analysis.py:388: UserWarning: Variables are collinear.\n  warnings.warn(\"Variables are collinear.\")\n"
     ]
    },
    {
     "data": {
      "image/png": "[encoded data removed]",
      "text/plain": [
       "<matplotlib.figure.Figure at 0x26e0470e128>"
      ]
     },
     "metadata": {},
     "output_type": "display_data"
    },
    {
     "data": {
      "text/markdown": [
       "The best model for the given data is: <span style=\"color:green\">LR</span> with the score <span style=\"color:green\">0.7144444444444444</span>"
      ],
      "text/plain": [
       "<IPython.core.display.Markdown object>"
      ]
     },
     "metadata": {},
     "output_type": "display_data"
    },
    {
     "name": "stdout",
     "output_type": "stream",
     "text": [
      "{'name': 'LR', 'score': 0.7144444444444444}\n{'name': 'LDA', 'score': 0.6266666666666667}\n{'name': 'KNN', 'score': 0.5822222222222223}\n{'name': 'CART', 'score': 0.62}\n{'name': 'NB', 'score': 0.6177777777777778}\n{'name': 'SVM', 'score': 0.5411111111111111}\n"
     ]
    },
    {
     "data": {
      "text/markdown": [
       "**Training Section** for: 300021 features"
      ],
      "text/plain": [
       "<IPython.core.display.Markdown object>"
      ]
     },
     "metadata": {},
     "output_type": "display_data"
    },
    {
     "name": "stderr",
     "output_type": "stream",
     "text": [
      "C:\\Users\\motybz\\Anaconda3\\envs\\lib\\site-packages\\sklearn\\discriminant_analysis.py:388: UserWarning: Variables are collinear.\n  warnings.warn(\"Variables are collinear.\")\n"
     ]
    },
    {
     "name": "stderr",
     "output_type": "stream",
     "text": [
      "C:\\Users\\motybz\\Anaconda3\\envs\\lib\\site-packages\\sklearn\\discriminant_analysis.py:388: UserWarning: Variables are collinear.\n  warnings.warn(\"Variables are collinear.\")\n"
     ]
    },
    {
     "name": "stderr",
     "output_type": "stream",
     "text": [
      "C:\\Users\\motybz\\Anaconda3\\envs\\lib\\site-packages\\sklearn\\discriminant_analysis.py:388: UserWarning: Variables are collinear.\n  warnings.warn(\"Variables are collinear.\")\n"
     ]
    },
    {
     "name": "stderr",
     "output_type": "stream",
     "text": [
      "C:\\Users\\motybz\\Anaconda3\\envs\\lib\\site-packages\\sklearn\\discriminant_analysis.py:388: UserWarning: Variables are collinear.\n  warnings.warn(\"Variables are collinear.\")\n"
     ]
    },
    {
     "name": "stderr",
     "output_type": "stream",
     "text": [
      "C:\\Users\\motybz\\Anaconda3\\envs\\lib\\site-packages\\sklearn\\discriminant_analysis.py:388: UserWarning: Variables are collinear.\n  warnings.warn(\"Variables are collinear.\")\n"
     ]
    },
    {
     "name": "stderr",
     "output_type": "stream",
     "text": [
      "C:\\Users\\motybz\\Anaconda3\\envs\\lib\\site-packages\\sklearn\\discriminant_analysis.py:388: UserWarning: Variables are collinear.\n  warnings.warn(\"Variables are collinear.\")\n"
     ]
    },
    {
     "name": "stderr",
     "output_type": "stream",
     "text": [
      "C:\\Users\\motybz\\Anaconda3\\envs\\lib\\site-packages\\sklearn\\discriminant_analysis.py:388: UserWarning: Variables are collinear.\n  warnings.warn(\"Variables are collinear.\")\n"
     ]
    },
    {
     "name": "stderr",
     "output_type": "stream",
     "text": [
      "C:\\Users\\motybz\\Anaconda3\\envs\\lib\\site-packages\\sklearn\\discriminant_analysis.py:388: UserWarning: Variables are collinear.\n  warnings.warn(\"Variables are collinear.\")\n"
     ]
    },
    {
     "name": "stderr",
     "output_type": "stream",
     "text": [
      "C:\\Users\\motybz\\Anaconda3\\envs\\lib\\site-packages\\sklearn\\discriminant_analysis.py:388: UserWarning: Variables are collinear.\n  warnings.warn(\"Variables are collinear.\")\n"
     ]
    },
    {
     "name": "stderr",
     "output_type": "stream",
     "text": [
      "C:\\Users\\motybz\\Anaconda3\\envs\\lib\\site-packages\\sklearn\\discriminant_analysis.py:388: UserWarning: Variables are collinear.\n  warnings.warn(\"Variables are collinear.\")\n"
     ]
    },
    {
     "data": {
      "image/png": "[encoded data removed]",
      "text/plain": [
       "<matplotlib.figure.Figure at 0x26e02f1f9e8>"
      ]
     },
     "metadata": {},
     "output_type": "display_data"
    },
    {
     "data": {
      "text/markdown": [
       "The best model for the given data is: <span style=\"color:green\">LR</span> with the score <span style=\"color:green\">0.6933333333333334</span>"
      ],
      "text/plain": [
       "<IPython.core.display.Markdown object>"
      ]
     },
     "metadata": {},
     "output_type": "display_data"
    },
    {
     "name": "stdout",
     "output_type": "stream",
     "text": [
      "{'name': 'LR', 'score': 0.6933333333333334}\n{'name': 'LDA', 'score': 0.6166666666666666}\n{'name': 'KNN', 'score': 0.5822222222222222}\n{'name': 'CART', 'score': 0.5977777777777777}\n{'name': 'NB', 'score': 0.6211111111111112}\n{'name': 'SVM', 'score': 0.5411111111111111}\n"
     ]
    },
    {
     "data": {
      "text/markdown": [
       "**Training Section** for: 249789 features"
      ],
      "text/plain": [
       "<IPython.core.display.Markdown object>"
      ]
     },
     "metadata": {},
     "output_type": "display_data"
    },
    {
     "name": "stderr",
     "output_type": "stream",
     "text": [
      "C:\\Users\\motybz\\Anaconda3\\envs\\lib\\site-packages\\sklearn\\discriminant_analysis.py:388: UserWarning: Variables are collinear.\n  warnings.warn(\"Variables are collinear.\")\n"
     ]
    },
    {
     "name": "stderr",
     "output_type": "stream",
     "text": [
      "C:\\Users\\motybz\\Anaconda3\\envs\\lib\\site-packages\\sklearn\\discriminant_analysis.py:388: UserWarning: Variables are collinear.\n  warnings.warn(\"Variables are collinear.\")\n"
     ]
    },
    {
     "name": "stderr",
     "output_type": "stream",
     "text": [
      "C:\\Users\\motybz\\Anaconda3\\envs\\lib\\site-packages\\sklearn\\discriminant_analysis.py:388: UserWarning: Variables are collinear.\n  warnings.warn(\"Variables are collinear.\")\n"
     ]
    },
    {
     "name": "stderr",
     "output_type": "stream",
     "text": [
      "C:\\Users\\motybz\\Anaconda3\\envs\\lib\\site-packages\\sklearn\\discriminant_analysis.py:388: UserWarning: Variables are collinear.\n  warnings.warn(\"Variables are collinear.\")\n"
     ]
    },
    {
     "name": "stderr",
     "output_type": "stream",
     "text": [
      "C:\\Users\\motybz\\Anaconda3\\envs\\lib\\site-packages\\sklearn\\discriminant_analysis.py:388: UserWarning: Variables are collinear.\n  warnings.warn(\"Variables are collinear.\")\n"
     ]
    },
    {
     "name": "stderr",
     "output_type": "stream",
     "text": [
      "C:\\Users\\motybz\\Anaconda3\\envs\\lib\\site-packages\\sklearn\\discriminant_analysis.py:388: UserWarning: Variables are collinear.\n  warnings.warn(\"Variables are collinear.\")\n"
     ]
    },
    {
     "name": "stderr",
     "output_type": "stream",
     "text": [
      "C:\\Users\\motybz\\Anaconda3\\envs\\lib\\site-packages\\sklearn\\discriminant_analysis.py:388: UserWarning: Variables are collinear.\n  warnings.warn(\"Variables are collinear.\")\n"
     ]
    },
    {
     "name": "stderr",
     "output_type": "stream",
     "text": [
      "C:\\Users\\motybz\\Anaconda3\\envs\\lib\\site-packages\\sklearn\\discriminant_analysis.py:388: UserWarning: Variables are collinear.\n  warnings.warn(\"Variables are collinear.\")\n"
     ]
    },
    {
     "name": "stderr",
     "output_type": "stream",
     "text": [
      "C:\\Users\\motybz\\Anaconda3\\envs\\lib\\site-packages\\sklearn\\discriminant_analysis.py:388: UserWarning: Variables are collinear.\n  warnings.warn(\"Variables are collinear.\")\n"
     ]
    },
    {
     "name": "stderr",
     "output_type": "stream",
     "text": [
      "C:\\Users\\motybz\\Anaconda3\\envs\\lib\\site-packages\\sklearn\\discriminant_analysis.py:388: UserWarning: Variables are collinear.\n  warnings.warn(\"Variables are collinear.\")\n"
     ]
    },
    {
     "data": {
      "image/png": "[encoded data removed]",
      "text/plain": [
       "<matplotlib.figure.Figure at 0x26e02f13e10>"
      ]
     },
     "metadata": {},
     "output_type": "display_data"
    },
    {
     "data": {
      "text/markdown": [
       "The best model for the given data is: <span style=\"color:green\">LR</span> with the score <span style=\"color:green\">0.6933333333333334</span>"
      ],
      "text/plain": [
       "<IPython.core.display.Markdown object>"
      ]
     },
     "metadata": {},
     "output_type": "display_data"
    },
    {
     "name": "stdout",
     "output_type": "stream",
     "text": [
      "{'name': 'LR', 'score': 0.6933333333333334}\n{'name': 'LDA', 'score': 0.6277777777777778}\n{'name': 'KNN', 'score': 0.5933333333333334}\n{'name': 'CART', 'score': 0.5211111111111111}\n{'name': 'NB', 'score': 0.598888888888889}\n{'name': 'SVM', 'score': 0.5411111111111111}\n"
     ]
    },
    {
     "data": {
      "text/markdown": [
       "**Training Section** for: 212518 features"
      ],
      "text/plain": [
       "<IPython.core.display.Markdown object>"
      ]
     },
     "metadata": {},
     "output_type": "display_data"
    },
    {
     "name": "stderr",
     "output_type": "stream",
     "text": [
      "C:\\Users\\motybz\\Anaconda3\\envs\\lib\\site-packages\\sklearn\\discriminant_analysis.py:388: UserWarning: Variables are collinear.\n  warnings.warn(\"Variables are collinear.\")\n"
     ]
    },
    {
     "name": "stderr",
     "output_type": "stream",
     "text": [
      "C:\\Users\\motybz\\Anaconda3\\envs\\lib\\site-packages\\sklearn\\discriminant_analysis.py:388: UserWarning: Variables are collinear.\n  warnings.warn(\"Variables are collinear.\")\n"
     ]
    },
    {
     "name": "stderr",
     "output_type": "stream",
     "text": [
      "C:\\Users\\motybz\\Anaconda3\\envs\\lib\\site-packages\\sklearn\\discriminant_analysis.py:388: UserWarning: Variables are collinear.\n  warnings.warn(\"Variables are collinear.\")\n"
     ]
    },
    {
     "name": "stderr",
     "output_type": "stream",
     "text": [
      "C:\\Users\\motybz\\Anaconda3\\envs\\lib\\site-packages\\sklearn\\discriminant_analysis.py:388: UserWarning: Variables are collinear.\n  warnings.warn(\"Variables are collinear.\")\n"
     ]
    },
    {
     "name": "stderr",
     "output_type": "stream",
     "text": [
      "C:\\Users\\motybz\\Anaconda3\\envs\\lib\\site-packages\\sklearn\\discriminant_analysis.py:388: UserWarning: Variables are collinear.\n  warnings.warn(\"Variables are collinear.\")\n"
     ]
    },
    {
     "name": "stderr",
     "output_type": "stream",
     "text": [
      "C:\\Users\\motybz\\Anaconda3\\envs\\lib\\site-packages\\sklearn\\discriminant_analysis.py:388: UserWarning: Variables are collinear.\n  warnings.warn(\"Variables are collinear.\")\n"
     ]
    },
    {
     "name": "stderr",
     "output_type": "stream",
     "text": [
      "C:\\Users\\motybz\\Anaconda3\\envs\\lib\\site-packages\\sklearn\\discriminant_analysis.py:388: UserWarning: Variables are collinear.\n  warnings.warn(\"Variables are collinear.\")\n"
     ]
    },
    {
     "name": "stderr",
     "output_type": "stream",
     "text": [
      "C:\\Users\\motybz\\Anaconda3\\envs\\lib\\site-packages\\sklearn\\discriminant_analysis.py:388: UserWarning: Variables are collinear.\n  warnings.warn(\"Variables are collinear.\")\n"
     ]
    },
    {
     "name": "stderr",
     "output_type": "stream",
     "text": [
      "C:\\Users\\motybz\\Anaconda3\\envs\\lib\\site-packages\\sklearn\\discriminant_analysis.py:388: UserWarning: Variables are collinear.\n  warnings.warn(\"Variables are collinear.\")\n"
     ]
    },
    {
     "name": "stderr",
     "output_type": "stream",
     "text": [
      "C:\\Users\\motybz\\Anaconda3\\envs\\lib\\site-packages\\sklearn\\discriminant_analysis.py:388: UserWarning: Variables are collinear.\n  warnings.warn(\"Variables are collinear.\")\n"
     ]
    },
    {
     "data": {
      "image/png": "[encoded data removed]",
      "text/plain": [
       "<matplotlib.figure.Figure at 0x26e017b6d30>"
      ]
     },
     "metadata": {},
     "output_type": "display_data"
    },
    {
     "data": {
      "text/markdown": [
       "The best model for the given data is: <span style=\"color:green\">LR</span> with the score <span style=\"color:green\">0.6922222222222223</span>"
      ],
      "text/plain": [
       "<IPython.core.display.Markdown object>"
      ]
     },
     "metadata": {},
     "output_type": "display_data"
    },
    {
     "name": "stdout",
     "output_type": "stream",
     "text": [
      "{'name': 'LR', 'score': 0.6922222222222223}\n{'name': 'LDA', 'score': 0.6488888888888888}\n{'name': 'KNN', 'score': 0.56}\n{'name': 'CART', 'score': 0.5544444444444444}\n{'name': 'NB', 'score': 0.5888888888888889}\n{'name': 'SVM', 'score': 0.5411111111111111}\n"
     ]
    },
    {
     "data": {
      "text/markdown": [
       "**Training Section** for: 181350 features"
      ],
      "text/plain": [
       "<IPython.core.display.Markdown object>"
      ]
     },
     "metadata": {},
     "output_type": "display_data"
    },
    {
     "name": "stderr",
     "output_type": "stream",
     "text": [
      "C:\\Users\\motybz\\Anaconda3\\envs\\lib\\site-packages\\sklearn\\discriminant_analysis.py:388: UserWarning: Variables are collinear.\n  warnings.warn(\"Variables are collinear.\")\n"
     ]
    },
    {
     "name": "stderr",
     "output_type": "stream",
     "text": [
      "C:\\Users\\motybz\\Anaconda3\\envs\\lib\\site-packages\\sklearn\\discriminant_analysis.py:388: UserWarning: Variables are collinear.\n  warnings.warn(\"Variables are collinear.\")\n"
     ]
    },
    {
     "name": "stderr",
     "output_type": "stream",
     "text": [
      "C:\\Users\\motybz\\Anaconda3\\envs\\lib\\site-packages\\sklearn\\discriminant_analysis.py:388: UserWarning: Variables are collinear.\n  warnings.warn(\"Variables are collinear.\")\n"
     ]
    },
    {
     "name": "stderr",
     "output_type": "stream",
     "text": [
      "C:\\Users\\motybz\\Anaconda3\\envs\\lib\\site-packages\\sklearn\\discriminant_analysis.py:388: UserWarning: Variables are collinear.\n  warnings.warn(\"Variables are collinear.\")\n"
     ]
    },
    {
     "name": "stderr",
     "output_type": "stream",
     "text": [
      "C:\\Users\\motybz\\Anaconda3\\envs\\lib\\site-packages\\sklearn\\discriminant_analysis.py:388: UserWarning: Variables are collinear.\n  warnings.warn(\"Variables are collinear.\")\n"
     ]
    },
    {
     "name": "stderr",
     "output_type": "stream",
     "text": [
      "C:\\Users\\motybz\\Anaconda3\\envs\\lib\\site-packages\\sklearn\\discriminant_analysis.py:388: UserWarning: Variables are collinear.\n  warnings.warn(\"Variables are collinear.\")\n"
     ]
    },
    {
     "name": "stderr",
     "output_type": "stream",
     "text": [
      "C:\\Users\\motybz\\Anaconda3\\envs\\lib\\site-packages\\sklearn\\discriminant_analysis.py:388: UserWarning: Variables are collinear.\n  warnings.warn(\"Variables are collinear.\")\n"
     ]
    },
    {
     "name": "stderr",
     "output_type": "stream",
     "text": [
      "C:\\Users\\motybz\\Anaconda3\\envs\\lib\\site-packages\\sklearn\\discriminant_analysis.py:388: UserWarning: Variables are collinear.\n  warnings.warn(\"Variables are collinear.\")\n"
     ]
    },
    {
     "name": "stderr",
     "output_type": "stream",
     "text": [
      "C:\\Users\\motybz\\Anaconda3\\envs\\lib\\site-packages\\sklearn\\discriminant_analysis.py:388: UserWarning: Variables are collinear.\n  warnings.warn(\"Variables are collinear.\")\n"
     ]
    },
    {
     "name": "stderr",
     "output_type": "stream",
     "text": [
      "C:\\Users\\motybz\\Anaconda3\\envs\\lib\\site-packages\\sklearn\\discriminant_analysis.py:388: UserWarning: Variables are collinear.\n  warnings.warn(\"Variables are collinear.\")\n"
     ]
    },
    {
     "data": {
      "image/png": "[encoded data removed]",
      "text/plain": [
       "<matplotlib.figure.Figure at 0x26e04687b00>"
      ]
     },
     "metadata": {},
     "output_type": "display_data"
    },
    {
     "data": {
      "text/markdown": [
       "The best model for the given data is: <span style=\"color:green\">LR</span> with the score <span style=\"color:green\">0.7033333333333334</span>"
      ],
      "text/plain": [
       "<IPython.core.display.Markdown object>"
      ]
     },
     "metadata": {},
     "output_type": "display_data"
    },
    {
     "name": "stdout",
     "output_type": "stream",
     "text": [
      "{'name': 'LR', 'score': 0.7033333333333334}\n{'name': 'LDA', 'score': 0.6488888888888888}\n{'name': 'KNN', 'score': 0.5811111111111111}\n{'name': 'CART', 'score': 0.5466666666666666}\n{'name': 'NB', 'score': 0.5333333333333334}\n{'name': 'SVM', 'score': 0.5411111111111111}\n"
     ]
    },
    {
     "data": {
      "text/markdown": [
       "**Training Section** for: 153725 features"
      ],
      "text/plain": [
       "<IPython.core.display.Markdown object>"
      ]
     },
     "metadata": {},
     "output_type": "display_data"
    },
    {
     "name": "stderr",
     "output_type": "stream",
     "text": [
      "C:\\Users\\motybz\\Anaconda3\\envs\\lib\\site-packages\\sklearn\\discriminant_analysis.py:388: UserWarning: Variables are collinear.\n  warnings.warn(\"Variables are collinear.\")\n"
     ]
    },
    {
     "name": "stderr",
     "output_type": "stream",
     "text": [
      "C:\\Users\\motybz\\Anaconda3\\envs\\lib\\site-packages\\sklearn\\discriminant_analysis.py:388: UserWarning: Variables are collinear.\n  warnings.warn(\"Variables are collinear.\")\n"
     ]
    },
    {
     "name": "stderr",
     "output_type": "stream",
     "text": [
      "C:\\Users\\motybz\\Anaconda3\\envs\\lib\\site-packages\\sklearn\\discriminant_analysis.py:388: UserWarning: Variables are collinear.\n  warnings.warn(\"Variables are collinear.\")\n"
     ]
    },
    {
     "name": "stderr",
     "output_type": "stream",
     "text": [
      "C:\\Users\\motybz\\Anaconda3\\envs\\lib\\site-packages\\sklearn\\discriminant_analysis.py:388: UserWarning: Variables are collinear.\n  warnings.warn(\"Variables are collinear.\")\n"
     ]
    },
    {
     "name": "stderr",
     "output_type": "stream",
     "text": [
      "C:\\Users\\motybz\\Anaconda3\\envs\\lib\\site-packages\\sklearn\\discriminant_analysis.py:388: UserWarning: Variables are collinear.\n  warnings.warn(\"Variables are collinear.\")\n"
     ]
    },
    {
     "name": "stderr",
     "output_type": "stream",
     "text": [
      "C:\\Users\\motybz\\Anaconda3\\envs\\lib\\site-packages\\sklearn\\discriminant_analysis.py:388: UserWarning: Variables are collinear.\n  warnings.warn(\"Variables are collinear.\")\n"
     ]
    },
    {
     "name": "stderr",
     "output_type": "stream",
     "text": [
      "C:\\Users\\motybz\\Anaconda3\\envs\\lib\\site-packages\\sklearn\\discriminant_analysis.py:388: UserWarning: Variables are collinear.\n  warnings.warn(\"Variables are collinear.\")\n"
     ]
    },
    {
     "name": "stderr",
     "output_type": "stream",
     "text": [
      "C:\\Users\\motybz\\Anaconda3\\envs\\lib\\site-packages\\sklearn\\discriminant_analysis.py:388: UserWarning: Variables are collinear.\n  warnings.warn(\"Variables are collinear.\")\n"
     ]
    },
    {
     "name": "stderr",
     "output_type": "stream",
     "text": [
      "C:\\Users\\motybz\\Anaconda3\\envs\\lib\\site-packages\\sklearn\\discriminant_analysis.py:388: UserWarning: Variables are collinear.\n  warnings.warn(\"Variables are collinear.\")\n"
     ]
    },
    {
     "name": "stderr",
     "output_type": "stream",
     "text": [
      "C:\\Users\\motybz\\Anaconda3\\envs\\lib\\site-packages\\sklearn\\discriminant_analysis.py:388: UserWarning: Variables are collinear.\n  warnings.warn(\"Variables are collinear.\")\n"
     ]
    },
    {
     "data": {
      "image/png": "[encoded data removed]",
      "text/plain": [
       "<matplotlib.figure.Figure at 0x26e01732518>"
      ]
     },
     "metadata": {},
     "output_type": "display_data"
    },
    {
     "data": {
      "text/markdown": [
       "The best model for the given data is: <span style=\"color:green\">LR</span> with the score <span style=\"color:green\">0.7033333333333334</span>"
      ],
      "text/plain": [
       "<IPython.core.display.Markdown object>"
      ]
     },
     "metadata": {},
     "output_type": "display_data"
    },
    {
     "name": "stdout",
     "output_type": "stream",
     "text": [
      "{'name': 'LR', 'score': 0.7033333333333334}\n{'name': 'LDA', 'score': 0.6599999999999999}\n{'name': 'KNN', 'score': 0.5922222222222222}\n{'name': 'CART', 'score': 0.6533333333333333}\n{'name': 'NB', 'score': 0.5344444444444444}\n{'name': 'SVM', 'score': 0.5411111111111111}\n"
     ]
    },
    {
     "data": {
      "text/markdown": [
       "**Training Section** for: 129439 features"
      ],
      "text/plain": [
       "<IPython.core.display.Markdown object>"
      ]
     },
     "metadata": {},
     "output_type": "display_data"
    },
    {
     "name": "stderr",
     "output_type": "stream",
     "text": [
      "C:\\Users\\motybz\\Anaconda3\\envs\\lib\\site-packages\\sklearn\\discriminant_analysis.py:388: UserWarning: Variables are collinear.\n  warnings.warn(\"Variables are collinear.\")\n"
     ]
    },
    {
     "name": "stderr",
     "output_type": "stream",
     "text": [
      "C:\\Users\\motybz\\Anaconda3\\envs\\lib\\site-packages\\sklearn\\discriminant_analysis.py:388: UserWarning: Variables are collinear.\n  warnings.warn(\"Variables are collinear.\")\n"
     ]
    },
    {
     "name": "stderr",
     "output_type": "stream",
     "text": [
      "C:\\Users\\motybz\\Anaconda3\\envs\\lib\\site-packages\\sklearn\\discriminant_analysis.py:388: UserWarning: Variables are collinear.\n  warnings.warn(\"Variables are collinear.\")\n"
     ]
    },
    {
     "name": "stderr",
     "output_type": "stream",
     "text": [
      "C:\\Users\\motybz\\Anaconda3\\envs\\lib\\site-packages\\sklearn\\discriminant_analysis.py:388: UserWarning: Variables are collinear.\n  warnings.warn(\"Variables are collinear.\")\n"
     ]
    },
    {
     "name": "stderr",
     "output_type": "stream",
     "text": [
      "C:\\Users\\motybz\\Anaconda3\\envs\\lib\\site-packages\\sklearn\\discriminant_analysis.py:388: UserWarning: Variables are collinear.\n  warnings.warn(\"Variables are collinear.\")\n"
     ]
    },
    {
     "name": "stderr",
     "output_type": "stream",
     "text": [
      "C:\\Users\\motybz\\Anaconda3\\envs\\lib\\site-packages\\sklearn\\discriminant_analysis.py:388: UserWarning: Variables are collinear.\n  warnings.warn(\"Variables are collinear.\")\n"
     ]
    },
    {
     "name": "stderr",
     "output_type": "stream",
     "text": [
      "C:\\Users\\motybz\\Anaconda3\\envs\\lib\\site-packages\\sklearn\\discriminant_analysis.py:388: UserWarning: Variables are collinear.\n  warnings.warn(\"Variables are collinear.\")\n"
     ]
    },
    {
     "name": "stderr",
     "output_type": "stream",
     "text": [
      "C:\\Users\\motybz\\Anaconda3\\envs\\lib\\site-packages\\sklearn\\discriminant_analysis.py:388: UserWarning: Variables are collinear.\n  warnings.warn(\"Variables are collinear.\")\n"
     ]
    },
    {
     "name": "stderr",
     "output_type": "stream",
     "text": [
      "C:\\Users\\motybz\\Anaconda3\\envs\\lib\\site-packages\\sklearn\\discriminant_analysis.py:388: UserWarning: Variables are collinear.\n  warnings.warn(\"Variables are collinear.\")\n"
     ]
    },
    {
     "name": "stderr",
     "output_type": "stream",
     "text": [
      "C:\\Users\\motybz\\Anaconda3\\envs\\lib\\site-packages\\sklearn\\discriminant_analysis.py:388: UserWarning: Variables are collinear.\n  warnings.warn(\"Variables are collinear.\")\n"
     ]
    },
    {
     "data": {
      "image/png": "[encoded data removed]",
      "text/plain": [
       "<matplotlib.figure.Figure at 0x26e018bd470>"
      ]
     },
     "metadata": {},
     "output_type": "display_data"
    },
    {
     "data": {
      "text/markdown": [
       "The best model for the given data is: <span style=\"color:green\">LR</span> with the score <span style=\"color:green\">0.7033333333333334</span>"
      ],
      "text/plain": [
       "<IPython.core.display.Markdown object>"
      ]
     },
     "metadata": {},
     "output_type": "display_data"
    },
    {
     "name": "stdout",
     "output_type": "stream",
     "text": [
      "{'name': 'LR', 'score': 0.7033333333333334}\n{'name': 'LDA', 'score': 0.6588888888888889}\n{'name': 'KNN', 'score': 0.5922222222222222}\n{'name': 'CART', 'score': 0.6622222222222222}\n{'name': 'NB', 'score': 0.5555555555555556}\n{'name': 'SVM', 'score': 0.5411111111111111}\n"
     ]
    },
    {
     "data": {
      "text/markdown": [
       "**Training Section** for: 108368 features"
      ],
      "text/plain": [
       "<IPython.core.display.Markdown object>"
      ]
     },
     "metadata": {},
     "output_type": "display_data"
    },
    {
     "name": "stderr",
     "output_type": "stream",
     "text": [
      "C:\\Users\\motybz\\Anaconda3\\envs\\lib\\site-packages\\sklearn\\discriminant_analysis.py:388: UserWarning: Variables are collinear.\n  warnings.warn(\"Variables are collinear.\")\n"
     ]
    },
    {
     "name": "stderr",
     "output_type": "stream",
     "text": [
      "C:\\Users\\motybz\\Anaconda3\\envs\\lib\\site-packages\\sklearn\\discriminant_analysis.py:388: UserWarning: Variables are collinear.\n  warnings.warn(\"Variables are collinear.\")\n"
     ]
    },
    {
     "name": "stderr",
     "output_type": "stream",
     "text": [
      "C:\\Users\\motybz\\Anaconda3\\envs\\lib\\site-packages\\sklearn\\discriminant_analysis.py:388: UserWarning: Variables are collinear.\n  warnings.warn(\"Variables are collinear.\")\n"
     ]
    },
    {
     "name": "stderr",
     "output_type": "stream",
     "text": [
      "C:\\Users\\motybz\\Anaconda3\\envs\\lib\\site-packages\\sklearn\\discriminant_analysis.py:388: UserWarning: Variables are collinear.\n  warnings.warn(\"Variables are collinear.\")\n"
     ]
    },
    {
     "name": "stderr",
     "output_type": "stream",
     "text": [
      "C:\\Users\\motybz\\Anaconda3\\envs\\lib\\site-packages\\sklearn\\discriminant_analysis.py:388: UserWarning: Variables are collinear.\n  warnings.warn(\"Variables are collinear.\")\n"
     ]
    },
    {
     "name": "stderr",
     "output_type": "stream",
     "text": [
      "C:\\Users\\motybz\\Anaconda3\\envs\\lib\\site-packages\\sklearn\\discriminant_analysis.py:388: UserWarning: Variables are collinear.\n  warnings.warn(\"Variables are collinear.\")\n"
     ]
    },
    {
     "name": "stderr",
     "output_type": "stream",
     "text": [
      "C:\\Users\\motybz\\Anaconda3\\envs\\lib\\site-packages\\sklearn\\discriminant_analysis.py:388: UserWarning: Variables are collinear.\n  warnings.warn(\"Variables are collinear.\")\n"
     ]
    },
    {
     "name": "stderr",
     "output_type": "stream",
     "text": [
      "C:\\Users\\motybz\\Anaconda3\\envs\\lib\\site-packages\\sklearn\\discriminant_analysis.py:388: UserWarning: Variables are collinear.\n  warnings.warn(\"Variables are collinear.\")\n"
     ]
    },
    {
     "name": "stderr",
     "output_type": "stream",
     "text": [
      "C:\\Users\\motybz\\Anaconda3\\envs\\lib\\site-packages\\sklearn\\discriminant_analysis.py:388: UserWarning: Variables are collinear.\n  warnings.warn(\"Variables are collinear.\")\n"
     ]
    },
    {
     "name": "stderr",
     "output_type": "stream",
     "text": [
      "C:\\Users\\motybz\\Anaconda3\\envs\\lib\\site-packages\\sklearn\\discriminant_analysis.py:388: UserWarning: Variables are collinear.\n  warnings.warn(\"Variables are collinear.\")\n"
     ]
    },
    {
     "data": {
      "image/png": "[encoded data removed]",
      "text/plain": [
       "<matplotlib.figure.Figure at 0x26e01935ef0>"
      ]
     },
     "metadata": {},
     "output_type": "display_data"
    },
    {
     "data": {
      "text/markdown": [
       "The best model for the given data is: <span style=\"color:green\">LR</span> with the score <span style=\"color:green\">0.7144444444444445</span>"
      ],
      "text/plain": [
       "<IPython.core.display.Markdown object>"
      ]
     },
     "metadata": {},
     "output_type": "display_data"
    },
    {
     "name": "stdout",
     "output_type": "stream",
     "text": [
      "{'name': 'LR', 'score': 0.7144444444444445}\n{'name': 'LDA', 'score': 0.6588888888888889}\n{'name': 'KNN', 'score': 0.5822222222222223}\n{'name': 'CART', 'score': 0.5433333333333333}\n{'name': 'NB', 'score': 0.5344444444444445}\n{'name': 'SVM', 'score': 0.5411111111111111}\n"
     ]
    },
    {
     "data": {
      "text/markdown": [
       "**Training Section** for: 90282 features"
      ],
      "text/plain": [
       "<IPython.core.display.Markdown object>"
      ]
     },
     "metadata": {},
     "output_type": "display_data"
    },
    {
     "name": "stderr",
     "output_type": "stream",
     "text": [
      "C:\\Users\\motybz\\Anaconda3\\envs\\lib\\site-packages\\sklearn\\discriminant_analysis.py:388: UserWarning: Variables are collinear.\n  warnings.warn(\"Variables are collinear.\")\n"
     ]
    },
    {
     "name": "stderr",
     "output_type": "stream",
     "text": [
      "C:\\Users\\motybz\\Anaconda3\\envs\\lib\\site-packages\\sklearn\\discriminant_analysis.py:388: UserWarning: Variables are collinear.\n  warnings.warn(\"Variables are collinear.\")\n"
     ]
    },
    {
     "name": "stderr",
     "output_type": "stream",
     "text": [
      "C:\\Users\\motybz\\Anaconda3\\envs\\lib\\site-packages\\sklearn\\discriminant_analysis.py:388: UserWarning: Variables are collinear.\n  warnings.warn(\"Variables are collinear.\")\n"
     ]
    },
    {
     "name": "stderr",
     "output_type": "stream",
     "text": [
      "C:\\Users\\motybz\\Anaconda3\\envs\\lib\\site-packages\\sklearn\\discriminant_analysis.py:388: UserWarning: Variables are collinear.\n  warnings.warn(\"Variables are collinear.\")\n"
     ]
    },
    {
     "name": "stderr",
     "output_type": "stream",
     "text": [
      "C:\\Users\\motybz\\Anaconda3\\envs\\lib\\site-packages\\sklearn\\discriminant_analysis.py:388: UserWarning: Variables are collinear.\n  warnings.warn(\"Variables are collinear.\")\n"
     ]
    },
    {
     "name": "stderr",
     "output_type": "stream",
     "text": [
      "C:\\Users\\motybz\\Anaconda3\\envs\\lib\\site-packages\\sklearn\\discriminant_analysis.py:388: UserWarning: Variables are collinear.\n  warnings.warn(\"Variables are collinear.\")\n"
     ]
    },
    {
     "name": "stderr",
     "output_type": "stream",
     "text": [
      "C:\\Users\\motybz\\Anaconda3\\envs\\lib\\site-packages\\sklearn\\discriminant_analysis.py:388: UserWarning: Variables are collinear.\n  warnings.warn(\"Variables are collinear.\")\n"
     ]
    }
   ],
   "source": [
    "#need to modify the test shape\n",
    "    printmd(\"**Testing Section:**\")\n",
    "    test_results = test_the_data(X_train,Y_train,X_test,Y_test,models)\n",
    "    best_ts = get_the_best(test_results)\n",
    "    for model in test_results:\n",
    "        print (model)\n"
   ]
  },
  {
   "cell_type": "code",
   "execution_count": 9,
   "metadata": {},
   "outputs": [],
   "source": [
    "    # #after we found the elbow\n",
    "    # new_shape = []\n",
    "    # range = np.arange(0.04, 0.17, 0.001)\n",
    "    # for VTHRESH in range:  \n",
    "    #     sel = fs.VarianceThreshold(VTHRESH)\n",
    "    #     x = sel.fit_transform(X_train)\n",
    "    #     new_shape.append(x.shape[-1])\n",
    "    # plt.plot(range, new_shape)"
   ]
  },
  {
   "cell_type": "code",
   "execution_count": null,
   "metadata": {},
   "outputs": [],
   "source": [
    ""
   ]
  },
  {
   "cell_type": "code",
   "execution_count": null,
   "metadata": {},
   "outputs": [],
   "source": []
  }
 ],
 "metadata": {
  "kernelspec": {
   "display_name": "Python 3",
   "language": "python",
   "name": "python3"
  },
  "language_info": {
   "codemirror_mode": {
    "name": "ipython",
    "version": 3
   },
   "file_extension": ".py",
   "mimetype": "text/x-python",
   "name": "python",
   "nbconvert_exporter": "python",
   "pygments_lexer": "ipython3",
   "version": "3.6.3"
  }
 },
 "nbformat": 4,
 "nbformat_minor": 2
}
