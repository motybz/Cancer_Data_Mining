{
 "cells": [
  {
   "cell_type": "code",
   "execution_count": 1,
   "metadata": {},
   "outputs": [],
   "source": [
    "import os ,yaml\n",
    "from operator import itemgetter\n",
    "from tools.import_data import *\n",
    "import matplotlib.pyplot as plt\n",
    "from IPython.display import Markdown, display\n",
    "def printmd(string):\n",
    "    display(Markdown(string))"
   ]
  },
  {
   "cell_type": "code",
   "execution_count": 2,
   "metadata": {},
   "outputs": [],
   "source": [
    "from sklearn import model_selection\n",
    "from sklearn.metrics import roc_auc_score\n",
    "from sklearn import preprocessing\n",
    "from sklearn.metrics import classification_report\n",
    "from sklearn.metrics import confusion_matrix\n",
    "from sklearn.metrics import accuracy_score\n",
    "from sklearn.linear_model import LogisticRegression\n",
    "from sklearn.tree import DecisionTreeClassifier\n",
    "from sklearn.neighbors import KNeighborsClassifier\n",
    "from sklearn.discriminant_analysis import LinearDiscriminantAnalysis\n",
    "from sklearn.naive_bayes import GaussianNB\n",
    "from sklearn.svm import SVC\n",
    "from sklearn import feature_selection as fs\n",
    "from sklearn.preprocessing import LabelEncoder\n",
    "from sklearn.preprocessing import Imputer # for NaN values"
   ]
  },
  {
   "cell_type": "code",
   "execution_count": 8,
   "metadata": {},
   "outputs": [],
   "source": [
    "def train_the_data(X_train,Y_train,models):\n",
    "    # Spot Check Algorithms with cross validation\n",
    "    # evaluate each model in turn\n",
    "    scores = []\n",
    "    names = []\n",
    "    results = []\n",
    "    for name, model in models:\n",
    "        kfold = model_selection.KFold(n_splits=10)\n",
    "        try:\n",
    "            cv_results = model_selection.cross_val_score(model, X_train, Y_train, cv=kfold,n_jobs=-1, scoring=SCORING )\n",
    "        except ValueError as e:\n",
    "            print('ValueError{}'.format(None))\n",
    "        else:\n",
    "            scores.append(cv_results)\n",
    "            names.append(name)\n",
    "            results.append({\"name\":name,\"score\":cv_results.mean()})\n",
    "            # msg = \"%s: %f (%f)\" % (name, cv_results.mean(), cv_results.std())\n",
    "            # print(msg)\n",
    "    # Compare Algorithms\n",
    "    fig = plt.figure()\n",
    "    fig.suptitle('Algorithm Comparison')\n",
    "    ax = fig.add_subplot(111)\n",
    "    plt.boxplot(scores)\n",
    "    ax.set_xticklabels(names)\n",
    "    plt.show()\n",
    "    return results\n",
    "        \n",
    "def test_the_data(X_train,Y_train,X_test,Y_test,models):\n",
    "    # Make predictions on test dataset\n",
    "    results = []\n",
    "    for name, model in models:\n",
    "        model.fit(X_train, Y_train)\n",
    "        predictions = model.predict(X_test)\n",
    "        # print('Model ' , name)\n",
    "        # print('Accuracy: ', accuracy_score(Y_test, predictions))\n",
    "        results.append({\"name\":name,\"score\":accuracy_score(Y_test, predictions)})\n",
    "        #print(confusion_matrix(Y_validation, predictions))\n",
    "        # print(classification_report(Y_test, predictions))\n",
    "    return results \n",
    "    # \n",
    "    # encoder(predict_dataset)\n",
    "    # #print (predict_dataset)\n",
    "    # predict=predict_dataset.values[:,0:22]\n",
    "    # \n",
    "    # predictions = lr.predict(predict)\n",
    "    \n",
    "    # temp = pandas.DataFrame(predict)\n",
    "    # temp['class'] = predictions\n",
    "    # temp.to_csv('predict.csv')\n",
    "def get_the_best(results): # input - list of dict {\"name\":name,\"score\":score}\n",
    "    m = max([k[\"score\"] for k in results])\n",
    "    i = [k[\"score\"] for k in results].index(m)\n",
    "    name = results[i][\"name\"]\n",
    "    printmd('The best model for the given data is: <span style=\"color:green\">' + str(name).format() + '</span> with the score <span style=\"color:green\">' + str(m) + '</span>' )\n",
    "    # print ('The best model for the given train (' + X_train.shape +') is: ' + name + 'with the score ' +m )\n",
    "    return results[i] # the max model (dict type)\n",
    "\n",
    "# def information_gain(X, y):\n",
    "#     def _entropy(labels):\n",
    "#         counts = np.bincount(labels)\n",
    "#         return entropy(counts, base=None)\n",
    "# \n",
    "#     def _ig(x, y):\n",
    "#         # indices where x is set/not set\n",
    "#         x_set = np.nonzero(x)[1]\n",
    "#         x_not_set = np.delete(np.arange(x.shape[1]), x_set)\n",
    "# \n",
    "#         h_x_set = _entropy(y[x_set])\n",
    "#         h_x_not_set = _entropy(y[x_not_set])\n",
    "# \n",
    "#         return entropy_full - (((len(x_set) / f_size) * h_x_set)\n",
    "#                              + ((len(x_not_set) / f_size) * h_x_not_set))\n",
    "# \n",
    "#     entropy_full = _entropy(y)\n",
    "# \n",
    "#     f_size = float(X.shape[0])\n",
    "# \n",
    "#     scores = np.array([_ig(x, y) for x in X.T])\n",
    "#     return scores"
   ]
  },
  {
   "cell_type": "code",
   "execution_count": 9,
   "metadata": {
    "collapsed": true
   },
   "outputs": [
    {
     "name": "stdout",
     "output_type": "stream",
     "text": [
      "Train data shape:  (776, 21)\nTrain labels shape:  (776,)\n"
     ]
    }
   ],
   "source": [
    "#consts\n",
    "FILE_PATH = os.path.dirname(os.path.abspath(\"__file__\"))\n",
    "CONFIG_FILE = os.path.join(FILE_PATH,'config.yml')\n",
    "config = yaml.load(open(CONFIG_FILE,'r'))\n",
    "TRAIN_FILE = config['files']['train_set']\n",
    "TEST_FILE = config['files']['test_set']\n",
    "SCORING = config['score']\n",
    "\n",
    "models = []\n",
    "    \n",
    "models.append(('LR', LogisticRegression()))\n",
    "models.append(('LDA', LinearDiscriminantAnalysis()))\n",
    "models.append(('KNN', KNeighborsClassifier()))\n",
    "models.append(('CART', DecisionTreeClassifier()))\n",
    "models.append(('NB', GaussianNB()))\n",
    "models.append(('SVM', SVC()))\n",
    "\n",
    "if __name__ == \"__main__\":\n",
    "    X_train, Y_train , original_headers_train = load_dataset(TRAIN_FILE) \n",
    "    print ('Train data shape: ', X_train.shape)\n",
    "    print ('Train labels shape: ', Y_train.shape)\n",
    "    if TEST_FILE:\n",
    "        X_test, Y_test ,original_headers_test = load_dataset(TEST_FILE)\n",
    "        print ('Test data shape: ', X_test.shape)\n",
    "        print ('Test labels shape: ', Y_test.shape)"
   ]
  },
  {
   "cell_type": "code",
   "execution_count": 5,
   "metadata": {
    "collapsed": true
   },
   "outputs": [
    {
     "name": "stdout",
     "output_type": "stream",
     "text": [
      "New Train data shape:  (776, 21)\n"
     ]
    },
    {
     "name": "stdout",
     "output_type": "stream",
     "text": [
      "{'feature_name': 'SYM_YRS_SINCE_HEARTBURN_START', 'score': 0.15831363668354803}\n{'feature_name': 'SYM_YRS_SINCE_ACID_TASTE_START', 'score': 0.14614762763071476}\n{'feature_name': 'SEX', 'score': 0.087282279923559081}\n{'feature_name': 'SYM_CHEST_PAIN', 'score': 0.079128326560164775}\n{'feature_name': 'SYM_TAKING_STOMACH_MEDS', 'score': 0.077986074008813411}\n{'feature_name': 'WAIST_CIRCUMFERENCE', 'score': 0.073971615306134941}\n{'feature_name': 'SYM_BURNING_CHEST', 'score': 0.064817252969855632}\n{'feature_name': 'AGE', 'score': 0.0576068306695392}\n{'feature_name': 'HEIGHT', 'score': 0.052711922875013251}\n{'feature_name': 'WEIGHT', 'score': 0.049837888278378761}\n{'feature_name': 'SYM_ACID_TASTE', 'score': 0.036543331737880491}\n{'feature_name': 'SYM_SLEEP_DISRUPTED', 'score': 0.0347961565485011}\n{'feature_name': 'ALC_UNITS_PER_WEEK', 'score': 0.03208134988739797}\n{'feature_name': 'SMK_EVER_SMOKED', 'score': 0.027582189716119476}\n{'feature_name': 'ALC_UNITS_PER_WEEK_AGED_30', 'score': 0.024878007538241098}\n{'feature_name': 'PREFERRED_DRINK', 'score': 0.024258928249316858}\n{'feature_name': 'ALC_DRINK_HEAVILY', 'score': 0.016634108713282414}\n{'feature_name': 'SYM_SORE_THROAT', 'score': 0.013084232291334263}\n{'feature_name': 'EDUCATION_LEVEL', 'score': 0.0084904724434955448}\n{'feature_name': 'SMK_AGE_STARTED', 'score': 0.0}\n{'feature_name': 'SMK_AGE_SMOKING_STOPPED', 'score': 0.0}\n"
     ]
    }
   ],
   "source": [
    "    # Encoding Categorial features and imputing NaN's\n",
    "    # https://chrisalbon.com/machine_learning/preprocessing_structured_data/convert_pandas_categorical_column_into_integers_for_scikit-learn/\n",
    "    # http://pbpython.com/categorical-encoding.html\n",
    "    # https://datascience.stackexchange.com/questions/14069/mass-convert-categorical-columns-in-pandas-not-one-hot-encoding\n",
    "    char_cols = X_train.dtypes.pipe(lambda x: x[x == 'object']).index\n",
    "    if not char_cols.empty:\n",
    "        label_mapping = {}\n",
    "        for c in char_cols:\n",
    "            X_train_non_numeric = X_train.copy()\n",
    "            X_train[c], label_mapping[c] = pd.factorize(X_train[c])\n",
    "    imp = Imputer(axis=0, verbose=1)\n",
    "    imp = imp.fit(X_train)\n",
    "    X_train_imp = imp.transform(X_train)\n",
    "    print ('New Train data shape: ',X_train_imp.shape)\n",
    "    fs_scores = fs.mutual_info_classif(X_train_imp,Y_train)\n",
    "    feature_scores_list = []\n",
    "    for i,score in enumerate(fs_scores):\n",
    "        feature_scores_list.append({'feature_name':original_headers_train[i],'score':score})\n",
    "    feature_scores_list.sort(key=itemgetter('score'),reverse=True)\n",
    "    for feature in feature_scores_list:\n",
    "        print (feature)"
   ]
  },
  {
   "cell_type": "code",
   "execution_count": 17,
   "metadata": {
    "collapsed": true
   },
   "outputs": [],
   "source": [
    "    #before we found the elbow\n",
    "    new_trains = []\n",
    "    # new_shapes_ratio = []\n",
    "    # new_range = []\n",
    "    myrange = np.arange(0.01, 1, 0.01)\n",
    "    for VTHRESH in myrange:  \n",
    "        # sel = fs.VarianceThreshold(VTHRESH)\n",
    "        sel = fs.SelectPercentile(score_func=fs.mutual_info_classif,percentile=VTHRESH*100)\n",
    "        # sel.fit(X_train_imp,Y_train)\n",
    "        # print (sel.get_params())\n",
    "        # print (sel.get_support())\n",
    "        X_train_mod = sel.fit_transform(X_train_imp,Y_train)\n",
    "        if len(new_trains) >= 1:\n",
    "            if new_trains[-1]['ratio']!= X_train_mod.shape[-1]/X_train.shape[-1]:\n",
    "                # new_range.append(VTHRESH)\n",
    "                # new_trains.append(X_train_mod)\n",
    "                # new_shapes_ratio.append(X_train_mod.shape[-1]/X_train.shape[-1])\n",
    "                mask = sel.get_support() #list of booleans\n",
    "                new_features = [] # The list of your K best features    \n",
    "                for bool, feature in zip(mask, original_headers_train):\n",
    "                    if bool:\n",
    "                        new_features.append(feature)\n",
    "                new_trains.append({'threshold':VTHRESH,\n",
    "                                   'X_train':X_train_mod,\n",
    "                                   'ratio':X_train_mod.shape[-1]/X_train.shape[-1],\n",
    "                                   'features_name':new_features})\n",
    "                \n",
    "        else:\n",
    "            # new_range.append(VTHRESH)\n",
    "            # new_trains.append(X_train_mod)\n",
    "            # new_shapes_ratio.append(X_train_mod.shape[-1]/X_train.shape[-1])\n",
    "            mask = sel.get_support() #list of booleans\n",
    "            new_features = [] # The list of your K best features    \n",
    "            for bool, feature in zip(mask, original_headers_train):\n",
    "                if bool:\n",
    "                    new_features.append(feature)\n",
    "            new_trains.append({'threshold':VTHRESH,\n",
    "                               'X_train':X_train_mod,\n",
    "                               'ratio':X_train_mod.shape[-1]/X_train.shape[-1],\n",
    "                               'features_name':new_features})"
   ]
  },
  {
   "cell_type": "code",
   "execution_count": 18,
   "metadata": {
    "collapsed": true
   },
   "outputs": [
    {
     "data": {
      "text/markdown": [
       "**Training Section** for: 1 features (['SYM_YRS_SINCE_HEARTBURN_START'])"
      ],
      "text/plain": [
       "<IPython.core.display.Markdown object>"
      ]
     },
     "metadata": {},
     "output_type": "display_data"
    },
    {
     "data": {
      "image/png": "[encoded data removed]",
      "text/plain": [
       "<matplotlib.figure.Figure at 0x1ae53680668>"
      ]
     },
     "metadata": {},
     "output_type": "display_data"
    },
    {
     "data": {
      "text/markdown": [
       "The best model for the given data is: <span style=\"color:green\">SVM</span> with the score <span style=\"color:green\">0.757925407925</span>"
      ],
      "text/plain": [
       "<IPython.core.display.Markdown object>"
      ]
     },
     "metadata": {},
     "output_type": "display_data"
    },
    {
     "name": "stdout",
     "output_type": "stream",
     "text": [
      "{'name': 'LR', 'score': 0.69695304695304694}\n{'name': 'LDA', 'score': 0.68934398934398933}\n{'name': 'KNN', 'score': 0.70767565767565777}\n{'name': 'CART', 'score': 0.75406260406260417}\n{'name': 'NB', 'score': 0.69843489843489848}\n{'name': 'SVM', 'score': 0.75792540792540797}\n"
     ]
    },
    {
     "data": {
      "text/markdown": [
       "**Training Section** for: 2 features (['SYM_YRS_SINCE_HEARTBURN_START', 'SYM_YRS_SINCE_ACID_TASTE_START'])"
      ],
      "text/plain": [
       "<IPython.core.display.Markdown object>"
      ]
     },
     "metadata": {},
     "output_type": "display_data"
    },
    {
     "data": {
      "image/png": "[encoded data removed]",
      "text/plain": [
       "<matplotlib.figure.Figure at 0x1ae447f2908>"
      ]
     },
     "metadata": {},
     "output_type": "display_data"
    },
    {
     "data": {
      "text/markdown": [
       "The best model for the given data is: <span style=\"color:green\">KNN</span> with the score <span style=\"color:green\">0.764219114219</span>"
      ],
      "text/plain": [
       "<IPython.core.display.Markdown object>"
      ]
     },
     "metadata": {},
     "output_type": "display_data"
    },
    {
     "name": "stdout",
     "output_type": "stream",
     "text": [
      "{'name': 'LR', 'score': 0.69335664335664338}\n{'name': 'LDA', 'score': 0.70258075258075259}\n{'name': 'KNN', 'score': 0.76421911421911415}\n{'name': 'CART', 'score': 0.7475191475191475}\n{'name': 'NB', 'score': 0.70281385281385289}\n{'name': 'SVM', 'score': 0.7475191475191475}\n"
     ]
    },
    {
     "data": {
      "text/markdown": [
       "**Training Section** for: 3 features (['SYM_YRS_SINCE_HEARTBURN_START', 'SYM_YRS_SINCE_ACID_TASTE_START', 'SYM_TAKING_STOMACH_MEDS'])"
      ],
      "text/plain": [
       "<IPython.core.display.Markdown object>"
      ]
     },
     "metadata": {},
     "output_type": "display_data"
    },
    {
     "data": {
      "image/png": "[encoded data removed]",
      "text/plain": [
       "<matplotlib.figure.Figure at 0x1ae5229fe80>"
      ]
     },
     "metadata": {},
     "output_type": "display_data"
    },
    {
     "data": {
      "text/markdown": [
       "The best model for the given data is: <span style=\"color:green\">KNN</span> with the score <span style=\"color:green\">0.777522477522</span>"
      ],
      "text/plain": [
       "<IPython.core.display.Markdown object>"
      ]
     },
     "metadata": {},
     "output_type": "display_data"
    },
    {
     "name": "stdout",
     "output_type": "stream",
     "text": [
      "{'name': 'LR', 'score': 0.71010656010656015}\n{'name': 'LDA', 'score': 0.72049617049617054}\n{'name': 'KNN', 'score': 0.77752247752247738}\n{'name': 'CART', 'score': 0.75922410922410921}\n{'name': 'NB', 'score': 0.76225441225441215}\n{'name': 'SVM', 'score': 0.77216117216117208}\n"
     ]
    },
    {
     "data": {
      "text/markdown": [
       "**Training Section** for: 4 features (['SEX', 'SYM_YRS_SINCE_HEARTBURN_START', 'SYM_YRS_SINCE_ACID_TASTE_START', 'SYM_TAKING_STOMACH_MEDS'])"
      ],
      "text/plain": [
       "<IPython.core.display.Markdown object>"
      ]
     },
     "metadata": {},
     "output_type": "display_data"
    },
    {
     "data": {
      "image/png": "[encoded data removed]",
      "text/plain": [
       "<matplotlib.figure.Figure at 0x1ae54199278>"
      ]
     },
     "metadata": {},
     "output_type": "display_data"
    },
    {
     "data": {
      "text/markdown": [
       "The best model for the given data is: <span style=\"color:green\">LDA</span> with the score <span style=\"color:green\">0.795604395604</span>"
      ],
      "text/plain": [
       "<IPython.core.display.Markdown object>"
      ]
     },
     "metadata": {},
     "output_type": "display_data"
    },
    {
     "name": "stdout",
     "output_type": "stream",
     "text": [
      "{'name': 'LR', 'score': 0.76595071595071595}\n{'name': 'LDA', 'score': 0.79560439560439566}\n{'name': 'KNN', 'score': 0.7814352314352313}\n{'name': 'CART', 'score': 0.75168165168165157}\n{'name': 'NB', 'score': 0.76122211122211125}\n{'name': 'SVM', 'score': 0.75422910422910427}\n"
     ]
    },
    {
     "data": {
      "text/markdown": [
       "**Training Section** for: 5 features (['SEX', 'SYM_CHEST_PAIN', 'SYM_YRS_SINCE_HEARTBURN_START', 'SYM_YRS_SINCE_ACID_TASTE_START', 'SYM_TAKING_STOMACH_MEDS'])"
      ],
      "text/plain": [
       "<IPython.core.display.Markdown object>"
      ]
     },
     "metadata": {},
     "output_type": "display_data"
    },
    {
     "data": {
      "image/png": "[encoded data removed]",
      "text/plain": [
       "<matplotlib.figure.Figure at 0x1ae5229fe80>"
      ]
     },
     "metadata": {},
     "output_type": "display_data"
    },
    {
     "data": {
      "text/markdown": [
       "The best model for the given data is: <span style=\"color:green\">LR</span> with the score <span style=\"color:green\">0.800849150849</span>"
      ],
      "text/plain": [
       "<IPython.core.display.Markdown object>"
      ]
     },
     "metadata": {},
     "output_type": "display_data"
    },
    {
     "name": "stdout",
     "output_type": "stream",
     "text": [
      "{'name': 'LR', 'score': 0.80084915084915076}\n{'name': 'LDA', 'score': 0.79823509823509819}\n{'name': 'KNN', 'score': 0.77619047619047632}\n{'name': 'CART', 'score': 0.7709956709956709}\n{'name': 'NB', 'score': 0.78075258075258069}\n{'name': 'SVM', 'score': 0.78396603396603393}\n"
     ]
    },
    {
     "data": {
      "text/markdown": [
       "**Training Section** for: 6 features (['SEX', 'WAIST_CIRCUMFERENCE', 'SYM_BURNING_CHEST', 'SYM_YRS_SINCE_HEARTBURN_START', 'SYM_YRS_SINCE_ACID_TASTE_START', 'SYM_TAKING_STOMACH_MEDS'])"
      ],
      "text/plain": [
       "<IPython.core.display.Markdown object>"
      ]
     },
     "metadata": {},
     "output_type": "display_data"
    },
    {
     "data": {
      "image/png": "[encoded data removed]",
      "text/plain": [
       "<matplotlib.figure.Figure at 0x1ae424be320>"
      ]
     },
     "metadata": {},
     "output_type": "display_data"
    },
    {
     "data": {
      "text/markdown": [
       "The best model for the given data is: <span style=\"color:green\">NB</span> with the score <span style=\"color:green\">0.806543456543</span>"
      ],
      "text/plain": [
       "<IPython.core.display.Markdown object>"
      ]
     },
     "metadata": {},
     "output_type": "display_data"
    },
    {
     "name": "stdout",
     "output_type": "stream",
     "text": [
      "{'name': 'LR', 'score': 0.80341325341325331}\n{'name': 'LDA', 'score': 0.80472860472860464}\n{'name': 'KNN', 'score': 0.76067266067266059}\n{'name': 'CART', 'score': 0.72492507492507496}\n{'name': 'NB', 'score': 0.80654345654345649}\n{'name': 'SVM', 'score': 0.74890109890109902}\n"
     ]
    },
    {
     "data": {
      "text/markdown": [
       "**Training Section** for: 7 features (['SEX', 'HEIGHT', 'WAIST_CIRCUMFERENCE', 'SYM_CHEST_PAIN', 'SYM_YRS_SINCE_HEARTBURN_START', 'SYM_YRS_SINCE_ACID_TASTE_START', 'SYM_TAKING_STOMACH_MEDS'])"
      ],
      "text/plain": [
       "<IPython.core.display.Markdown object>"
      ]
     },
     "metadata": {},
     "output_type": "display_data"
    },
    {
     "data": {
      "image/png": "[encoded data removed]",
      "text/plain": [
       "<matplotlib.figure.Figure at 0x1ae53680668>"
      ]
     },
     "metadata": {},
     "output_type": "display_data"
    },
    {
     "data": {
      "text/markdown": [
       "The best model for the given data is: <span style=\"color:green\">LDA</span> with the score <span style=\"color:green\">0.824042624043</span>"
      ],
      "text/plain": [
       "<IPython.core.display.Markdown object>"
      ]
     },
     "metadata": {},
     "output_type": "display_data"
    },
    {
     "name": "stdout",
     "output_type": "stream",
     "text": [
      "{'name': 'LR', 'score': 0.81505161505161505}\n{'name': 'LDA', 'score': 0.82404262404262396}\n{'name': 'KNN', 'score': 0.72584082584082588}\n{'name': 'CART', 'score': 0.74170829170829167}\n{'name': 'NB', 'score': 0.80526140526140522}\n{'name': 'SVM', 'score': 0.66568431568431574}\n"
     ]
    },
    {
     "data": {
      "text/markdown": [
       "**Training Section** for: 8 features (['SEX', 'WAIST_CIRCUMFERENCE', 'ALC_UNITS_PER_WEEK_AGED_30', 'SYM_CHEST_PAIN', 'SYM_BURNING_CHEST', 'SYM_YRS_SINCE_HEARTBURN_START', 'SYM_YRS_SINCE_ACID_TASTE_START', 'SYM_TAKING_STOMACH_MEDS'])"
      ],
      "text/plain": [
       "<IPython.core.display.Markdown object>"
      ]
     },
     "metadata": {},
     "output_type": "display_data"
    },
    {
     "data": {
      "image/png": "[encoded data removed]",
      "text/plain": [
       "<matplotlib.figure.Figure at 0x1ae5229fe80>"
      ]
     },
     "metadata": {},
     "output_type": "display_data"
    },
    {
     "data": {
      "text/markdown": [
       "The best model for the given data is: <span style=\"color:green\">LDA</span> with the score <span style=\"color:green\">0.82022977023</span>"
      ],
      "text/plain": [
       "<IPython.core.display.Markdown object>"
      ]
     },
     "metadata": {},
     "output_type": "display_data"
    },
    {
     "name": "stdout",
     "output_type": "stream",
     "text": [
      "{'name': 'LR', 'score': 0.8150849150849151}\n{'name': 'LDA', 'score': 0.82022977022977028}\n{'name': 'KNN', 'score': 0.72970362970362967}\n{'name': 'CART', 'score': 0.73531468531468513}\n{'name': 'NB', 'score': 0.8040626040626041}\n{'name': 'SVM', 'score': 0.70449550449550447}\n"
     ]
    },
    {
     "data": {
      "text/markdown": [
       "**Training Section** for: 9 features (['SEX', 'HEIGHT', 'WAIST_CIRCUMFERENCE', 'SMK_AGE_SMOKING_STOPPED', 'SYM_CHEST_PAIN', 'SYM_SLEEP_DISRUPTED', 'SYM_YRS_SINCE_HEARTBURN_START', 'SYM_YRS_SINCE_ACID_TASTE_START', 'SYM_TAKING_STOMACH_MEDS'])"
      ],
      "text/plain": [
       "<IPython.core.display.Markdown object>"
      ]
     },
     "metadata": {},
     "output_type": "display_data"
    },
    {
     "data": {
      "image/png": "[encoded data removed]",
      "text/plain": [
       "<matplotlib.figure.Figure at 0x1ae424be320>"
      ]
     },
     "metadata": {},
     "output_type": "display_data"
    },
    {
     "data": {
      "text/markdown": [
       "The best model for the given data is: <span style=\"color:green\">LDA</span> with the score <span style=\"color:green\">0.816333666334</span>"
      ],
      "text/plain": [
       "<IPython.core.display.Markdown object>"
      ]
     },
     "metadata": {},
     "output_type": "display_data"
    },
    {
     "name": "stdout",
     "output_type": "stream",
     "text": [
      "{'name': 'LR', 'score': 0.81120546120546122}\n{'name': 'LDA', 'score': 0.81633366633366644}\n{'name': 'KNN', 'score': 0.73220113220113225}\n{'name': 'CART', 'score': 0.74297369297369298}\n{'name': 'NB', 'score': 0.80531135531135534}\n{'name': 'SVM', 'score': 0.67440892440892442}\n"
     ]
    },
    {
     "data": {
      "text/markdown": [
       "**Training Section** for: 10 features (['SEX', 'HEIGHT', 'WEIGHT', 'WAIST_CIRCUMFERENCE', 'ALC_UNITS_PER_WEEK_AGED_30', 'SYM_CHEST_PAIN', 'SYM_BURNING_CHEST', 'SYM_YRS_SINCE_HEARTBURN_START', 'SYM_YRS_SINCE_ACID_TASTE_START', 'SYM_TAKING_STOMACH_MEDS'])"
      ],
      "text/plain": [
       "<IPython.core.display.Markdown object>"
      ]
     },
     "metadata": {},
     "output_type": "display_data"
    },
    {
     "data": {
      "image/png": "[encoded data removed]",
      "text/plain": [
       "<matplotlib.figure.Figure at 0x1ae447f2908>"
      ]
     },
     "metadata": {},
     "output_type": "display_data"
    },
    {
     "data": {
      "text/markdown": [
       "The best model for the given data is: <span style=\"color:green\">LDA</span> with the score <span style=\"color:green\">0.82022977023</span>"
      ],
      "text/plain": [
       "<IPython.core.display.Markdown object>"
      ]
     },
     "metadata": {},
     "output_type": "display_data"
    },
    {
     "name": "stdout",
     "output_type": "stream",
     "text": [
      "{'name': 'LR', 'score': 0.81376956376956378}\n{'name': 'LDA', 'score': 0.82022977022977028}\n{'name': 'KNN', 'score': 0.69721944721944729}\n{'name': 'CART', 'score': 0.73151848151848153}\n{'name': 'NB', 'score': 0.80281385281385287}\n{'name': 'SVM', 'score': 0.67797202797202805}\n"
     ]
    },
    {
     "data": {
      "text/markdown": [
       "**Training Section** for: 11 features (['SEX', 'HEIGHT', 'WEIGHT', 'WAIST_CIRCUMFERENCE', 'SMK_AGE_SMOKING_STOPPED', 'PREFERRED_DRINK', 'SYM_CHEST_PAIN', 'SYM_BURNING_CHEST', 'SYM_YRS_SINCE_HEARTBURN_START', 'SYM_YRS_SINCE_ACID_TASTE_START', 'SYM_TAKING_STOMACH_MEDS'])"
      ],
      "text/plain": [
       "<IPython.core.display.Markdown object>"
      ]
     },
     "metadata": {},
     "output_type": "display_data"
    },
    {
     "data": {
      "image/png": "[encoded data removed]",
      "text/plain": [
       "<matplotlib.figure.Figure at 0x1ae53efa080>"
      ]
     },
     "metadata": {},
     "output_type": "display_data"
    },
    {
     "data": {
      "text/markdown": [
       "The best model for the given data is: <span style=\"color:green\">LDA</span> with the score <span style=\"color:green\">0.82022977023</span>"
      ],
      "text/plain": [
       "<IPython.core.display.Markdown object>"
      ]
     },
     "metadata": {},
     "output_type": "display_data"
    },
    {
     "name": "stdout",
     "output_type": "stream",
     "text": [
      "{'name': 'LR', 'score': 0.8124875124875125}\n{'name': 'LDA', 'score': 0.82022977022977028}\n{'name': 'KNN', 'score': 0.69342324342324335}\n{'name': 'CART', 'score': 0.72753912753912753}\n{'name': 'NB', 'score': 0.80402930402930406}\n{'name': 'SVM', 'score': 0.6689976689976691}\n"
     ]
    },
    {
     "data": {
      "text/markdown": [
       "**Training Section** for: 12 features (['AGE', 'SEX', 'HEIGHT', 'WEIGHT', 'WAIST_CIRCUMFERENCE', 'SMK_EVER_SMOKED', 'SYM_CHEST_PAIN', 'SYM_BURNING_CHEST', 'SYM_SLEEP_DISRUPTED', 'SYM_YRS_SINCE_HEARTBURN_START', 'SYM_YRS_SINCE_ACID_TASTE_START', 'SYM_TAKING_STOMACH_MEDS'])"
      ],
      "text/plain": [
       "<IPython.core.display.Markdown object>"
      ]
     },
     "metadata": {},
     "output_type": "display_data"
    },
    {
     "data": {
      "image/png": "[encoded data removed]",
      "text/plain": [
       "<matplotlib.figure.Figure at 0x1ae5229fe80>"
      ]
     },
     "metadata": {},
     "output_type": "display_data"
    },
    {
     "data": {
      "text/markdown": [
       "The best model for the given data is: <span style=\"color:green\">NB</span> with the score <span style=\"color:green\">0.816916416916</span>"
      ],
      "text/plain": [
       "<IPython.core.display.Markdown object>"
      ]
     },
     "metadata": {},
     "output_type": "display_data"
    },
    {
     "name": "stdout",
     "output_type": "stream",
     "text": [
      "{'name': 'LR', 'score': 0.80857475857475847}\n{'name': 'LDA', 'score': 0.81510156510156517}\n{'name': 'KNN', 'score': 0.68682983682983678}\n{'name': 'CART', 'score': 0.7482683982683983}\n{'name': 'NB', 'score': 0.81691641691641692}\n{'name': 'SVM', 'score': 0.67795537795537797}\n"
     ]
    },
    {
     "data": {
      "text/markdown": [
       "**Training Section** for: 13 features (['AGE', 'SEX', 'WEIGHT', 'WAIST_CIRCUMFERENCE', 'EDUCATION_LEVEL', 'SMK_AGE_SMOKING_STOPPED', 'SYM_CHEST_PAIN', 'SYM_BURNING_CHEST', 'SYM_ACID_TASTE', 'SYM_SLEEP_DISRUPTED', 'SYM_YRS_SINCE_HEARTBURN_START', 'SYM_YRS_SINCE_ACID_TASTE_START', 'SYM_TAKING_STOMACH_MEDS'])"
      ],
      "text/plain": [
       "<IPython.core.display.Markdown object>"
      ]
     },
     "metadata": {},
     "output_type": "display_data"
    },
    {
     "data": {
      "image/png": "[encoded data removed]",
      "text/plain": [
       "<matplotlib.figure.Figure at 0x1ae53680668>"
      ]
     },
     "metadata": {},
     "output_type": "display_data"
    },
    {
     "data": {
      "text/markdown": [
       "The best model for the given data is: <span style=\"color:green\">NB</span> with the score <span style=\"color:green\">0.819480519481</span>"
      ],
      "text/plain": [
       "<IPython.core.display.Markdown object>"
      ]
     },
     "metadata": {},
     "output_type": "display_data"
    },
    {
     "name": "stdout",
     "output_type": "stream",
     "text": [
      "{'name': 'LR', 'score': 0.80214785214785223}\n{'name': 'LDA', 'score': 0.81122211122211119}\n{'name': 'KNN', 'score': 0.71403596403596403}\n{'name': 'CART', 'score': 0.74034299034299034}\n{'name': 'NB', 'score': 0.81948051948051948}\n{'name': 'SVM', 'score': 0.67925407925407932}\n"
     ]
    },
    {
     "data": {
      "text/markdown": [
       "**Training Section** for: 14 features (['AGE', 'SEX', 'HEIGHT', 'WEIGHT', 'WAIST_CIRCUMFERENCE', 'SMK_AGE_SMOKING_STOPPED', 'ALC_UNITS_PER_WEEK_AGED_30', 'ALC_DRINK_HEAVILY', 'SYM_CHEST_PAIN', 'SYM_BURNING_CHEST', 'SYM_SLEEP_DISRUPTED', 'SYM_YRS_SINCE_HEARTBURN_START', 'SYM_YRS_SINCE_ACID_TASTE_START', 'SYM_TAKING_STOMACH_MEDS'])"
      ],
      "text/plain": [
       "<IPython.core.display.Markdown object>"
      ]
     },
     "metadata": {},
     "output_type": "display_data"
    },
    {
     "data": {
      "image/png": "[encoded data removed]",
      "text/plain": [
       "<matplotlib.figure.Figure at 0x1ae41e9a048>"
      ]
     },
     "metadata": {},
     "output_type": "display_data"
    },
    {
     "data": {
      "text/markdown": [
       "The best model for the given data is: <span style=\"color:green\">LDA</span> with the score <span style=\"color:green\">0.817649017649</span>"
      ],
      "text/plain": [
       "<IPython.core.display.Markdown object>"
      ]
     },
     "metadata": {},
     "output_type": "display_data"
    },
    {
     "name": "stdout",
     "output_type": "stream",
     "text": [
      "{'name': 'LR', 'score': 0.81245421245421245}\n{'name': 'LDA', 'score': 0.81764901764901765}\n{'name': 'KNN', 'score': 0.69204129204129206}\n{'name': 'CART', 'score': 0.7546786546786548}\n{'name': 'NB', 'score': 0.81182151182151185}\n{'name': 'SVM', 'score': 0.67792207792207793}\n"
     ]
    },
    {
     "data": {
      "text/markdown": [
       "**Training Section** for: 15 features (['AGE', 'SEX', 'HEIGHT', 'WEIGHT', 'WAIST_CIRCUMFERENCE', 'SMK_EVER_SMOKED', 'SMK_AGE_STARTED', 'SMK_AGE_SMOKING_STOPPED', 'ALC_UNITS_PER_WEEK_AGED_30', 'SYM_CHEST_PAIN', 'SYM_BURNING_CHEST', 'SYM_SLEEP_DISRUPTED', 'SYM_YRS_SINCE_HEARTBURN_START', 'SYM_YRS_SINCE_ACID_TASTE_START', 'SYM_TAKING_STOMACH_MEDS'])"
      ],
      "text/plain": [
       "<IPython.core.display.Markdown object>"
      ]
     },
     "metadata": {},
     "output_type": "display_data"
    },
    {
     "data": {
      "image/png": "[encoded data removed]",
      "text/plain": [
       "<matplotlib.figure.Figure at 0x1ae522b01d0>"
      ]
     },
     "metadata": {},
     "output_type": "display_data"
    },
    {
     "data": {
      "text/markdown": [
       "The best model for the given data is: <span style=\"color:green\">LDA</span> with the score <span style=\"color:green\">0.812520812521</span>"
      ],
      "text/plain": [
       "<IPython.core.display.Markdown object>"
      ]
     },
     "metadata": {},
     "output_type": "display_data"
    },
    {
     "name": "stdout",
     "output_type": "stream",
     "text": [
      "{'name': 'LR', 'score': 0.80990675990675987}\n{'name': 'LDA', 'score': 0.81252081252081254}\n{'name': 'KNN', 'score': 0.69079254079254082}\n{'name': 'CART', 'score': 0.73519813519813515}\n{'name': 'NB', 'score': 0.80144855144855143}\n{'name': 'SVM', 'score': 0.67792207792207793}\n"
     ]
    },
    {
     "data": {
      "text/markdown": [
       "**Training Section** for: 16 features (['AGE', 'SEX', 'HEIGHT', 'WEIGHT', 'WAIST_CIRCUMFERENCE', 'EDUCATION_LEVEL', 'SMK_AGE_SMOKING_STOPPED', 'ALC_UNITS_PER_WEEK_AGED_30', 'SYM_CHEST_PAIN', 'SYM_BURNING_CHEST', 'SYM_ACID_TASTE', 'SYM_SORE_THROAT', 'SYM_SLEEP_DISRUPTED', 'SYM_YRS_SINCE_HEARTBURN_START', 'SYM_YRS_SINCE_ACID_TASTE_START', 'SYM_TAKING_STOMACH_MEDS'])"
      ],
      "text/plain": [
       "<IPython.core.display.Markdown object>"
      ]
     },
     "metadata": {},
     "output_type": "display_data"
    },
    {
     "data": {
      "image/png": "[encoded data removed]",
      "text/plain": [
       "<matplotlib.figure.Figure at 0x1ae41e9a048>"
      ]
     },
     "metadata": {},
     "output_type": "display_data"
    },
    {
     "data": {
      "text/markdown": [
       "The best model for the given data is: <span style=\"color:green\">LDA</span> with the score <span style=\"color:green\">0.808658008658</span>"
      ],
      "text/plain": [
       "<IPython.core.display.Markdown object>"
      ]
     },
     "metadata": {},
     "output_type": "display_data"
    },
    {
     "name": "stdout",
     "output_type": "stream",
     "text": [
      "{'name': 'LR', 'score': 0.79958374958374956}\n{'name': 'LDA', 'score': 0.80865800865800863}\n{'name': 'KNN', 'score': 0.69074259074259081}\n{'name': 'CART', 'score': 0.74430569430569427}\n{'name': 'NB', 'score': 0.80149850149850155}\n{'name': 'SVM', 'score': 0.67792207792207793}\n"
     ]
    },
    {
     "data": {
      "text/markdown": [
       "**Training Section** for: 17 features (['AGE', 'SEX', 'HEIGHT', 'WEIGHT', 'WAIST_CIRCUMFERENCE', 'EDUCATION_LEVEL', 'SMK_EVER_SMOKED', 'SMK_AGE_SMOKING_STOPPED', 'ALC_UNITS_PER_WEEK_AGED_30', 'ALC_DRINK_HEAVILY', 'SYM_CHEST_PAIN', 'SYM_BURNING_CHEST', 'SYM_ACID_TASTE', 'SYM_SLEEP_DISRUPTED', 'SYM_YRS_SINCE_HEARTBURN_START', 'SYM_YRS_SINCE_ACID_TASTE_START', 'SYM_TAKING_STOMACH_MEDS'])"
      ],
      "text/plain": [
       "<IPython.core.display.Markdown object>"
      ]
     },
     "metadata": {},
     "output_type": "display_data"
    },
    {
     "data": {
      "image/png": "[encoded data removed]",
      "text/plain": [
       "<matplotlib.figure.Figure at 0x1ae53efa080>"
      ]
     },
     "metadata": {},
     "output_type": "display_data"
    },
    {
     "data": {
      "text/markdown": [
       "The best model for the given data is: <span style=\"color:green\">LDA</span> with the score <span style=\"color:green\">0.809923409923</span>"
      ],
      "text/plain": [
       "<IPython.core.display.Markdown object>"
      ]
     },
     "metadata": {},
     "output_type": "display_data"
    },
    {
     "name": "stdout",
     "output_type": "stream",
     "text": [
      "{'name': 'LR', 'score': 0.80344655344655336}\n{'name': 'LDA', 'score': 0.80992340992340994}\n{'name': 'KNN', 'score': 0.68944388944388946}\n{'name': 'CART', 'score': 0.74297369297369298}\n{'name': 'NB', 'score': 0.80922410922410926}\n{'name': 'SVM', 'score': 0.67792207792207793}\n"
     ]
    },
    {
     "data": {
      "text/markdown": [
       "**Training Section** for: 18 features (['AGE', 'SEX', 'HEIGHT', 'WEIGHT', 'WAIST_CIRCUMFERENCE', 'EDUCATION_LEVEL', 'SMK_EVER_SMOKED', 'SMK_AGE_STARTED', 'SMK_AGE_SMOKING_STOPPED', 'ALC_UNITS_PER_WEEK', 'ALC_UNITS_PER_WEEK_AGED_30', 'SYM_CHEST_PAIN', 'SYM_BURNING_CHEST', 'SYM_ACID_TASTE', 'SYM_SLEEP_DISRUPTED', 'SYM_YRS_SINCE_HEARTBURN_START', 'SYM_YRS_SINCE_ACID_TASTE_START', 'SYM_TAKING_STOMACH_MEDS'])"
      ],
      "text/plain": [
       "<IPython.core.display.Markdown object>"
      ]
     },
     "metadata": {},
     "output_type": "display_data"
    },
    {
     "data": {
      "image/png": "[encoded data removed]",
      "text/plain": [
       "<matplotlib.figure.Figure at 0x1ae41e9a048>"
      ]
     },
     "metadata": {},
     "output_type": "display_data"
    },
    {
     "data": {
      "text/markdown": [
       "The best model for the given data is: <span style=\"color:green\">LDA</span> with the score <span style=\"color:green\">0.806060606061</span>"
      ],
      "text/plain": [
       "<IPython.core.display.Markdown object>"
      ]
     },
     "metadata": {},
     "output_type": "display_data"
    },
    {
     "name": "stdout",
     "output_type": "stream",
     "text": [
      "{'name': 'LR', 'score': 0.79830169830169839}\n{'name': 'LDA', 'score': 0.80606060606060626}\n{'name': 'KNN', 'score': 0.67787212787212781}\n{'name': 'CART', 'score': 0.72614052614052615}\n{'name': 'NB', 'score': 0.80139860139860131}\n{'name': 'SVM', 'score': 0.67792207792207793}\n"
     ]
    },
    {
     "data": {
      "text/markdown": [
       "**Training Section** for: 19 features (['AGE', 'SEX', 'HEIGHT', 'WEIGHT', 'WAIST_CIRCUMFERENCE', 'EDUCATION_LEVEL', 'SMK_EVER_SMOKED', 'SMK_AGE_STARTED', 'SMK_AGE_SMOKING_STOPPED', 'ALC_UNITS_PER_WEEK_AGED_30', 'ALC_DRINK_HEAVILY', 'SYM_CHEST_PAIN', 'SYM_BURNING_CHEST', 'SYM_ACID_TASTE', 'SYM_SORE_THROAT', 'SYM_SLEEP_DISRUPTED', 'SYM_YRS_SINCE_HEARTBURN_START', 'SYM_YRS_SINCE_ACID_TASTE_START', 'SYM_TAKING_STOMACH_MEDS'])"
      ],
      "text/plain": [
       "<IPython.core.display.Markdown object>"
      ]
     },
     "metadata": {},
     "output_type": "display_data"
    },
    {
     "data": {
      "image/png": "[encoded data removed]",
      "text/plain": [
       "<matplotlib.figure.Figure at 0x1ae53680668>"
      ]
     },
     "metadata": {},
     "output_type": "display_data"
    },
    {
     "data": {
      "text/markdown": [
       "The best model for the given data is: <span style=\"color:green\">LDA</span> with the score <span style=\"color:green\">0.807392607393</span>"
      ],
      "text/plain": [
       "<IPython.core.display.Markdown object>"
      ]
     },
     "metadata": {},
     "output_type": "display_data"
    },
    {
     "name": "stdout",
     "output_type": "stream",
     "text": [
      "{'name': 'LR', 'score': 0.79960039960039953}\n{'name': 'LDA', 'score': 0.80739260739260743}\n{'name': 'KNN', 'score': 0.69595404595404597}\n{'name': 'CART', 'score': 0.72878787878787876}\n{'name': 'NB', 'score': 0.79890109890109895}\n{'name': 'SVM', 'score': 0.67792207792207793}\n"
     ]
    },
    {
     "data": {
      "text/markdown": [
       "**Training Section** for: 20 features (['AGE', 'SEX', 'HEIGHT', 'WEIGHT', 'WAIST_CIRCUMFERENCE', 'EDUCATION_LEVEL', 'SMK_EVER_SMOKED', 'SMK_AGE_STARTED', 'SMK_AGE_SMOKING_STOPPED', 'ALC_UNITS_PER_WEEK', 'ALC_UNITS_PER_WEEK_AGED_30', 'ALC_DRINK_HEAVILY', 'SYM_CHEST_PAIN', 'SYM_BURNING_CHEST', 'SYM_ACID_TASTE', 'SYM_SORE_THROAT', 'SYM_SLEEP_DISRUPTED', 'SYM_YRS_SINCE_HEARTBURN_START', 'SYM_YRS_SINCE_ACID_TASTE_START', 'SYM_TAKING_STOMACH_MEDS'])"
      ],
      "text/plain": [
       "<IPython.core.display.Markdown object>"
      ]
     },
     "metadata": {},
     "output_type": "display_data"
    },
    {
     "data": {
      "image/png": "[encoded data removed]",
      "text/plain": [
       "<matplotlib.figure.Figure at 0x1ae41e9a048>"
      ]
     },
     "metadata": {},
     "output_type": "display_data"
    },
    {
     "data": {
      "text/markdown": [
       "The best model for the given data is: <span style=\"color:green\">LDA</span> with the score <span style=\"color:green\">0.807392607393</span>"
      ],
      "text/plain": [
       "<IPython.core.display.Markdown object>"
      ]
     },
     "metadata": {},
     "output_type": "display_data"
    },
    {
     "name": "stdout",
     "output_type": "stream",
     "text": [
      "{'name': 'LR', 'score': 0.80218115218115216}\n{'name': 'LDA', 'score': 0.80739260739260743}\n{'name': 'KNN', 'score': 0.67657342657342656}\n{'name': 'CART', 'score': 0.72742257742257743}\n{'name': 'NB', 'score': 0.79372294372294372}\n{'name': 'SVM', 'score': 0.67792207792207793}\n"
     ]
    }
   ],
   "source": [
    "    best_tr_results = []\n",
    "    # new_trains.reverse()\n",
    "    for train_set in new_trains:\n",
    "        X_train_mod = train_set['X_train']\n",
    "        printmd(\"**Training Section** for: {} features ({})\".format(str(X_train_mod.shape[-1]),train_set['features_name']))\n",
    "        train_resultes = train_the_data(X_train_mod,Y_train,models)\n",
    "        if train_resultes:\n",
    "            best_tr = get_the_best(train_resultes)\n",
    "            best_tr_results.append({\"name\":best_tr['name'],\n",
    "                                    \"score\":best_tr['score'],\n",
    "                                    \"num_fetures\":int(X_train_mod.shape[-1]),\n",
    "                                    'features_names':train_set['features_name']})\n",
    "            for model in train_resultes:\n",
    "                print (model)"
   ]
  },
  {
   "cell_type": "code",
   "execution_count": 31,
   "metadata": {
    "collapsed": true
   },
   "outputs": [
    {
     "name": "stdout",
     "output_type": "stream",
     "text": [
      "{'name': 'SVM', 'score': 0.75792540792540797, 'num_fetures': 1, 'features_names': ['SYM_YRS_SINCE_HEARTBURN_START']}\n{'name': 'KNN', 'score': 0.76421911421911415, 'num_fetures': 2, 'features_names': ['SYM_YRS_SINCE_HEARTBURN_START', 'SYM_YRS_SINCE_ACID_TASTE_START']}\n{'name': 'KNN', 'score': 0.77752247752247738, 'num_fetures': 3, 'features_names': ['SYM_YRS_SINCE_HEARTBURN_START', 'SYM_YRS_SINCE_ACID_TASTE_START', 'SYM_TAKING_STOMACH_MEDS']}\n{'name': 'LDA', 'score': 0.79560439560439566, 'num_fetures': 4, 'features_names': ['SEX', 'SYM_YRS_SINCE_HEARTBURN_START', 'SYM_YRS_SINCE_ACID_TASTE_START', 'SYM_TAKING_STOMACH_MEDS']}\n{'name': 'LR', 'score': 0.80084915084915076, 'num_fetures': 5, 'features_names': ['SEX', 'SYM_CHEST_PAIN', 'SYM_YRS_SINCE_HEARTBURN_START', 'SYM_YRS_SINCE_ACID_TASTE_START', 'SYM_TAKING_STOMACH_MEDS']}\n{'name': 'NB', 'score': 0.80654345654345649, 'num_fetures': 6, 'features_names': ['SEX', 'WAIST_CIRCUMFERENCE', 'SYM_BURNING_CHEST', 'SYM_YRS_SINCE_HEARTBURN_START', 'SYM_YRS_SINCE_ACID_TASTE_START', 'SYM_TAKING_STOMACH_MEDS']}\n{'name': 'LDA', 'score': 0.82404262404262396, 'num_fetures': 7, 'features_names': ['SEX', 'HEIGHT', 'WAIST_CIRCUMFERENCE', 'SYM_CHEST_PAIN', 'SYM_YRS_SINCE_HEARTBURN_START', 'SYM_YRS_SINCE_ACID_TASTE_START', 'SYM_TAKING_STOMACH_MEDS']}\n{'name': 'LDA', 'score': 0.82022977022977028, 'num_fetures': 8, 'features_names': ['SEX', 'WAIST_CIRCUMFERENCE', 'ALC_UNITS_PER_WEEK_AGED_30', 'SYM_CHEST_PAIN', 'SYM_BURNING_CHEST', 'SYM_YRS_SINCE_HEARTBURN_START', 'SYM_YRS_SINCE_ACID_TASTE_START', 'SYM_TAKING_STOMACH_MEDS']}\n{'name': 'LDA', 'score': 0.81633366633366644, 'num_fetures': 9, 'features_names': ['SEX', 'HEIGHT', 'WAIST_CIRCUMFERENCE', 'SMK_AGE_SMOKING_STOPPED', 'SYM_CHEST_PAIN', 'SYM_SLEEP_DISRUPTED', 'SYM_YRS_SINCE_HEARTBURN_START', 'SYM_YRS_SINCE_ACID_TASTE_START', 'SYM_TAKING_STOMACH_MEDS']}\n{'name': 'LDA', 'score': 0.82022977022977028, 'num_fetures': 10, 'features_names': ['SEX', 'HEIGHT', 'WEIGHT', 'WAIST_CIRCUMFERENCE', 'ALC_UNITS_PER_WEEK_AGED_30', 'SYM_CHEST_PAIN', 'SYM_BURNING_CHEST', 'SYM_YRS_SINCE_HEARTBURN_START', 'SYM_YRS_SINCE_ACID_TASTE_START', 'SYM_TAKING_STOMACH_MEDS']}\n{'name': 'LDA', 'score': 0.82022977022977028, 'num_fetures': 11, 'features_names': ['SEX', 'HEIGHT', 'WEIGHT', 'WAIST_CIRCUMFERENCE', 'SMK_AGE_SMOKING_STOPPED', 'PREFERRED_DRINK', 'SYM_CHEST_PAIN', 'SYM_BURNING_CHEST', 'SYM_YRS_SINCE_HEARTBURN_START', 'SYM_YRS_SINCE_ACID_TASTE_START', 'SYM_TAKING_STOMACH_MEDS']}\n{'name': 'NB', 'score': 0.81691641691641692, 'num_fetures': 12, 'features_names': ['AGE', 'SEX', 'HEIGHT', 'WEIGHT', 'WAIST_CIRCUMFERENCE', 'SMK_EVER_SMOKED', 'SYM_CHEST_PAIN', 'SYM_BURNING_CHEST', 'SYM_SLEEP_DISRUPTED', 'SYM_YRS_SINCE_HEARTBURN_START', 'SYM_YRS_SINCE_ACID_TASTE_START', 'SYM_TAKING_STOMACH_MEDS']}\n{'name': 'NB', 'score': 0.81948051948051948, 'num_fetures': 13, 'features_names': ['AGE', 'SEX', 'WEIGHT', 'WAIST_CIRCUMFERENCE', 'EDUCATION_LEVEL', 'SMK_AGE_SMOKING_STOPPED', 'SYM_CHEST_PAIN', 'SYM_BURNING_CHEST', 'SYM_ACID_TASTE', 'SYM_SLEEP_DISRUPTED', 'SYM_YRS_SINCE_HEARTBURN_START', 'SYM_YRS_SINCE_ACID_TASTE_START', 'SYM_TAKING_STOMACH_MEDS']}\n{'name': 'LDA', 'score': 0.81764901764901765, 'num_fetures': 14, 'features_names': ['AGE', 'SEX', 'HEIGHT', 'WEIGHT', 'WAIST_CIRCUMFERENCE', 'SMK_AGE_SMOKING_STOPPED', 'ALC_UNITS_PER_WEEK_AGED_30', 'ALC_DRINK_HEAVILY', 'SYM_CHEST_PAIN', 'SYM_BURNING_CHEST', 'SYM_SLEEP_DISRUPTED', 'SYM_YRS_SINCE_HEARTBURN_START', 'SYM_YRS_SINCE_ACID_TASTE_START', 'SYM_TAKING_STOMACH_MEDS']}\n{'name': 'LDA', 'score': 0.81252081252081254, 'num_fetures': 15, 'features_names': ['AGE', 'SEX', 'HEIGHT', 'WEIGHT', 'WAIST_CIRCUMFERENCE', 'SMK_EVER_SMOKED', 'SMK_AGE_STARTED', 'SMK_AGE_SMOKING_STOPPED', 'ALC_UNITS_PER_WEEK_AGED_30', 'SYM_CHEST_PAIN', 'SYM_BURNING_CHEST', 'SYM_SLEEP_DISRUPTED', 'SYM_YRS_SINCE_HEARTBURN_START', 'SYM_YRS_SINCE_ACID_TASTE_START', 'SYM_TAKING_STOMACH_MEDS']}\n{'name': 'LDA', 'score': 0.80865800865800863, 'num_fetures': 16, 'features_names': ['AGE', 'SEX', 'HEIGHT', 'WEIGHT', 'WAIST_CIRCUMFERENCE', 'EDUCATION_LEVEL', 'SMK_AGE_SMOKING_STOPPED', 'ALC_UNITS_PER_WEEK_AGED_30', 'SYM_CHEST_PAIN', 'SYM_BURNING_CHEST', 'SYM_ACID_TASTE', 'SYM_SORE_THROAT', 'SYM_SLEEP_DISRUPTED', 'SYM_YRS_SINCE_HEARTBURN_START', 'SYM_YRS_SINCE_ACID_TASTE_START', 'SYM_TAKING_STOMACH_MEDS']}\n{'name': 'LDA', 'score': 0.80992340992340994, 'num_fetures': 17, 'features_names': ['AGE', 'SEX', 'HEIGHT', 'WEIGHT', 'WAIST_CIRCUMFERENCE', 'EDUCATION_LEVEL', 'SMK_EVER_SMOKED', 'SMK_AGE_SMOKING_STOPPED', 'ALC_UNITS_PER_WEEK_AGED_30', 'ALC_DRINK_HEAVILY', 'SYM_CHEST_PAIN', 'SYM_BURNING_CHEST', 'SYM_ACID_TASTE', 'SYM_SLEEP_DISRUPTED', 'SYM_YRS_SINCE_HEARTBURN_START', 'SYM_YRS_SINCE_ACID_TASTE_START', 'SYM_TAKING_STOMACH_MEDS']}\n{'name': 'LDA', 'score': 0.80606060606060626, 'num_fetures': 18, 'features_names': ['AGE', 'SEX', 'HEIGHT', 'WEIGHT', 'WAIST_CIRCUMFERENCE', 'EDUCATION_LEVEL', 'SMK_EVER_SMOKED', 'SMK_AGE_STARTED', 'SMK_AGE_SMOKING_STOPPED', 'ALC_UNITS_PER_WEEK', 'ALC_UNITS_PER_WEEK_AGED_30', 'SYM_CHEST_PAIN', 'SYM_BURNING_CHEST', 'SYM_ACID_TASTE', 'SYM_SLEEP_DISRUPTED', 'SYM_YRS_SINCE_HEARTBURN_START', 'SYM_YRS_SINCE_ACID_TASTE_START', 'SYM_TAKING_STOMACH_MEDS']}\n{'name': 'LDA', 'score': 0.80739260739260743, 'num_fetures': 19, 'features_names': ['AGE', 'SEX', 'HEIGHT', 'WEIGHT', 'WAIST_CIRCUMFERENCE', 'EDUCATION_LEVEL', 'SMK_EVER_SMOKED', 'SMK_AGE_STARTED', 'SMK_AGE_SMOKING_STOPPED', 'ALC_UNITS_PER_WEEK_AGED_30', 'ALC_DRINK_HEAVILY', 'SYM_CHEST_PAIN', 'SYM_BURNING_CHEST', 'SYM_ACID_TASTE', 'SYM_SORE_THROAT', 'SYM_SLEEP_DISRUPTED', 'SYM_YRS_SINCE_HEARTBURN_START', 'SYM_YRS_SINCE_ACID_TASTE_START', 'SYM_TAKING_STOMACH_MEDS']}\n{'name': 'LDA', 'score': 0.80739260739260743, 'num_fetures': 20, 'features_names': ['AGE', 'SEX', 'HEIGHT', 'WEIGHT', 'WAIST_CIRCUMFERENCE', 'EDUCATION_LEVEL', 'SMK_EVER_SMOKED', 'SMK_AGE_STARTED', 'SMK_AGE_SMOKING_STOPPED', 'ALC_UNITS_PER_WEEK', 'ALC_UNITS_PER_WEEK_AGED_30', 'ALC_DRINK_HEAVILY', 'SYM_CHEST_PAIN', 'SYM_BURNING_CHEST', 'SYM_ACID_TASTE', 'SYM_SORE_THROAT', 'SYM_SLEEP_DISRUPTED', 'SYM_YRS_SINCE_HEARTBURN_START', 'SYM_YRS_SINCE_ACID_TASTE_START', 'SYM_TAKING_STOMACH_MEDS']}\n"
     ]
    },
    {
     "ename": "AttributeError",
     "evalue": "'Line2D' object has no attribute 'show'",
     "traceback": [
      "\u001b[0;31m---------------------------------------------------------------------------\u001b[0m",
      "\u001b[0;31mAttributeError\u001b[0m                            Traceback (most recent call last)",
      "\u001b[0;32m<ipython-input-31-84ee580bfeda>\u001b[0m in \u001b[0;36m<module>\u001b[0;34m()\u001b[0m\n\u001b[1;32m      5\u001b[0m                   [rs['score'] for rs in best_tr_results])\n\u001b[1;32m      6\u001b[0m \u001b[0;32mfor\u001b[0m \u001b[0mgraph\u001b[0m \u001b[0;32min\u001b[0m \u001b[0mgraphs\u001b[0m\u001b[0;34m:\u001b[0m\u001b[0;34m\u001b[0m\u001b[0m\n\u001b[0;32m----> 7\u001b[0;31m     \u001b[0mgraph\u001b[0m\u001b[0;34m.\u001b[0m\u001b[0mshow\u001b[0m\u001b[0;34m(\u001b[0m\u001b[0;34m)\u001b[0m\u001b[0;34m\u001b[0m\u001b[0m\n\u001b[0m",
      "\u001b[0;31mAttributeError\u001b[0m: 'Line2D' object has no attribute 'show'"
     ],
     "output_type": "error"
    }
   ],
   "source": [
    "    for best in best_tr_results:\n",
    "        print(best)\n",
    "    plt.plot([d['threshold'] for d in new_trains],\n",
    "             [d['ratio'] for d in new_trains],\n",
    "             [rs['score'] for rs in best_tr_results])"
   ]
  },
  {
   "cell_type": "code",
   "execution_count": null,
   "metadata": {},
   "outputs": [
    {
     "data": {
      "text/markdown": [
       "**Training Section** for: 418976 features"
      ],
      "text/plain": [
       "<IPython.core.display.Markdown object>"
      ]
     },
     "metadata": {},
     "output_type": "display_data"
    },
    {
     "name": "stderr",
     "output_type": "stream",
     "text": [
      "C:\\Users\\motybz\\Anaconda3\\envs\\lib\\site-packages\\sklearn\\discriminant_analysis.py:388: UserWarning: Variables are collinear.\n  warnings.warn(\"Variables are collinear.\")\n"
     ]
    },
    {
     "name": "stderr",
     "output_type": "stream",
     "text": [
      "C:\\Users\\motybz\\Anaconda3\\envs\\lib\\site-packages\\sklearn\\discriminant_analysis.py:388: UserWarning: Variables are collinear.\n  warnings.warn(\"Variables are collinear.\")\n"
     ]
    },
    {
     "name": "stderr",
     "output_type": "stream",
     "text": [
      "C:\\Users\\motybz\\Anaconda3\\envs\\lib\\site-packages\\sklearn\\discriminant_analysis.py:388: UserWarning: Variables are collinear.\n  warnings.warn(\"Variables are collinear.\")\n"
     ]
    },
    {
     "name": "stderr",
     "output_type": "stream",
     "text": [
      "C:\\Users\\motybz\\Anaconda3\\envs\\lib\\site-packages\\sklearn\\discriminant_analysis.py:388: UserWarning: Variables are collinear.\n  warnings.warn(\"Variables are collinear.\")\n"
     ]
    },
    {
     "name": "stderr",
     "output_type": "stream",
     "text": [
      "C:\\Users\\motybz\\Anaconda3\\envs\\lib\\site-packages\\sklearn\\discriminant_analysis.py:388: UserWarning: Variables are collinear.\n  warnings.warn(\"Variables are collinear.\")\n"
     ]
    },
    {
     "name": "stderr",
     "output_type": "stream",
     "text": [
      "C:\\Users\\motybz\\Anaconda3\\envs\\lib\\site-packages\\sklearn\\discriminant_analysis.py:388: UserWarning: Variables are collinear.\n  warnings.warn(\"Variables are collinear.\")\n"
     ]
    },
    {
     "name": "stderr",
     "output_type": "stream",
     "text": [
      "C:\\Users\\motybz\\Anaconda3\\envs\\lib\\site-packages\\sklearn\\discriminant_analysis.py:388: UserWarning: Variables are collinear.\n  warnings.warn(\"Variables are collinear.\")\n"
     ]
    },
    {
     "name": "stderr",
     "output_type": "stream",
     "text": [
      "C:\\Users\\motybz\\Anaconda3\\envs\\lib\\site-packages\\sklearn\\discriminant_analysis.py:388: UserWarning: Variables are collinear.\n  warnings.warn(\"Variables are collinear.\")\n"
     ]
    },
    {
     "name": "stderr",
     "output_type": "stream",
     "text": [
      "C:\\Users\\motybz\\Anaconda3\\envs\\lib\\site-packages\\sklearn\\discriminant_analysis.py:388: UserWarning: Variables are collinear.\n  warnings.warn(\"Variables are collinear.\")\n"
     ]
    },
    {
     "name": "stderr",
     "output_type": "stream",
     "text": [
      "C:\\Users\\motybz\\Anaconda3\\envs\\lib\\site-packages\\sklearn\\discriminant_analysis.py:388: UserWarning: Variables are collinear.\n  warnings.warn(\"Variables are collinear.\")\n"
     ]
    },
    {
     "data": {
      "image/png": "[encoded data removed]",
      "text/plain": [
       "<matplotlib.figure.Figure at 0x26e0470e128>"
      ]
     },
     "metadata": {},
     "output_type": "display_data"
    },
    {
     "data": {
      "text/markdown": [
       "The best model for the given data is: <span style=\"color:green\">LR</span> with the score <span style=\"color:green\">0.7144444444444444</span>"
      ],
      "text/plain": [
       "<IPython.core.display.Markdown object>"
      ]
     },
     "metadata": {},
     "output_type": "display_data"
    },
    {
     "name": "stdout",
     "output_type": "stream",
     "text": [
      "{'name': 'LR', 'score': 0.7144444444444444}\n{'name': 'LDA', 'score': 0.6266666666666667}\n{'name': 'KNN', 'score': 0.5822222222222223}\n{'name': 'CART', 'score': 0.62}\n{'name': 'NB', 'score': 0.6177777777777778}\n{'name': 'SVM', 'score': 0.5411111111111111}\n"
     ]
    },
    {
     "data": {
      "text/markdown": [
       "**Training Section** for: 300021 features"
      ],
      "text/plain": [
       "<IPython.core.display.Markdown object>"
      ]
     },
     "metadata": {},
     "output_type": "display_data"
    },
    {
     "name": "stderr",
     "output_type": "stream",
     "text": [
      "C:\\Users\\motybz\\Anaconda3\\envs\\lib\\site-packages\\sklearn\\discriminant_analysis.py:388: UserWarning: Variables are collinear.\n  warnings.warn(\"Variables are collinear.\")\n"
     ]
    },
    {
     "name": "stderr",
     "output_type": "stream",
     "text": [
      "C:\\Users\\motybz\\Anaconda3\\envs\\lib\\site-packages\\sklearn\\discriminant_analysis.py:388: UserWarning: Variables are collinear.\n  warnings.warn(\"Variables are collinear.\")\n"
     ]
    },
    {
     "name": "stderr",
     "output_type": "stream",
     "text": [
      "C:\\Users\\motybz\\Anaconda3\\envs\\lib\\site-packages\\sklearn\\discriminant_analysis.py:388: UserWarning: Variables are collinear.\n  warnings.warn(\"Variables are collinear.\")\n"
     ]
    },
    {
     "name": "stderr",
     "output_type": "stream",
     "text": [
      "C:\\Users\\motybz\\Anaconda3\\envs\\lib\\site-packages\\sklearn\\discriminant_analysis.py:388: UserWarning: Variables are collinear.\n  warnings.warn(\"Variables are collinear.\")\n"
     ]
    },
    {
     "name": "stderr",
     "output_type": "stream",
     "text": [
      "C:\\Users\\motybz\\Anaconda3\\envs\\lib\\site-packages\\sklearn\\discriminant_analysis.py:388: UserWarning: Variables are collinear.\n  warnings.warn(\"Variables are collinear.\")\n"
     ]
    },
    {
     "name": "stderr",
     "output_type": "stream",
     "text": [
      "C:\\Users\\motybz\\Anaconda3\\envs\\lib\\site-packages\\sklearn\\discriminant_analysis.py:388: UserWarning: Variables are collinear.\n  warnings.warn(\"Variables are collinear.\")\n"
     ]
    },
    {
     "name": "stderr",
     "output_type": "stream",
     "text": [
      "C:\\Users\\motybz\\Anaconda3\\envs\\lib\\site-packages\\sklearn\\discriminant_analysis.py:388: UserWarning: Variables are collinear.\n  warnings.warn(\"Variables are collinear.\")\n"
     ]
    },
    {
     "name": "stderr",
     "output_type": "stream",
     "text": [
      "C:\\Users\\motybz\\Anaconda3\\envs\\lib\\site-packages\\sklearn\\discriminant_analysis.py:388: UserWarning: Variables are collinear.\n  warnings.warn(\"Variables are collinear.\")\n"
     ]
    },
    {
     "name": "stderr",
     "output_type": "stream",
     "text": [
      "C:\\Users\\motybz\\Anaconda3\\envs\\lib\\site-packages\\sklearn\\discriminant_analysis.py:388: UserWarning: Variables are collinear.\n  warnings.warn(\"Variables are collinear.\")\n"
     ]
    },
    {
     "name": "stderr",
     "output_type": "stream",
     "text": [
      "C:\\Users\\motybz\\Anaconda3\\envs\\lib\\site-packages\\sklearn\\discriminant_analysis.py:388: UserWarning: Variables are collinear.\n  warnings.warn(\"Variables are collinear.\")\n"
     ]
    },
    {
     "data": {
      "image/png": "[encoded data removed]",
      "text/plain": [
       "<matplotlib.figure.Figure at 0x26e02f1f9e8>"
      ]
     },
     "metadata": {},
     "output_type": "display_data"
    },
    {
     "data": {
      "text/markdown": [
       "The best model for the given data is: <span style=\"color:green\">LR</span> with the score <span style=\"color:green\">0.6933333333333334</span>"
      ],
      "text/plain": [
       "<IPython.core.display.Markdown object>"
      ]
     },
     "metadata": {},
     "output_type": "display_data"
    },
    {
     "name": "stdout",
     "output_type": "stream",
     "text": [
      "{'name': 'LR', 'score': 0.6933333333333334}\n{'name': 'LDA', 'score': 0.6166666666666666}\n{'name': 'KNN', 'score': 0.5822222222222222}\n{'name': 'CART', 'score': 0.5977777777777777}\n{'name': 'NB', 'score': 0.6211111111111112}\n{'name': 'SVM', 'score': 0.5411111111111111}\n"
     ]
    },
    {
     "data": {
      "text/markdown": [
       "**Training Section** for: 249789 features"
      ],
      "text/plain": [
       "<IPython.core.display.Markdown object>"
      ]
     },
     "metadata": {},
     "output_type": "display_data"
    },
    {
     "name": "stderr",
     "output_type": "stream",
     "text": [
      "C:\\Users\\motybz\\Anaconda3\\envs\\lib\\site-packages\\sklearn\\discriminant_analysis.py:388: UserWarning: Variables are collinear.\n  warnings.warn(\"Variables are collinear.\")\n"
     ]
    },
    {
     "name": "stderr",
     "output_type": "stream",
     "text": [
      "C:\\Users\\motybz\\Anaconda3\\envs\\lib\\site-packages\\sklearn\\discriminant_analysis.py:388: UserWarning: Variables are collinear.\n  warnings.warn(\"Variables are collinear.\")\n"
     ]
    },
    {
     "name": "stderr",
     "output_type": "stream",
     "text": [
      "C:\\Users\\motybz\\Anaconda3\\envs\\lib\\site-packages\\sklearn\\discriminant_analysis.py:388: UserWarning: Variables are collinear.\n  warnings.warn(\"Variables are collinear.\")\n"
     ]
    },
    {
     "name": "stderr",
     "output_type": "stream",
     "text": [
      "C:\\Users\\motybz\\Anaconda3\\envs\\lib\\site-packages\\sklearn\\discriminant_analysis.py:388: UserWarning: Variables are collinear.\n  warnings.warn(\"Variables are collinear.\")\n"
     ]
    },
    {
     "name": "stderr",
     "output_type": "stream",
     "text": [
      "C:\\Users\\motybz\\Anaconda3\\envs\\lib\\site-packages\\sklearn\\discriminant_analysis.py:388: UserWarning: Variables are collinear.\n  warnings.warn(\"Variables are collinear.\")\n"
     ]
    },
    {
     "name": "stderr",
     "output_type": "stream",
     "text": [
      "C:\\Users\\motybz\\Anaconda3\\envs\\lib\\site-packages\\sklearn\\discriminant_analysis.py:388: UserWarning: Variables are collinear.\n  warnings.warn(\"Variables are collinear.\")\n"
     ]
    },
    {
     "name": "stderr",
     "output_type": "stream",
     "text": [
      "C:\\Users\\motybz\\Anaconda3\\envs\\lib\\site-packages\\sklearn\\discriminant_analysis.py:388: UserWarning: Variables are collinear.\n  warnings.warn(\"Variables are collinear.\")\n"
     ]
    },
    {
     "name": "stderr",
     "output_type": "stream",
     "text": [
      "C:\\Users\\motybz\\Anaconda3\\envs\\lib\\site-packages\\sklearn\\discriminant_analysis.py:388: UserWarning: Variables are collinear.\n  warnings.warn(\"Variables are collinear.\")\n"
     ]
    },
    {
     "name": "stderr",
     "output_type": "stream",
     "text": [
      "C:\\Users\\motybz\\Anaconda3\\envs\\lib\\site-packages\\sklearn\\discriminant_analysis.py:388: UserWarning: Variables are collinear.\n  warnings.warn(\"Variables are collinear.\")\n"
     ]
    },
    {
     "name": "stderr",
     "output_type": "stream",
     "text": [
      "C:\\Users\\motybz\\Anaconda3\\envs\\lib\\site-packages\\sklearn\\discriminant_analysis.py:388: UserWarning: Variables are collinear.\n  warnings.warn(\"Variables are collinear.\")\n"
     ]
    },
    {
     "data": {
      "image/png": "[encoded data removed]",
      "text/plain": [
       "<matplotlib.figure.Figure at 0x26e02f13e10>"
      ]
     },
     "metadata": {},
     "output_type": "display_data"
    },
    {
     "data": {
      "text/markdown": [
       "The best model for the given data is: <span style=\"color:green\">LR</span> with the score <span style=\"color:green\">0.6933333333333334</span>"
      ],
      "text/plain": [
       "<IPython.core.display.Markdown object>"
      ]
     },
     "metadata": {},
     "output_type": "display_data"
    },
    {
     "name": "stdout",
     "output_type": "stream",
     "text": [
      "{'name': 'LR', 'score': 0.6933333333333334}\n{'name': 'LDA', 'score': 0.6277777777777778}\n{'name': 'KNN', 'score': 0.5933333333333334}\n{'name': 'CART', 'score': 0.5211111111111111}\n{'name': 'NB', 'score': 0.598888888888889}\n{'name': 'SVM', 'score': 0.5411111111111111}\n"
     ]
    },
    {
     "data": {
      "text/markdown": [
       "**Training Section** for: 212518 features"
      ],
      "text/plain": [
       "<IPython.core.display.Markdown object>"
      ]
     },
     "metadata": {},
     "output_type": "display_data"
    },
    {
     "name": "stderr",
     "output_type": "stream",
     "text": [
      "C:\\Users\\motybz\\Anaconda3\\envs\\lib\\site-packages\\sklearn\\discriminant_analysis.py:388: UserWarning: Variables are collinear.\n  warnings.warn(\"Variables are collinear.\")\n"
     ]
    },
    {
     "name": "stderr",
     "output_type": "stream",
     "text": [
      "C:\\Users\\motybz\\Anaconda3\\envs\\lib\\site-packages\\sklearn\\discriminant_analysis.py:388: UserWarning: Variables are collinear.\n  warnings.warn(\"Variables are collinear.\")\n"
     ]
    },
    {
     "name": "stderr",
     "output_type": "stream",
     "text": [
      "C:\\Users\\motybz\\Anaconda3\\envs\\lib\\site-packages\\sklearn\\discriminant_analysis.py:388: UserWarning: Variables are collinear.\n  warnings.warn(\"Variables are collinear.\")\n"
     ]
    },
    {
     "name": "stderr",
     "output_type": "stream",
     "text": [
      "C:\\Users\\motybz\\Anaconda3\\envs\\lib\\site-packages\\sklearn\\discriminant_analysis.py:388: UserWarning: Variables are collinear.\n  warnings.warn(\"Variables are collinear.\")\n"
     ]
    },
    {
     "name": "stderr",
     "output_type": "stream",
     "text": [
      "C:\\Users\\motybz\\Anaconda3\\envs\\lib\\site-packages\\sklearn\\discriminant_analysis.py:388: UserWarning: Variables are collinear.\n  warnings.warn(\"Variables are collinear.\")\n"
     ]
    },
    {
     "name": "stderr",
     "output_type": "stream",
     "text": [
      "C:\\Users\\motybz\\Anaconda3\\envs\\lib\\site-packages\\sklearn\\discriminant_analysis.py:388: UserWarning: Variables are collinear.\n  warnings.warn(\"Variables are collinear.\")\n"
     ]
    },
    {
     "name": "stderr",
     "output_type": "stream",
     "text": [
      "C:\\Users\\motybz\\Anaconda3\\envs\\lib\\site-packages\\sklearn\\discriminant_analysis.py:388: UserWarning: Variables are collinear.\n  warnings.warn(\"Variables are collinear.\")\n"
     ]
    },
    {
     "name": "stderr",
     "output_type": "stream",
     "text": [
      "C:\\Users\\motybz\\Anaconda3\\envs\\lib\\site-packages\\sklearn\\discriminant_analysis.py:388: UserWarning: Variables are collinear.\n  warnings.warn(\"Variables are collinear.\")\n"
     ]
    },
    {
     "name": "stderr",
     "output_type": "stream",
     "text": [
      "C:\\Users\\motybz\\Anaconda3\\envs\\lib\\site-packages\\sklearn\\discriminant_analysis.py:388: UserWarning: Variables are collinear.\n  warnings.warn(\"Variables are collinear.\")\n"
     ]
    },
    {
     "name": "stderr",
     "output_type": "stream",
     "text": [
      "C:\\Users\\motybz\\Anaconda3\\envs\\lib\\site-packages\\sklearn\\discriminant_analysis.py:388: UserWarning: Variables are collinear.\n  warnings.warn(\"Variables are collinear.\")\n"
     ]
    },
    {
     "data": {
      "image/png": "[encoded data removed]",
      "text/plain": [
       "<matplotlib.figure.Figure at 0x26e017b6d30>"
      ]
     },
     "metadata": {},
     "output_type": "display_data"
    },
    {
     "data": {
      "text/markdown": [
       "The best model for the given data is: <span style=\"color:green\">LR</span> with the score <span style=\"color:green\">0.6922222222222223</span>"
      ],
      "text/plain": [
       "<IPython.core.display.Markdown object>"
      ]
     },
     "metadata": {},
     "output_type": "display_data"
    },
    {
     "name": "stdout",
     "output_type": "stream",
     "text": [
      "{'name': 'LR', 'score': 0.6922222222222223}\n{'name': 'LDA', 'score': 0.6488888888888888}\n{'name': 'KNN', 'score': 0.56}\n{'name': 'CART', 'score': 0.5544444444444444}\n{'name': 'NB', 'score': 0.5888888888888889}\n{'name': 'SVM', 'score': 0.5411111111111111}\n"
     ]
    },
    {
     "data": {
      "text/markdown": [
       "**Training Section** for: 181350 features"
      ],
      "text/plain": [
       "<IPython.core.display.Markdown object>"
      ]
     },
     "metadata": {},
     "output_type": "display_data"
    },
    {
     "name": "stderr",
     "output_type": "stream",
     "text": [
      "C:\\Users\\motybz\\Anaconda3\\envs\\lib\\site-packages\\sklearn\\discriminant_analysis.py:388: UserWarning: Variables are collinear.\n  warnings.warn(\"Variables are collinear.\")\n"
     ]
    },
    {
     "name": "stderr",
     "output_type": "stream",
     "text": [
      "C:\\Users\\motybz\\Anaconda3\\envs\\lib\\site-packages\\sklearn\\discriminant_analysis.py:388: UserWarning: Variables are collinear.\n  warnings.warn(\"Variables are collinear.\")\n"
     ]
    },
    {
     "name": "stderr",
     "output_type": "stream",
     "text": [
      "C:\\Users\\motybz\\Anaconda3\\envs\\lib\\site-packages\\sklearn\\discriminant_analysis.py:388: UserWarning: Variables are collinear.\n  warnings.warn(\"Variables are collinear.\")\n"
     ]
    },
    {
     "name": "stderr",
     "output_type": "stream",
     "text": [
      "C:\\Users\\motybz\\Anaconda3\\envs\\lib\\site-packages\\sklearn\\discriminant_analysis.py:388: UserWarning: Variables are collinear.\n  warnings.warn(\"Variables are collinear.\")\n"
     ]
    },
    {
     "name": "stderr",
     "output_type": "stream",
     "text": [
      "C:\\Users\\motybz\\Anaconda3\\envs\\lib\\site-packages\\sklearn\\discriminant_analysis.py:388: UserWarning: Variables are collinear.\n  warnings.warn(\"Variables are collinear.\")\n"
     ]
    },
    {
     "name": "stderr",
     "output_type": "stream",
     "text": [
      "C:\\Users\\motybz\\Anaconda3\\envs\\lib\\site-packages\\sklearn\\discriminant_analysis.py:388: UserWarning: Variables are collinear.\n  warnings.warn(\"Variables are collinear.\")\n"
     ]
    },
    {
     "name": "stderr",
     "output_type": "stream",
     "text": [
      "C:\\Users\\motybz\\Anaconda3\\envs\\lib\\site-packages\\sklearn\\discriminant_analysis.py:388: UserWarning: Variables are collinear.\n  warnings.warn(\"Variables are collinear.\")\n"
     ]
    },
    {
     "name": "stderr",
     "output_type": "stream",
     "text": [
      "C:\\Users\\motybz\\Anaconda3\\envs\\lib\\site-packages\\sklearn\\discriminant_analysis.py:388: UserWarning: Variables are collinear.\n  warnings.warn(\"Variables are collinear.\")\n"
     ]
    },
    {
     "name": "stderr",
     "output_type": "stream",
     "text": [
      "C:\\Users\\motybz\\Anaconda3\\envs\\lib\\site-packages\\sklearn\\discriminant_analysis.py:388: UserWarning: Variables are collinear.\n  warnings.warn(\"Variables are collinear.\")\n"
     ]
    },
    {
     "name": "stderr",
     "output_type": "stream",
     "text": [
      "C:\\Users\\motybz\\Anaconda3\\envs\\lib\\site-packages\\sklearn\\discriminant_analysis.py:388: UserWarning: Variables are collinear.\n  warnings.warn(\"Variables are collinear.\")\n"
     ]
    },
    {
     "data": {
      "image/png": "[encoded data removed]",
      "text/plain": [
       "<matplotlib.figure.Figure at 0x26e04687b00>"
      ]
     },
     "metadata": {},
     "output_type": "display_data"
    },
    {
     "data": {
      "text/markdown": [
       "The best model for the given data is: <span style=\"color:green\">LR</span> with the score <span style=\"color:green\">0.7033333333333334</span>"
      ],
      "text/plain": [
       "<IPython.core.display.Markdown object>"
      ]
     },
     "metadata": {},
     "output_type": "display_data"
    },
    {
     "name": "stdout",
     "output_type": "stream",
     "text": [
      "{'name': 'LR', 'score': 0.7033333333333334}\n{'name': 'LDA', 'score': 0.6488888888888888}\n{'name': 'KNN', 'score': 0.5811111111111111}\n{'name': 'CART', 'score': 0.5466666666666666}\n{'name': 'NB', 'score': 0.5333333333333334}\n{'name': 'SVM', 'score': 0.5411111111111111}\n"
     ]
    },
    {
     "data": {
      "text/markdown": [
       "**Training Section** for: 153725 features"
      ],
      "text/plain": [
       "<IPython.core.display.Markdown object>"
      ]
     },
     "metadata": {},
     "output_type": "display_data"
    },
    {
     "name": "stderr",
     "output_type": "stream",
     "text": [
      "C:\\Users\\motybz\\Anaconda3\\envs\\lib\\site-packages\\sklearn\\discriminant_analysis.py:388: UserWarning: Variables are collinear.\n  warnings.warn(\"Variables are collinear.\")\n"
     ]
    },
    {
     "name": "stderr",
     "output_type": "stream",
     "text": [
      "C:\\Users\\motybz\\Anaconda3\\envs\\lib\\site-packages\\sklearn\\discriminant_analysis.py:388: UserWarning: Variables are collinear.\n  warnings.warn(\"Variables are collinear.\")\n"
     ]
    },
    {
     "name": "stderr",
     "output_type": "stream",
     "text": [
      "C:\\Users\\motybz\\Anaconda3\\envs\\lib\\site-packages\\sklearn\\discriminant_analysis.py:388: UserWarning: Variables are collinear.\n  warnings.warn(\"Variables are collinear.\")\n"
     ]
    },
    {
     "name": "stderr",
     "output_type": "stream",
     "text": [
      "C:\\Users\\motybz\\Anaconda3\\envs\\lib\\site-packages\\sklearn\\discriminant_analysis.py:388: UserWarning: Variables are collinear.\n  warnings.warn(\"Variables are collinear.\")\n"
     ]
    },
    {
     "name": "stderr",
     "output_type": "stream",
     "text": [
      "C:\\Users\\motybz\\Anaconda3\\envs\\lib\\site-packages\\sklearn\\discriminant_analysis.py:388: UserWarning: Variables are collinear.\n  warnings.warn(\"Variables are collinear.\")\n"
     ]
    },
    {
     "name": "stderr",
     "output_type": "stream",
     "text": [
      "C:\\Users\\motybz\\Anaconda3\\envs\\lib\\site-packages\\sklearn\\discriminant_analysis.py:388: UserWarning: Variables are collinear.\n  warnings.warn(\"Variables are collinear.\")\n"
     ]
    },
    {
     "name": "stderr",
     "output_type": "stream",
     "text": [
      "C:\\Users\\motybz\\Anaconda3\\envs\\lib\\site-packages\\sklearn\\discriminant_analysis.py:388: UserWarning: Variables are collinear.\n  warnings.warn(\"Variables are collinear.\")\n"
     ]
    },
    {
     "name": "stderr",
     "output_type": "stream",
     "text": [
      "C:\\Users\\motybz\\Anaconda3\\envs\\lib\\site-packages\\sklearn\\discriminant_analysis.py:388: UserWarning: Variables are collinear.\n  warnings.warn(\"Variables are collinear.\")\n"
     ]
    },
    {
     "name": "stderr",
     "output_type": "stream",
     "text": [
      "C:\\Users\\motybz\\Anaconda3\\envs\\lib\\site-packages\\sklearn\\discriminant_analysis.py:388: UserWarning: Variables are collinear.\n  warnings.warn(\"Variables are collinear.\")\n"
     ]
    },
    {
     "name": "stderr",
     "output_type": "stream",
     "text": [
      "C:\\Users\\motybz\\Anaconda3\\envs\\lib\\site-packages\\sklearn\\discriminant_analysis.py:388: UserWarning: Variables are collinear.\n  warnings.warn(\"Variables are collinear.\")\n"
     ]
    },
    {
     "data": {
      "image/png": "[encoded data removed]",
      "text/plain": [
       "<matplotlib.figure.Figure at 0x26e01732518>"
      ]
     },
     "metadata": {},
     "output_type": "display_data"
    },
    {
     "data": {
      "text/markdown": [
       "The best model for the given data is: <span style=\"color:green\">LR</span> with the score <span style=\"color:green\">0.7033333333333334</span>"
      ],
      "text/plain": [
       "<IPython.core.display.Markdown object>"
      ]
     },
     "metadata": {},
     "output_type": "display_data"
    },
    {
     "name": "stdout",
     "output_type": "stream",
     "text": [
      "{'name': 'LR', 'score': 0.7033333333333334}\n{'name': 'LDA', 'score': 0.6599999999999999}\n{'name': 'KNN', 'score': 0.5922222222222222}\n{'name': 'CART', 'score': 0.6533333333333333}\n{'name': 'NB', 'score': 0.5344444444444444}\n{'name': 'SVM', 'score': 0.5411111111111111}\n"
     ]
    },
    {
     "data": {
      "text/markdown": [
       "**Training Section** for: 129439 features"
      ],
      "text/plain": [
       "<IPython.core.display.Markdown object>"
      ]
     },
     "metadata": {},
     "output_type": "display_data"
    },
    {
     "name": "stderr",
     "output_type": "stream",
     "text": [
      "C:\\Users\\motybz\\Anaconda3\\envs\\lib\\site-packages\\sklearn\\discriminant_analysis.py:388: UserWarning: Variables are collinear.\n  warnings.warn(\"Variables are collinear.\")\n"
     ]
    },
    {
     "name": "stderr",
     "output_type": "stream",
     "text": [
      "C:\\Users\\motybz\\Anaconda3\\envs\\lib\\site-packages\\sklearn\\discriminant_analysis.py:388: UserWarning: Variables are collinear.\n  warnings.warn(\"Variables are collinear.\")\n"
     ]
    },
    {
     "name": "stderr",
     "output_type": "stream",
     "text": [
      "C:\\Users\\motybz\\Anaconda3\\envs\\lib\\site-packages\\sklearn\\discriminant_analysis.py:388: UserWarning: Variables are collinear.\n  warnings.warn(\"Variables are collinear.\")\n"
     ]
    },
    {
     "name": "stderr",
     "output_type": "stream",
     "text": [
      "C:\\Users\\motybz\\Anaconda3\\envs\\lib\\site-packages\\sklearn\\discriminant_analysis.py:388: UserWarning: Variables are collinear.\n  warnings.warn(\"Variables are collinear.\")\n"
     ]
    },
    {
     "name": "stderr",
     "output_type": "stream",
     "text": [
      "C:\\Users\\motybz\\Anaconda3\\envs\\lib\\site-packages\\sklearn\\discriminant_analysis.py:388: UserWarning: Variables are collinear.\n  warnings.warn(\"Variables are collinear.\")\n"
     ]
    },
    {
     "name": "stderr",
     "output_type": "stream",
     "text": [
      "C:\\Users\\motybz\\Anaconda3\\envs\\lib\\site-packages\\sklearn\\discriminant_analysis.py:388: UserWarning: Variables are collinear.\n  warnings.warn(\"Variables are collinear.\")\n"
     ]
    },
    {
     "name": "stderr",
     "output_type": "stream",
     "text": [
      "C:\\Users\\motybz\\Anaconda3\\envs\\lib\\site-packages\\sklearn\\discriminant_analysis.py:388: UserWarning: Variables are collinear.\n  warnings.warn(\"Variables are collinear.\")\n"
     ]
    },
    {
     "name": "stderr",
     "output_type": "stream",
     "text": [
      "C:\\Users\\motybz\\Anaconda3\\envs\\lib\\site-packages\\sklearn\\discriminant_analysis.py:388: UserWarning: Variables are collinear.\n  warnings.warn(\"Variables are collinear.\")\n"
     ]
    },
    {
     "name": "stderr",
     "output_type": "stream",
     "text": [
      "C:\\Users\\motybz\\Anaconda3\\envs\\lib\\site-packages\\sklearn\\discriminant_analysis.py:388: UserWarning: Variables are collinear.\n  warnings.warn(\"Variables are collinear.\")\n"
     ]
    },
    {
     "name": "stderr",
     "output_type": "stream",
     "text": [
      "C:\\Users\\motybz\\Anaconda3\\envs\\lib\\site-packages\\sklearn\\discriminant_analysis.py:388: UserWarning: Variables are collinear.\n  warnings.warn(\"Variables are collinear.\")\n"
     ]
    },
    {
     "data": {
      "image/png": "[encoded data removed]",
      "text/plain": [
       "<matplotlib.figure.Figure at 0x26e018bd470>"
      ]
     },
     "metadata": {},
     "output_type": "display_data"
    },
    {
     "data": {
      "text/markdown": [
       "The best model for the given data is: <span style=\"color:green\">LR</span> with the score <span style=\"color:green\">0.7033333333333334</span>"
      ],
      "text/plain": [
       "<IPython.core.display.Markdown object>"
      ]
     },
     "metadata": {},
     "output_type": "display_data"
    },
    {
     "name": "stdout",
     "output_type": "stream",
     "text": [
      "{'name': 'LR', 'score': 0.7033333333333334}\n{'name': 'LDA', 'score': 0.6588888888888889}\n{'name': 'KNN', 'score': 0.5922222222222222}\n{'name': 'CART', 'score': 0.6622222222222222}\n{'name': 'NB', 'score': 0.5555555555555556}\n{'name': 'SVM', 'score': 0.5411111111111111}\n"
     ]
    },
    {
     "data": {
      "text/markdown": [
       "**Training Section** for: 108368 features"
      ],
      "text/plain": [
       "<IPython.core.display.Markdown object>"
      ]
     },
     "metadata": {},
     "output_type": "display_data"
    },
    {
     "name": "stderr",
     "output_type": "stream",
     "text": [
      "C:\\Users\\motybz\\Anaconda3\\envs\\lib\\site-packages\\sklearn\\discriminant_analysis.py:388: UserWarning: Variables are collinear.\n  warnings.warn(\"Variables are collinear.\")\n"
     ]
    },
    {
     "name": "stderr",
     "output_type": "stream",
     "text": [
      "C:\\Users\\motybz\\Anaconda3\\envs\\lib\\site-packages\\sklearn\\discriminant_analysis.py:388: UserWarning: Variables are collinear.\n  warnings.warn(\"Variables are collinear.\")\n"
     ]
    },
    {
     "name": "stderr",
     "output_type": "stream",
     "text": [
      "C:\\Users\\motybz\\Anaconda3\\envs\\lib\\site-packages\\sklearn\\discriminant_analysis.py:388: UserWarning: Variables are collinear.\n  warnings.warn(\"Variables are collinear.\")\n"
     ]
    },
    {
     "name": "stderr",
     "output_type": "stream",
     "text": [
      "C:\\Users\\motybz\\Anaconda3\\envs\\lib\\site-packages\\sklearn\\discriminant_analysis.py:388: UserWarning: Variables are collinear.\n  warnings.warn(\"Variables are collinear.\")\n"
     ]
    },
    {
     "name": "stderr",
     "output_type": "stream",
     "text": [
      "C:\\Users\\motybz\\Anaconda3\\envs\\lib\\site-packages\\sklearn\\discriminant_analysis.py:388: UserWarning: Variables are collinear.\n  warnings.warn(\"Variables are collinear.\")\n"
     ]
    },
    {
     "name": "stderr",
     "output_type": "stream",
     "text": [
      "C:\\Users\\motybz\\Anaconda3\\envs\\lib\\site-packages\\sklearn\\discriminant_analysis.py:388: UserWarning: Variables are collinear.\n  warnings.warn(\"Variables are collinear.\")\n"
     ]
    },
    {
     "name": "stderr",
     "output_type": "stream",
     "text": [
      "C:\\Users\\motybz\\Anaconda3\\envs\\lib\\site-packages\\sklearn\\discriminant_analysis.py:388: UserWarning: Variables are collinear.\n  warnings.warn(\"Variables are collinear.\")\n"
     ]
    },
    {
     "name": "stderr",
     "output_type": "stream",
     "text": [
      "C:\\Users\\motybz\\Anaconda3\\envs\\lib\\site-packages\\sklearn\\discriminant_analysis.py:388: UserWarning: Variables are collinear.\n  warnings.warn(\"Variables are collinear.\")\n"
     ]
    },
    {
     "name": "stderr",
     "output_type": "stream",
     "text": [
      "C:\\Users\\motybz\\Anaconda3\\envs\\lib\\site-packages\\sklearn\\discriminant_analysis.py:388: UserWarning: Variables are collinear.\n  warnings.warn(\"Variables are collinear.\")\n"
     ]
    },
    {
     "name": "stderr",
     "output_type": "stream",
     "text": [
      "C:\\Users\\motybz\\Anaconda3\\envs\\lib\\site-packages\\sklearn\\discriminant_analysis.py:388: UserWarning: Variables are collinear.\n  warnings.warn(\"Variables are collinear.\")\n"
     ]
    },
    {
     "data": {
      "image/png": "[encoded data removed]",
      "text/plain": [
       "<matplotlib.figure.Figure at 0x26e01935ef0>"
      ]
     },
     "metadata": {},
     "output_type": "display_data"
    },
    {
     "data": {
      "text/markdown": [
       "The best model for the given data is: <span style=\"color:green\">LR</span> with the score <span style=\"color:green\">0.7144444444444445</span>"
      ],
      "text/plain": [
       "<IPython.core.display.Markdown object>"
      ]
     },
     "metadata": {},
     "output_type": "display_data"
    },
    {
     "name": "stdout",
     "output_type": "stream",
     "text": [
      "{'name': 'LR', 'score': 0.7144444444444445}\n{'name': 'LDA', 'score': 0.6588888888888889}\n{'name': 'KNN', 'score': 0.5822222222222223}\n{'name': 'CART', 'score': 0.5433333333333333}\n{'name': 'NB', 'score': 0.5344444444444445}\n{'name': 'SVM', 'score': 0.5411111111111111}\n"
     ]
    },
    {
     "data": {
      "text/markdown": [
       "**Training Section** for: 90282 features"
      ],
      "text/plain": [
       "<IPython.core.display.Markdown object>"
      ]
     },
     "metadata": {},
     "output_type": "display_data"
    },
    {
     "name": "stderr",
     "output_type": "stream",
     "text": [
      "C:\\Users\\motybz\\Anaconda3\\envs\\lib\\site-packages\\sklearn\\discriminant_analysis.py:388: UserWarning: Variables are collinear.\n  warnings.warn(\"Variables are collinear.\")\n"
     ]
    },
    {
     "name": "stderr",
     "output_type": "stream",
     "text": [
      "C:\\Users\\motybz\\Anaconda3\\envs\\lib\\site-packages\\sklearn\\discriminant_analysis.py:388: UserWarning: Variables are collinear.\n  warnings.warn(\"Variables are collinear.\")\n"
     ]
    },
    {
     "name": "stderr",
     "output_type": "stream",
     "text": [
      "C:\\Users\\motybz\\Anaconda3\\envs\\lib\\site-packages\\sklearn\\discriminant_analysis.py:388: UserWarning: Variables are collinear.\n  warnings.warn(\"Variables are collinear.\")\n"
     ]
    },
    {
     "name": "stderr",
     "output_type": "stream",
     "text": [
      "C:\\Users\\motybz\\Anaconda3\\envs\\lib\\site-packages\\sklearn\\discriminant_analysis.py:388: UserWarning: Variables are collinear.\n  warnings.warn(\"Variables are collinear.\")\n"
     ]
    },
    {
     "name": "stderr",
     "output_type": "stream",
     "text": [
      "C:\\Users\\motybz\\Anaconda3\\envs\\lib\\site-packages\\sklearn\\discriminant_analysis.py:388: UserWarning: Variables are collinear.\n  warnings.warn(\"Variables are collinear.\")\n"
     ]
    },
    {
     "name": "stderr",
     "output_type": "stream",
     "text": [
      "C:\\Users\\motybz\\Anaconda3\\envs\\lib\\site-packages\\sklearn\\discriminant_analysis.py:388: UserWarning: Variables are collinear.\n  warnings.warn(\"Variables are collinear.\")\n"
     ]
    },
    {
     "name": "stderr",
     "output_type": "stream",
     "text": [
      "C:\\Users\\motybz\\Anaconda3\\envs\\lib\\site-packages\\sklearn\\discriminant_analysis.py:388: UserWarning: Variables are collinear.\n  warnings.warn(\"Variables are collinear.\")\n"
     ]
    }
   ],
   "source": [
    "#need to modify the test shape\n",
    "    printmd(\"**Testing Section:**\")\n",
    "    test_results = test_the_data(X_train,Y_train,X_test,Y_test,models)\n",
    "    best_ts = get_the_best(test_results)\n",
    "    for model in test_results:\n",
    "        print (model)\n"
   ]
  },
  {
   "cell_type": "code",
   "execution_count": 9,
   "metadata": {},
   "outputs": [],
   "source": [
    "    # #after we found the elbow\n",
    "    # new_shape = []\n",
    "    # range = np.arange(0.04, 0.17, 0.001)\n",
    "    # for VTHRESH in range:  \n",
    "    #     sel = fs.VarianceThreshold(VTHRESH)\n",
    "    #     x = sel.fit_transform(X_train)\n",
    "    #     new_shape.append(x.shape[-1])\n",
    "    # plt.plot(range, new_shape)"
   ]
  },
  {
   "cell_type": "code",
   "execution_count": null,
   "metadata": {},
   "outputs": [],
   "source": [
    ""
   ]
  },
  {
   "cell_type": "code",
   "execution_count": null,
   "metadata": {},
   "outputs": [],
   "source": []
  }
 ],
 "metadata": {
  "kernelspec": {
   "display_name": "Python 3",
   "language": "python",
   "name": "python3"
  },
  "language_info": {
   "codemirror_mode": {
    "name": "ipython",
    "version": 3
   },
   "file_extension": ".py",
   "mimetype": "text/x-python",
   "name": "python",
   "nbconvert_exporter": "python",
   "pygments_lexer": "ipython3",
   "version": "3.6.3"
  }
 },
 "nbformat": 4,
 "nbformat_minor": 2
}
