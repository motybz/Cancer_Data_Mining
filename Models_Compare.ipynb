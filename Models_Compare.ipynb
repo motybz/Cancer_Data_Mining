{
 "cells": [
  {
   "cell_type": "code",
   "execution_count": 1,
   "metadata": {},
   "outputs": [],
   "source": [
    "import os , csv ,multiprocessing , configparser\n",
    "from tools.import_data import *\n",
    "from pathlib import Path, PureWindowsPath\n",
    "from IPython.display import Markdown, display\n",
    "def printmd(string):\n",
    "    display(Markdown(string))"
   ]
  },
  {
   "cell_type": "code",
   "execution_count": 2,
   "metadata": {},
   "outputs": [],
   "source": [
    "from sklearn import model_selection\n",
    "from sklearn.metrics import classification_report\n",
    "from sklearn.metrics import confusion_matrix\n",
    "from sklearn.metrics import accuracy_score\n",
    "from sklearn.linear_model import LogisticRegression\n",
    "from sklearn.tree import DecisionTreeClassifier\n",
    "from sklearn.neighbors import KNeighborsClassifier\n",
    "from sklearn.discriminant_analysis import LinearDiscriminantAnalysis\n",
    "from sklearn.naive_bayes import GaussianNB\n",
    "from sklearn.svm import SVC\n",
    "from sklearn import feature_selection as fs\n",
    "from sklearn.preprocessing import LabelEncoder\n",
    "from sklearn.preprocessing import Imputer # for NaN values\n",
    "import pandas\n",
    "import matplotlib.pyplot as plt"
   ]
  },
  {
   "cell_type": "code",
   "execution_count": 3,
   "metadata": {},
   "outputs": [],
   "source": [
    "#Selecting Models\n",
    "models = []\n",
    "models.append(('LR', LogisticRegression()))\n",
    "models.append(('LDA', LinearDiscriminantAnalysis()))\n",
    "models.append(('KNN', KNeighborsClassifier()))\n",
    "models.append(('CART', DecisionTreeClassifier()))\n",
    "models.append(('NB', GaussianNB()))\n",
    "models.append(('SVM', SVC()))"
   ]
  },
  {
   "cell_type": "code",
   "execution_count": 4,
   "metadata": {},
   "outputs": [],
   "source": [
    "def train_the_data(X_train,Y_train,models):\n",
    "    # Spot Check Algorithms with cross validation\n",
    "    # evaluate each model in turn\n",
    "    scoring = 'accuracy'\n",
    "    scores = []\n",
    "    names = []\n",
    "    results = []\n",
    "    for name, model in models:\n",
    "        kfold = model_selection.KFold(n_splits=10)\n",
    "        cv_results = model_selection.cross_val_score(model, X_train, Y_train, cv=kfold, scoring=scoring)\n",
    "        scores.append(cv_results)\n",
    "        names.append(name)\n",
    "        results.append({\"name\":name,\"score\":cv_results.mean()})\n",
    "        # msg = \"%s: %f (%f)\" % (name, cv_results.mean(), cv_results.std())\n",
    "        # print(msg)\n",
    "    # Compare Algorithms\n",
    "    fig = plt.figure()\n",
    "    fig.suptitle('Algorithm Comparison')\n",
    "    ax = fig.add_subplot(111)\n",
    "    plt.boxplot(scores)\n",
    "    ax.set_xticklabels(names)\n",
    "    plt.show()\n",
    "    return results\n",
    "        \n",
    "def test_the_data(X_train,Y_train,X_test,Y_test,models):\n",
    "    # Make predictions on test dataset\n",
    "    results = []\n",
    "    for name, model in models:\n",
    "        model.fit(X_train, Y_train)\n",
    "        predictions = model.predict(X_test)\n",
    "        # print('Model ' , name)\n",
    "        # print('Accuracy: ', accuracy_score(Y_test, predictions))\n",
    "        results.append({\"name\":name,\"score\":accuracy_score(Y_test, predictions)})\n",
    "        #print(confusion_matrix(Y_validation, predictions))\n",
    "        # print(classification_report(Y_test, predictions))\n",
    "    return results \n",
    "    # \n",
    "    # encoder(predict_dataset)\n",
    "    # #print (predict_dataset)\n",
    "    # predict=predict_dataset.values[:,0:22]\n",
    "    # \n",
    "    # predictions = lr.predict(predict)\n",
    "    \n",
    "    # temp = pandas.DataFrame(predict)\n",
    "    # temp['class'] = predictions\n",
    "    # temp.to_csv('predict.csv')\n",
    "def get_the_best(results): # input - list of dict {\"name\":name,\"score\":score}\n",
    "    m = max([k[\"score\"] for k in results])\n",
    "    i = [k[\"score\"] for k in results].index(m)\n",
    "    name = results[i][\"name\"]\n",
    "    printmd('The best model for the given data is: <span style=\"color:green\">' + str(name).format() + '</span> with the score <span style=\"color:green\">' + str(m) + '</span>' )\n",
    "    # print ('The best model for the given train (' + X_train.shape +') is: ' + name + 'with the score ' +m )\n",
    "    return results[i] # the max model (dict type)"
   ]
  },
  {
   "cell_type": "code",
   "execution_count": 5,
   "metadata": {
    "collapsed": true
   },
   "outputs": [
    {
     "name": "stdout",
     "output_type": "stream",
     "text": [
      "Train data shape:  (776, 51)\nTrain labels shape:  (776,)\n"
     ]
    }
   ],
   "source": [
    "#consts\n",
    "FILE_PATH = os.path.dirname(os.path.abspath(\"__file__\"))\n",
    "CONFIG_FILE = '{}/config.ini'.format(FILE_PATH)\n",
    "config = configparser.ConfigParser()\n",
    "config.read(CONFIG_FILE)\n",
    "TRAIN_FILE = str(config['files']['train_set'])\n",
    "TEST_FILE = str(config['files']['test_set'])\n",
    "if __name__ == \"__main__\":\n",
    "    X_train, Y_train ,names_train = load_dataset(TRAIN_FILE)    \n",
    "    print ('Train data shape: ', X_train.shape)\n",
    "    print ('Train labels shape: ', Y_train.shape)\n",
    "    if TEST_FILE:\n",
    "        X_test, Y_test ,names_test = load_dataset(TEST_FILE)\n",
    "        print ('Test data shape: ', X_test.shape)\n",
    "        print ('Test labels shape: ', Y_test.shape)"
   ]
  },
  {
   "cell_type": "code",
   "execution_count": 6,
   "metadata": {
    "collapsed": true
   },
   "outputs": [],
   "source": [
    "    # Create our imputer to replace missing values with the mean e.g.\n",
    "    imp = Imputer(missing_values='NaN', strategy='mean', axis=0)\n",
    "    imp = imp.fit(X_train)\n",
    "    X_train_imp = imp.transform(X_train)"
   ]
  },
  {
   "cell_type": "code",
   "execution_count": 52,
   "metadata": {
    "collapsed": true
   },
   "outputs": [],
   "source": [
    "    #before we found the elbow\n",
    "    new_trains = []\n",
    "    new_shapes_ratio = []\n",
    "    new_range = []\n",
    "    range = np.arange(0, 1, 0.01)\n",
    "    for VTHRESH in reversed(range):  \n",
    "        sel = fs.VarianceThreshold(VTHRESH)\n",
    "        X_train_mod = sel.fit_transform(X_train_imp)\n",
    "        if len(new_shapes_ratio) >= 1:\n",
    "            if new_shapes_ratio[-1]!= X_train_mod.shape[-1]/X_train.shape[-1]:\n",
    "                new_range.append(VTHRESH)\n",
    "                new_trains.append(X_train_mod)\n",
    "                new_shapes_ratio.append(X_train_mod.shape[-1]/X_train.shape[-1])\n",
    "        else:\n",
    "            new_range.append(VTHRESH)\n",
    "            new_trains.append(X_train_mod)\n",
    "            new_shapes_ratio.append(X_train_mod.shape[-1]/X_train.shape[-1])\n",
    "        \n"
   ]
  },
  {
   "cell_type": "code",
   "execution_count": 53,
   "metadata": {
    "collapsed": true
   },
   "outputs": [
    {
     "data": {
      "text/markdown": [
       "**Training Section** for: 19 features"
      ],
      "text/plain": [
       "<IPython.core.display.Markdown object>"
      ]
     },
     "metadata": {},
     "output_type": "display_data"
    },
    {
     "data": {
      "image/png": "[encoded data removed]",
      "text/plain": [
       "<matplotlib.figure.Figure at 0x20327efa3c8>"
      ]
     },
     "metadata": {},
     "output_type": "display_data"
    },
    {
     "data": {
      "text/markdown": [
       "The best model for the given data is: <span style=\"color:green\">LDA</span> with the score <span style=\"color:green\">0.7660839160839161</span>"
      ],
      "text/plain": [
       "<IPython.core.display.Markdown object>"
      ]
     },
     "metadata": {},
     "output_type": "display_data"
    },
    {
     "name": "stdout",
     "output_type": "stream",
     "text": [
      "{'name': 'LR', 'score': 0.7478188478188479}\n{'name': 'LDA', 'score': 0.7660839160839161}\n{'name': 'KNN', 'score': 0.6947552447552447}\n{'name': 'CART', 'score': 0.6925407925407926}\n{'name': 'NB', 'score': 0.7279220779220779}\n{'name': 'SVM', 'score': 0.6779220779220779}\n"
     ]
    },
    {
     "data": {
      "text/markdown": [
       "**Training Section** for: 20 features"
      ],
      "text/plain": [
       "<IPython.core.display.Markdown object>"
      ]
     },
     "metadata": {},
     "output_type": "display_data"
    },
    {
     "data": {
      "image/png": "[encoded data removed]",
      "text/plain": [
       "<matplotlib.figure.Figure at 0x203294ac748>"
      ]
     },
     "metadata": {},
     "output_type": "display_data"
    },
    {
     "data": {
      "text/markdown": [
       "The best model for the given data is: <span style=\"color:green\">LDA</span> with the score <span style=\"color:green\">0.7660839160839161</span>"
      ],
      "text/plain": [
       "<IPython.core.display.Markdown object>"
      ]
     },
     "metadata": {},
     "output_type": "display_data"
    },
    {
     "name": "stdout",
     "output_type": "stream",
     "text": [
      "{'name': 'LR', 'score': 0.7452380952380953}\n{'name': 'LDA', 'score': 0.7660839160839161}\n{'name': 'KNN', 'score': 0.6934731934731935}\n{'name': 'CART', 'score': 0.7001831501831501}\n{'name': 'NB', 'score': 0.7395104895104894}\n{'name': 'SVM', 'score': 0.6779220779220779}\n"
     ]
    },
    {
     "data": {
      "text/markdown": [
       "**Training Section** for: 21 features"
      ],
      "text/plain": [
       "<IPython.core.display.Markdown object>"
      ]
     },
     "metadata": {},
     "output_type": "display_data"
    },
    {
     "data": {
      "image/png": "[encoded data removed]",
      "text/plain": [
       "<matplotlib.figure.Figure at 0x20327faf240>"
      ]
     },
     "metadata": {},
     "output_type": "display_data"
    },
    {
     "data": {
      "text/markdown": [
       "The best model for the given data is: <span style=\"color:green\">LDA</span> with the score <span style=\"color:green\">0.7841325341325341</span>"
      ],
      "text/plain": [
       "<IPython.core.display.Markdown object>"
      ]
     },
     "metadata": {},
     "output_type": "display_data"
    },
    {
     "name": "stdout",
     "output_type": "stream",
     "text": [
      "{'name': 'LR', 'score': 0.7711788211788212}\n{'name': 'LDA', 'score': 0.7841325341325341}\n{'name': 'KNN', 'score': 0.6947718947718948}\n{'name': 'CART', 'score': 0.6821678321678322}\n{'name': 'NB', 'score': 0.7600566100566102}\n{'name': 'SVM', 'score': 0.6779220779220779}\n"
     ]
    },
    {
     "data": {
      "text/markdown": [
       "**Training Section** for: 22 features"
      ],
      "text/plain": [
       "<IPython.core.display.Markdown object>"
      ]
     },
     "metadata": {},
     "output_type": "display_data"
    },
    {
     "data": {
      "image/png": "[encoded data removed]",
      "text/plain": [
       "<matplotlib.figure.Figure at 0x20326d506d8>"
      ]
     },
     "metadata": {},
     "output_type": "display_data"
    },
    {
     "data": {
      "text/markdown": [
       "The best model for the given data is: <span style=\"color:green\">LDA</span> with the score <span style=\"color:green\">0.8034798534798535</span>"
      ],
      "text/plain": [
       "<IPython.core.display.Markdown object>"
      ]
     },
     "metadata": {},
     "output_type": "display_data"
    },
    {
     "name": "stdout",
     "output_type": "stream",
     "text": [
      "{'name': 'LR', 'score': 0.7879953379953379}\n{'name': 'LDA', 'score': 0.8034798534798535}\n{'name': 'KNN', 'score': 0.6934731934731935}\n{'name': 'CART', 'score': 0.7185980685980685}\n{'name': 'NB', 'score': 0.7808025308025308}\n{'name': 'SVM', 'score': 0.6779220779220779}\n"
     ]
    },
    {
     "data": {
      "text/markdown": [
       "**Training Section** for: 23 features"
      ],
      "text/plain": [
       "<IPython.core.display.Markdown object>"
      ]
     },
     "metadata": {},
     "output_type": "display_data"
    },
    {
     "data": {
      "image/png": "[encoded data removed]",
      "text/plain": [
       "<matplotlib.figure.Figure at 0x20326d42c18>"
      ]
     },
     "metadata": {},
     "output_type": "display_data"
    },
    {
     "data": {
      "text/markdown": [
       "The best model for the given data is: <span style=\"color:green\">LDA</span> with the score <span style=\"color:green\">0.7983016983016984</span>"
      ],
      "text/plain": [
       "<IPython.core.display.Markdown object>"
      ]
     },
     "metadata": {},
     "output_type": "display_data"
    },
    {
     "name": "stdout",
     "output_type": "stream",
     "text": [
      "{'name': 'LR', 'score': 0.7931734931734931}\n{'name': 'LDA', 'score': 0.7983016983016984}\n{'name': 'KNN', 'score': 0.6934731934731935}\n{'name': 'CART', 'score': 0.7430735930735931}\n{'name': 'NB', 'score': 0.7808025308025308}\n{'name': 'SVM', 'score': 0.6779220779220779}\n"
     ]
    },
    {
     "data": {
      "text/markdown": [
       "**Training Section** for: 24 features"
      ],
      "text/plain": [
       "<IPython.core.display.Markdown object>"
      ]
     },
     "metadata": {},
     "output_type": "display_data"
    },
    {
     "data": {
      "image/png": "[encoded data removed]",
      "text/plain": [
       "<matplotlib.figure.Figure at 0x20326987198>"
      ]
     },
     "metadata": {},
     "output_type": "display_data"
    },
    {
     "data": {
      "text/markdown": [
       "The best model for the given data is: <span style=\"color:green\">LDA</span> with the score <span style=\"color:green\">0.7957375957375958</span>"
      ],
      "text/plain": [
       "<IPython.core.display.Markdown object>"
      ]
     },
     "metadata": {},
     "output_type": "display_data"
    },
    {
     "name": "stdout",
     "output_type": "stream",
     "text": [
      "{'name': 'LR', 'score': 0.7905760905760906}\n{'name': 'LDA', 'score': 0.7957375957375958}\n{'name': 'KNN', 'score': 0.6947718947718948}\n{'name': 'CART', 'score': 0.737928737928738}\n{'name': 'NB', 'score': 0.7820845820845822}\n{'name': 'SVM', 'score': 0.6779220779220779}\n"
     ]
    },
    {
     "data": {
      "text/markdown": [
       "**Training Section** for: 26 features"
      ],
      "text/plain": [
       "<IPython.core.display.Markdown object>"
      ]
     },
     "metadata": {},
     "output_type": "display_data"
    },
    {
     "data": {
      "image/png": "[encoded data removed]",
      "text/plain": [
       "<matplotlib.figure.Figure at 0x20326d8f320>"
      ]
     },
     "metadata": {},
     "output_type": "display_data"
    },
    {
     "data": {
      "text/markdown": [
       "The best model for the given data is: <span style=\"color:green\">LDA</span> with the score <span style=\"color:green\">0.8035131535131536</span>"
      ],
      "text/plain": [
       "<IPython.core.display.Markdown object>"
      ]
     },
     "metadata": {},
     "output_type": "display_data"
    },
    {
     "name": "stdout",
     "output_type": "stream",
     "text": [
      "{'name': 'LR', 'score': 0.7905927405927404}\n{'name': 'LDA', 'score': 0.8035131535131536}\n{'name': 'KNN', 'score': 0.6973692973692974}\n{'name': 'CART', 'score': 0.7366966366966368}\n{'name': 'NB', 'score': 0.7897269397269396}\n{'name': 'SVM', 'score': 0.6779220779220779}\n"
     ]
    },
    {
     "data": {
      "text/markdown": [
       "**Training Section** for: 27 features"
      ],
      "text/plain": [
       "<IPython.core.display.Markdown object>"
      ]
     },
     "metadata": {},
     "output_type": "display_data"
    },
    {
     "data": {
      "image/png": "[encoded data removed]",
      "text/plain": [
       "<matplotlib.figure.Figure at 0x203292ff4a8>"
      ]
     },
     "metadata": {},
     "output_type": "display_data"
    },
    {
     "data": {
      "text/markdown": [
       "The best model for the given data is: <span style=\"color:green\">LDA</span> with the score <span style=\"color:green\">0.8022311022311023</span>"
      ],
      "text/plain": [
       "<IPython.core.display.Markdown object>"
      ]
     },
     "metadata": {},
     "output_type": "display_data"
    },
    {
     "name": "stdout",
     "output_type": "stream",
     "text": [
      "{'name': 'LR', 'score': 0.7918914418914418}\n{'name': 'LDA', 'score': 0.8022311022311023}\n{'name': 'KNN', 'score': 0.6986513486513487}\n{'name': 'CART', 'score': 0.7353646353646353}\n{'name': 'NB', 'score': 0.791008991008991}\n{'name': 'SVM', 'score': 0.6779220779220779}\n"
     ]
    },
    {
     "data": {
      "text/markdown": [
       "**Training Section** for: 28 features"
      ],
      "text/plain": [
       "<IPython.core.display.Markdown object>"
      ]
     },
     "metadata": {},
     "output_type": "display_data"
    },
    {
     "data": {
      "image/png": "[encoded data removed]",
      "text/plain": [
       "<matplotlib.figure.Figure at 0x20326d726a0>"
      ]
     },
     "metadata": {},
     "output_type": "display_data"
    },
    {
     "data": {
      "text/markdown": [
       "The best model for the given data is: <span style=\"color:green\">LDA</span> with the score <span style=\"color:green\">0.8022977022977023</span>"
      ],
      "text/plain": [
       "<IPython.core.display.Markdown object>"
      ]
     },
     "metadata": {},
     "output_type": "display_data"
    },
    {
     "name": "stdout",
     "output_type": "stream",
     "text": [
      "{'name': 'LR', 'score': 0.7957875457875457}\n{'name': 'LDA', 'score': 0.8022977022977023}\n{'name': 'KNN', 'score': 0.6986513486513487}\n{'name': 'CART', 'score': 0.7328338328338329}\n{'name': 'NB', 'score': 0.7858141858141858}\n{'name': 'SVM', 'score': 0.6779220779220779}\n"
     ]
    },
    {
     "data": {
      "text/markdown": [
       "**Training Section** for: 29 features"
      ],
      "text/plain": [
       "<IPython.core.display.Markdown object>"
      ]
     },
     "metadata": {},
     "output_type": "display_data"
    },
    {
     "data": {
      "image/png": "[encoded data removed]",
      "text/plain": [
       "<matplotlib.figure.Figure at 0x203293725c0>"
      ]
     },
     "metadata": {},
     "output_type": "display_data"
    },
    {
     "data": {
      "text/markdown": [
       "The best model for the given data is: <span style=\"color:green\">LDA</span> with the score <span style=\"color:green\">0.7932400932400931</span>"
      ],
      "text/plain": [
       "<IPython.core.display.Markdown object>"
      ]
     },
     "metadata": {},
     "output_type": "display_data"
    },
    {
     "name": "stdout",
     "output_type": "stream",
     "text": [
      "{'name': 'LR', 'score': 0.7906260406260406}\n{'name': 'LDA', 'score': 0.7932400932400931}\n{'name': 'KNN', 'score': 0.6986180486180487}\n{'name': 'CART', 'score': 0.7378454878454879}\n{'name': 'NB', 'score': 0.791008991008991}\n{'name': 'SVM', 'score': 0.6779220779220779}\n"
     ]
    },
    {
     "data": {
      "text/markdown": [
       "**Training Section** for: 30 features"
      ],
      "text/plain": [
       "<IPython.core.display.Markdown object>"
      ]
     },
     "metadata": {},
     "output_type": "display_data"
    },
    {
     "data": {
      "image/png": "[encoded data removed]",
      "text/plain": [
       "<matplotlib.figure.Figure at 0x20329097e48>"
      ]
     },
     "metadata": {},
     "output_type": "display_data"
    },
    {
     "data": {
      "text/markdown": [
       "The best model for the given data is: <span style=\"color:green\">LDA</span> with the score <span style=\"color:green\">0.7958374958374959</span>"
      ],
      "text/plain": [
       "<IPython.core.display.Markdown object>"
      ]
     },
     "metadata": {},
     "output_type": "display_data"
    },
    {
     "name": "stdout",
     "output_type": "stream",
     "text": [
      "{'name': 'LR', 'score': 0.7919247419247418}\n{'name': 'LDA', 'score': 0.7958374958374959}\n{'name': 'KNN', 'score': 0.7011988011988012}\n{'name': 'CART', 'score': 0.7392107892107892}\n{'name': 'NB', 'score': 0.7897435897435898}\n{'name': 'SVM', 'score': 0.6779220779220779}\n"
     ]
    },
    {
     "data": {
      "text/markdown": [
       "**Training Section** for: 31 features"
      ],
      "text/plain": [
       "<IPython.core.display.Markdown object>"
      ]
     },
     "metadata": {},
     "output_type": "display_data"
    },
    {
     "data": {
      "image/png": "[encoded data removed]",
      "text/plain": [
       "<matplotlib.figure.Figure at 0x20328fccd68>"
      ]
     },
     "metadata": {},
     "output_type": "display_data"
    },
    {
     "data": {
      "text/markdown": [
       "The best model for the given data is: <span style=\"color:green\">LDA</span> with the score <span style=\"color:green\">0.7971028971028971</span>"
      ],
      "text/plain": [
       "<IPython.core.display.Markdown object>"
      ]
     },
     "metadata": {},
     "output_type": "display_data"
    },
    {
     "name": "stdout",
     "output_type": "stream",
     "text": [
      "{'name': 'LR', 'score': 0.7932067932067931}\n{'name': 'LDA', 'score': 0.7971028971028971}\n{'name': 'KNN', 'score': 0.7012154512154513}\n{'name': 'CART', 'score': 0.7173326673326673}\n{'name': 'NB', 'score': 0.7948551448551449}\n{'name': 'SVM', 'score': 0.6779220779220779}\n"
     ]
    },
    {
     "data": {
      "text/markdown": [
       "**Training Section** for: 32 features"
      ],
      "text/plain": [
       "<IPython.core.display.Markdown object>"
      ]
     },
     "metadata": {},
     "output_type": "display_data"
    },
    {
     "data": {
      "image/png": "[encoded data removed]",
      "text/plain": [
       "<matplotlib.figure.Figure at 0x20326c83048>"
      ]
     },
     "metadata": {},
     "output_type": "display_data"
    },
    {
     "data": {
      "text/markdown": [
       "The best model for the given data is: <span style=\"color:green\">LDA</span> with the score <span style=\"color:green\">0.7984182484182484</span>"
      ],
      "text/plain": [
       "<IPython.core.display.Markdown object>"
      ]
     },
     "metadata": {},
     "output_type": "display_data"
    },
    {
     "name": "stdout",
     "output_type": "stream",
     "text": [
      "{'name': 'LR', 'score': 0.7945054945054945}\n{'name': 'LDA', 'score': 0.7984182484182484}\n{'name': 'KNN', 'score': 0.7037795537795538}\n{'name': 'CART', 'score': 0.7185814185814186}\n{'name': 'NB', 'score': 0.7871295371295371}\n{'name': 'SVM', 'score': 0.6779220779220779}\n"
     ]
    },
    {
     "data": {
      "text/markdown": [
       "**Training Section** for: 33 features"
      ],
      "text/plain": [
       "<IPython.core.display.Markdown object>"
      ]
     },
     "metadata": {},
     "output_type": "display_data"
    },
    {
     "data": {
      "image/png": "[encoded data removed]",
      "text/plain": [
       "<matplotlib.figure.Figure at 0x2030f75b2b0>"
      ]
     },
     "metadata": {},
     "output_type": "display_data"
    },
    {
     "data": {
      "text/markdown": [
       "The best model for the given data is: <span style=\"color:green\">LDA</span> with the score <span style=\"color:green\">0.7984348984348985</span>"
      ],
      "text/plain": [
       "<IPython.core.display.Markdown object>"
      ]
     },
     "metadata": {},
     "output_type": "display_data"
    },
    {
     "name": "stdout",
     "output_type": "stream",
     "text": [
      "{'name': 'LR', 'score': 0.7958041958041957}\n{'name': 'LDA', 'score': 0.7984348984348985}\n{'name': 'KNN', 'score': 0.6999167499167499}\n{'name': 'CART', 'score': 0.7172494172494173}\n{'name': 'NB', 'score': 0.7871461871461871}\n{'name': 'SVM', 'score': 0.6779220779220779}\n"
     ]
    },
    {
     "data": {
      "text/markdown": [
       "**Training Section** for: 34 features"
      ],
      "text/plain": [
       "<IPython.core.display.Markdown object>"
      ]
     },
     "metadata": {},
     "output_type": "display_data"
    },
    {
     "data": {
      "image/png": "[encoded data removed]",
      "text/plain": [
       "<matplotlib.figure.Figure at 0x203236c6240>"
      ]
     },
     "metadata": {},
     "output_type": "display_data"
    },
    {
     "data": {
      "text/markdown": [
       "The best model for the given data is: <span style=\"color:green\">LDA</span> with the score <span style=\"color:green\">0.8022810522810522</span>"
      ],
      "text/plain": [
       "<IPython.core.display.Markdown object>"
      ]
     },
     "metadata": {},
     "output_type": "display_data"
    },
    {
     "name": "stdout",
     "output_type": "stream",
     "text": [
      "{'name': 'LR', 'score': 0.7919080919080919}\n{'name': 'LDA', 'score': 0.8022810522810522}\n{'name': 'KNN', 'score': 0.6973526473526473}\n{'name': 'CART', 'score': 0.6939227439227438}\n{'name': 'NB', 'score': 0.7923243423243422}\n{'name': 'SVM', 'score': 0.6779220779220779}\n"
     ]
    },
    {
     "data": {
      "text/markdown": [
       "**Training Section** for: 35 features"
      ],
      "text/plain": [
       "<IPython.core.display.Markdown object>"
      ]
     },
     "metadata": {},
     "output_type": "display_data"
    },
    {
     "data": {
      "image/png": "[encoded data removed]",
      "text/plain": [
       "<matplotlib.figure.Figure at 0x20327f11ef0>"
      ]
     },
     "metadata": {},
     "output_type": "display_data"
    },
    {
     "data": {
      "text/markdown": [
       "The best model for the given data is: <span style=\"color:green\">LDA</span> with the score <span style=\"color:green\">0.7971861471861471</span>"
      ],
      "text/plain": [
       "<IPython.core.display.Markdown object>"
      ]
     },
     "metadata": {},
     "output_type": "display_data"
    },
    {
     "name": "stdout",
     "output_type": "stream",
     "text": [
      "{'name': 'LR', 'score': 0.7932067932067931}\n{'name': 'LDA', 'score': 0.7971861471861471}\n{'name': 'KNN', 'score': 0.6973526473526473}\n{'name': 'CART', 'score': 0.7210789210789211}\n{'name': 'NB', 'score': 0.7923076923076923}\n{'name': 'SVM', 'score': 0.6779220779220779}\n"
     ]
    },
    {
     "data": {
      "text/markdown": [
       "**Training Section** for: 36 features"
      ],
      "text/plain": [
       "<IPython.core.display.Markdown object>"
      ]
     },
     "metadata": {},
     "output_type": "display_data"
    },
    {
     "data": {
      "image/png": "[encoded data removed]",
      "text/plain": [
       "<matplotlib.figure.Figure at 0x203292de4e0>"
      ]
     },
     "metadata": {},
     "output_type": "display_data"
    },
    {
     "data": {
      "text/markdown": [
       "The best model for the given data is: <span style=\"color:green\">LDA</span> with the score <span style=\"color:green\">0.7984848484848485</span>"
      ],
      "text/plain": [
       "<IPython.core.display.Markdown object>"
      ]
     },
     "metadata": {},
     "output_type": "display_data"
    },
    {
     "name": "stdout",
     "output_type": "stream",
     "text": [
      "{'name': 'LR', 'score': 0.7893273393273395}\n{'name': 'LDA', 'score': 0.7984848484848485}\n{'name': 'KNN', 'score': 0.6986346986346986}\n{'name': 'CART', 'score': 0.7107392607392609}\n{'name': 'NB', 'score': 0.7948717948717948}\n{'name': 'SVM', 'score': 0.6779220779220779}\n"
     ]
    },
    {
     "data": {
      "text/markdown": [
       "**Training Section** for: 37 features"
      ],
      "text/plain": [
       "<IPython.core.display.Markdown object>"
      ]
     },
     "metadata": {},
     "output_type": "display_data"
    },
    {
     "data": {
      "image/png": "[encoded data removed]",
      "text/plain": [
       "<matplotlib.figure.Figure at 0x20326d728d0>"
      ]
     },
     "metadata": {},
     "output_type": "display_data"
    },
    {
     "data": {
      "text/markdown": [
       "The best model for the given data is: <span style=\"color:green\">LDA</span> with the score <span style=\"color:green\">0.7946220446220446</span>"
      ],
      "text/plain": [
       "<IPython.core.display.Markdown object>"
      ]
     },
     "metadata": {},
     "output_type": "display_data"
    },
    {
     "name": "stdout",
     "output_type": "stream",
     "text": [
      "{'name': 'LR', 'score': 0.7880452880452882}\n{'name': 'LDA', 'score': 0.7946220446220446}\n{'name': 'KNN', 'score': 0.6986346986346986}\n{'name': 'CART', 'score': 0.7044289044289045}\n{'name': 'NB', 'score': 0.7935897435897435}\n{'name': 'SVM', 'score': 0.6779220779220779}\n"
     ]
    },
    {
     "data": {
      "text/markdown": [
       "**Training Section** for: 38 features"
      ],
      "text/plain": [
       "<IPython.core.display.Markdown object>"
      ]
     },
     "metadata": {},
     "output_type": "display_data"
    },
    {
     "data": {
      "image/png": "[encoded data removed]",
      "text/plain": [
       "<matplotlib.figure.Figure at 0x203294c18d0>"
      ]
     },
     "metadata": {},
     "output_type": "display_data"
    },
    {
     "data": {
      "text/markdown": [
       "The best model for the given data is: <span style=\"color:green\">LDA</span> with the score <span style=\"color:green\">0.7933233433233433</span>"
      ],
      "text/plain": [
       "<IPython.core.display.Markdown object>"
      ]
     },
     "metadata": {},
     "output_type": "display_data"
    },
    {
     "name": "stdout",
     "output_type": "stream",
     "text": [
      "{'name': 'LR', 'score': 0.7906093906093907}\n{'name': 'LDA', 'score': 0.7933233433233433}\n{'name': 'KNN', 'score': 0.6999167499167499}\n{'name': 'CART', 'score': 0.7004329004329004}\n{'name': 'NB', 'score': 0.7870962370962371}\n{'name': 'SVM', 'score': 0.6779220779220779}\n"
     ]
    },
    {
     "data": {
      "text/markdown": [
       "**Training Section** for: 39 features"
      ],
      "text/plain": [
       "<IPython.core.display.Markdown object>"
      ]
     },
     "metadata": {},
     "output_type": "display_data"
    },
    {
     "data": {
      "image/png": "[encoded data removed]",
      "text/plain": [
       "<matplotlib.figure.Figure at 0x2032945b5c0>"
      ]
     },
     "metadata": {},
     "output_type": "display_data"
    },
    {
     "data": {
      "text/markdown": [
       "The best model for the given data is: <span style=\"color:green\">LDA</span> with the score <span style=\"color:green\">0.7933233433233433</span>"
      ],
      "text/plain": [
       "<IPython.core.display.Markdown object>"
      ]
     },
     "metadata": {},
     "output_type": "display_data"
    },
    {
     "name": "stdout",
     "output_type": "stream",
     "text": [
      "{'name': 'LR', 'score': 0.7893273393273395}\n{'name': 'LDA', 'score': 0.7933233433233433}\n{'name': 'KNN', 'score': 0.6999167499167499}\n{'name': 'CART', 'score': 0.7082584082584082}\n{'name': 'NB', 'score': 0.7832667332667332}\n{'name': 'SVM', 'score': 0.6779220779220779}\n"
     ]
    },
    {
     "data": {
      "text/markdown": [
       "**Training Section** for: 40 features"
      ],
      "text/plain": [
       "<IPython.core.display.Markdown object>"
      ]
     },
     "metadata": {},
     "output_type": "display_data"
    },
    {
     "data": {
      "image/png": "[encoded data removed]",
      "text/plain": [
       "<matplotlib.figure.Figure at 0x203291e14a8>"
      ]
     },
     "metadata": {},
     "output_type": "display_data"
    },
    {
     "data": {
      "text/markdown": [
       "The best model for the given data is: <span style=\"color:green\">LDA</span> with the score <span style=\"color:green\">0.792041292041292</span>"
      ],
      "text/plain": [
       "<IPython.core.display.Markdown object>"
      ]
     },
     "metadata": {},
     "output_type": "display_data"
    },
    {
     "name": "stdout",
     "output_type": "stream",
     "text": [
      "{'name': 'LR', 'score': 0.7906093906093907}\n{'name': 'LDA', 'score': 0.792041292041292}\n{'name': 'KNN', 'score': 0.6999167499167499}\n{'name': 'CART', 'score': 0.7108225108225109}\n{'name': 'NB', 'score': 0.7729603729603729}\n{'name': 'SVM', 'score': 0.6779220779220779}\n"
     ]
    },
    {
     "data": {
      "text/markdown": [
       "**Training Section** for: 41 features"
      ],
      "text/plain": [
       "<IPython.core.display.Markdown object>"
      ]
     },
     "metadata": {},
     "output_type": "display_data"
    },
    {
     "data": {
      "image/png": "[encoded data removed]",
      "text/plain": [
       "<matplotlib.figure.Figure at 0x203291e3da0>"
      ]
     },
     "metadata": {},
     "output_type": "display_data"
    },
    {
     "data": {
      "text/markdown": [
       "The best model for the given data is: <span style=\"color:green\">LDA</span> with the score <span style=\"color:green\">0.792041292041292</span>"
      ],
      "text/plain": [
       "<IPython.core.display.Markdown object>"
      ]
     },
     "metadata": {},
     "output_type": "display_data"
    },
    {
     "name": "stdout",
     "output_type": "stream",
     "text": [
      "{'name': 'LR', 'score': 0.7905927405927407}\n{'name': 'LDA', 'score': 0.792041292041292}\n{'name': 'KNN', 'score': 0.6999167499167499}\n{'name': 'CART', 'score': 0.6978521478521478}\n{'name': 'NB', 'score': 0.7703796203796204}\n{'name': 'SVM', 'score': 0.6779220779220779}\n"
     ]
    },
    {
     "data": {
      "text/markdown": [
       "**Training Section** for: 43 features"
      ],
      "text/plain": [
       "<IPython.core.display.Markdown object>"
      ]
     },
     "metadata": {},
     "output_type": "display_data"
    },
    {
     "data": {
      "image/png": "[encoded data removed]",
      "text/plain": [
       "<matplotlib.figure.Figure at 0x2032690bf98>"
      ]
     },
     "metadata": {},
     "output_type": "display_data"
    },
    {
     "data": {
      "text/markdown": [
       "The best model for the given data is: <span style=\"color:green\">LDA</span> with the score <span style=\"color:green\">0.795920745920746</span>"
      ],
      "text/plain": [
       "<IPython.core.display.Markdown object>"
      ]
     },
     "metadata": {},
     "output_type": "display_data"
    },
    {
     "name": "stdout",
     "output_type": "stream",
     "text": [
      "{'name': 'LR', 'score': 0.7906093906093907}\n{'name': 'LDA', 'score': 0.795920745920746}\n{'name': 'KNN', 'score': 0.6999167499167499}\n{'name': 'CART', 'score': 0.6797868797868798}\n{'name': 'NB', 'score': 0.7781052281052281}\n{'name': 'SVM', 'score': 0.6779220779220779}\n"
     ]
    },
    {
     "data": {
      "text/markdown": [
       "**Training Section** for: 44 features"
      ],
      "text/plain": [
       "<IPython.core.display.Markdown object>"
      ]
     },
     "metadata": {},
     "output_type": "display_data"
    },
    {
     "data": {
      "image/png": "[encoded data removed]",
      "text/plain": [
       "<matplotlib.figure.Figure at 0x20326b06e48>"
      ]
     },
     "metadata": {},
     "output_type": "display_data"
    },
    {
     "data": {
      "text/markdown": [
       "The best model for the given data is: <span style=\"color:green\">LDA</span> with the score <span style=\"color:green\">0.7946053946053946</span>"
      ],
      "text/plain": [
       "<IPython.core.display.Markdown object>"
      ]
     },
     "metadata": {},
     "output_type": "display_data"
    },
    {
     "name": "stdout",
     "output_type": "stream",
     "text": [
      "{'name': 'LR', 'score': 0.7906093906093907}\n{'name': 'LDA', 'score': 0.7946053946053946}\n{'name': 'KNN', 'score': 0.6999167499167499}\n{'name': 'CART', 'score': 0.694055944055944}\n{'name': 'NB', 'score': 0.7884448884448885}\n{'name': 'SVM', 'score': 0.6779220779220779}\n"
     ]
    }
   ],
   "source": [
    "    best_tr_results = []\n",
    "    for X_train_mod in new_trains:\n",
    "        # train the new shape\n",
    "        printmd(\"**Training Section** for: \" + str(X_train_mod.shape[-1]) + \" features\")\n",
    "        train_resultes = train_the_data(X_train_mod,Y_train,models)\n",
    "        best_tr = get_the_best(train_resultes)\n",
    "        best_tr_results.append({\"name\":best_tr['name'],\"score\":best_tr['score'],\"num_fetures\":int(X_train_mod.shape[-1])})\n",
    "        for model in train_resultes:\n",
    "            print (model)"
   ]
  },
  {
   "cell_type": "code",
   "execution_count": 54,
   "metadata": {},
   "outputs": [
    {
     "name": "stdout",
     "output_type": "stream",
     "text": [
      "{'name': 'LDA', 'score': 0.7660839160839161, 'num_fetures': 19}\n{'name': 'LDA', 'score': 0.7660839160839161, 'num_fetures': 20}\n{'name': 'LDA', 'score': 0.7841325341325341, 'num_fetures': 21}\n{'name': 'LDA', 'score': 0.8034798534798535, 'num_fetures': 22}\n{'name': 'LDA', 'score': 0.7983016983016984, 'num_fetures': 23}\n{'name': 'LDA', 'score': 0.7957375957375958, 'num_fetures': 24}\n{'name': 'LDA', 'score': 0.8035131535131536, 'num_fetures': 26}\n{'name': 'LDA', 'score': 0.8022311022311023, 'num_fetures': 27}\n{'name': 'LDA', 'score': 0.8022977022977023, 'num_fetures': 28}\n{'name': 'LDA', 'score': 0.7932400932400931, 'num_fetures': 29}\n{'name': 'LDA', 'score': 0.7958374958374959, 'num_fetures': 30}\n{'name': 'LDA', 'score': 0.7971028971028971, 'num_fetures': 31}\n{'name': 'LDA', 'score': 0.7984182484182484, 'num_fetures': 32}\n{'name': 'LDA', 'score': 0.7984348984348985, 'num_fetures': 33}\n{'name': 'LDA', 'score': 0.8022810522810522, 'num_fetures': 34}\n{'name': 'LDA', 'score': 0.7971861471861471, 'num_fetures': 35}\n{'name': 'LDA', 'score': 0.7984848484848485, 'num_fetures': 36}\n{'name': 'LDA', 'score': 0.7946220446220446, 'num_fetures': 37}\n{'name': 'LDA', 'score': 0.7933233433233433, 'num_fetures': 38}\n{'name': 'LDA', 'score': 0.7933233433233433, 'num_fetures': 39}\n{'name': 'LDA', 'score': 0.792041292041292, 'num_fetures': 40}\n{'name': 'LDA', 'score': 0.792041292041292, 'num_fetures': 41}\n{'name': 'LDA', 'score': 0.795920745920746, 'num_fetures': 43}\n{'name': 'LDA', 'score': 0.7946053946053946, 'num_fetures': 44}\n"
     ]
    },
    {
     "data": {
      "text/plain": [
       "[<matplotlib.lines.Line2D at 0x20326b95710>,\n <matplotlib.lines.Line2D at 0x20326b958d0>]"
      ]
     },
     "execution_count": 54,
     "metadata": {},
     "output_type": "execute_result"
    },
    {
     "data": {
      "image/png": "[encoded data removed]",
      "text/plain": [
       "<matplotlib.figure.Figure at 0x20326bd24e0>"
      ]
     },
     "metadata": {},
     "output_type": "display_data"
    }
   ],
   "source": [
    "    for best in best_tr_results:\n",
    "        print(best)\n",
    "    plt.plot(new_range, np.column_stack((new_shapes_ratio, [rs['score'] for rs in best_tr_results])))"
   ]
  },
  {
   "cell_type": "code",
   "execution_count": null,
   "metadata": {},
   "outputs": [
    {
     "data": {
      "text/markdown": [
       "**Training Section** for: 418976 features"
      ],
      "text/plain": [
       "<IPython.core.display.Markdown object>"
      ]
     },
     "metadata": {},
     "output_type": "display_data"
    },
    {
     "name": "stderr",
     "output_type": "stream",
     "text": [
      "C:\\Users\\motybz\\Anaconda3\\envs\\lib\\site-packages\\sklearn\\discriminant_analysis.py:388: UserWarning: Variables are collinear.\n  warnings.warn(\"Variables are collinear.\")\n"
     ]
    },
    {
     "name": "stderr",
     "output_type": "stream",
     "text": [
      "C:\\Users\\motybz\\Anaconda3\\envs\\lib\\site-packages\\sklearn\\discriminant_analysis.py:388: UserWarning: Variables are collinear.\n  warnings.warn(\"Variables are collinear.\")\n"
     ]
    },
    {
     "name": "stderr",
     "output_type": "stream",
     "text": [
      "C:\\Users\\motybz\\Anaconda3\\envs\\lib\\site-packages\\sklearn\\discriminant_analysis.py:388: UserWarning: Variables are collinear.\n  warnings.warn(\"Variables are collinear.\")\n"
     ]
    },
    {
     "name": "stderr",
     "output_type": "stream",
     "text": [
      "C:\\Users\\motybz\\Anaconda3\\envs\\lib\\site-packages\\sklearn\\discriminant_analysis.py:388: UserWarning: Variables are collinear.\n  warnings.warn(\"Variables are collinear.\")\n"
     ]
    },
    {
     "name": "stderr",
     "output_type": "stream",
     "text": [
      "C:\\Users\\motybz\\Anaconda3\\envs\\lib\\site-packages\\sklearn\\discriminant_analysis.py:388: UserWarning: Variables are collinear.\n  warnings.warn(\"Variables are collinear.\")\n"
     ]
    },
    {
     "name": "stderr",
     "output_type": "stream",
     "text": [
      "C:\\Users\\motybz\\Anaconda3\\envs\\lib\\site-packages\\sklearn\\discriminant_analysis.py:388: UserWarning: Variables are collinear.\n  warnings.warn(\"Variables are collinear.\")\n"
     ]
    },
    {
     "name": "stderr",
     "output_type": "stream",
     "text": [
      "C:\\Users\\motybz\\Anaconda3\\envs\\lib\\site-packages\\sklearn\\discriminant_analysis.py:388: UserWarning: Variables are collinear.\n  warnings.warn(\"Variables are collinear.\")\n"
     ]
    },
    {
     "name": "stderr",
     "output_type": "stream",
     "text": [
      "C:\\Users\\motybz\\Anaconda3\\envs\\lib\\site-packages\\sklearn\\discriminant_analysis.py:388: UserWarning: Variables are collinear.\n  warnings.warn(\"Variables are collinear.\")\n"
     ]
    },
    {
     "name": "stderr",
     "output_type": "stream",
     "text": [
      "C:\\Users\\motybz\\Anaconda3\\envs\\lib\\site-packages\\sklearn\\discriminant_analysis.py:388: UserWarning: Variables are collinear.\n  warnings.warn(\"Variables are collinear.\")\n"
     ]
    },
    {
     "name": "stderr",
     "output_type": "stream",
     "text": [
      "C:\\Users\\motybz\\Anaconda3\\envs\\lib\\site-packages\\sklearn\\discriminant_analysis.py:388: UserWarning: Variables are collinear.\n  warnings.warn(\"Variables are collinear.\")\n"
     ]
    },
    {
     "data": {
      "image/png": "[encoded data removed]",
      "text/plain": [
       "<matplotlib.figure.Figure at 0x26e0470e128>"
      ]
     },
     "metadata": {},
     "output_type": "display_data"
    },
    {
     "data": {
      "text/markdown": [
       "The best model for the given data is: <span style=\"color:green\">LR</span> with the score <span style=\"color:green\">0.7144444444444444</span>"
      ],
      "text/plain": [
       "<IPython.core.display.Markdown object>"
      ]
     },
     "metadata": {},
     "output_type": "display_data"
    },
    {
     "name": "stdout",
     "output_type": "stream",
     "text": [
      "{'name': 'LR', 'score': 0.7144444444444444}\n{'name': 'LDA', 'score': 0.6266666666666667}\n{'name': 'KNN', 'score': 0.5822222222222223}\n{'name': 'CART', 'score': 0.62}\n{'name': 'NB', 'score': 0.6177777777777778}\n{'name': 'SVM', 'score': 0.5411111111111111}\n"
     ]
    },
    {
     "data": {
      "text/markdown": [
       "**Training Section** for: 300021 features"
      ],
      "text/plain": [
       "<IPython.core.display.Markdown object>"
      ]
     },
     "metadata": {},
     "output_type": "display_data"
    },
    {
     "name": "stderr",
     "output_type": "stream",
     "text": [
      "C:\\Users\\motybz\\Anaconda3\\envs\\lib\\site-packages\\sklearn\\discriminant_analysis.py:388: UserWarning: Variables are collinear.\n  warnings.warn(\"Variables are collinear.\")\n"
     ]
    },
    {
     "name": "stderr",
     "output_type": "stream",
     "text": [
      "C:\\Users\\motybz\\Anaconda3\\envs\\lib\\site-packages\\sklearn\\discriminant_analysis.py:388: UserWarning: Variables are collinear.\n  warnings.warn(\"Variables are collinear.\")\n"
     ]
    },
    {
     "name": "stderr",
     "output_type": "stream",
     "text": [
      "C:\\Users\\motybz\\Anaconda3\\envs\\lib\\site-packages\\sklearn\\discriminant_analysis.py:388: UserWarning: Variables are collinear.\n  warnings.warn(\"Variables are collinear.\")\n"
     ]
    },
    {
     "name": "stderr",
     "output_type": "stream",
     "text": [
      "C:\\Users\\motybz\\Anaconda3\\envs\\lib\\site-packages\\sklearn\\discriminant_analysis.py:388: UserWarning: Variables are collinear.\n  warnings.warn(\"Variables are collinear.\")\n"
     ]
    },
    {
     "name": "stderr",
     "output_type": "stream",
     "text": [
      "C:\\Users\\motybz\\Anaconda3\\envs\\lib\\site-packages\\sklearn\\discriminant_analysis.py:388: UserWarning: Variables are collinear.\n  warnings.warn(\"Variables are collinear.\")\n"
     ]
    },
    {
     "name": "stderr",
     "output_type": "stream",
     "text": [
      "C:\\Users\\motybz\\Anaconda3\\envs\\lib\\site-packages\\sklearn\\discriminant_analysis.py:388: UserWarning: Variables are collinear.\n  warnings.warn(\"Variables are collinear.\")\n"
     ]
    },
    {
     "name": "stderr",
     "output_type": "stream",
     "text": [
      "C:\\Users\\motybz\\Anaconda3\\envs\\lib\\site-packages\\sklearn\\discriminant_analysis.py:388: UserWarning: Variables are collinear.\n  warnings.warn(\"Variables are collinear.\")\n"
     ]
    },
    {
     "name": "stderr",
     "output_type": "stream",
     "text": [
      "C:\\Users\\motybz\\Anaconda3\\envs\\lib\\site-packages\\sklearn\\discriminant_analysis.py:388: UserWarning: Variables are collinear.\n  warnings.warn(\"Variables are collinear.\")\n"
     ]
    },
    {
     "name": "stderr",
     "output_type": "stream",
     "text": [
      "C:\\Users\\motybz\\Anaconda3\\envs\\lib\\site-packages\\sklearn\\discriminant_analysis.py:388: UserWarning: Variables are collinear.\n  warnings.warn(\"Variables are collinear.\")\n"
     ]
    },
    {
     "name": "stderr",
     "output_type": "stream",
     "text": [
      "C:\\Users\\motybz\\Anaconda3\\envs\\lib\\site-packages\\sklearn\\discriminant_analysis.py:388: UserWarning: Variables are collinear.\n  warnings.warn(\"Variables are collinear.\")\n"
     ]
    },
    {
     "data": {
      "image/png": "[encoded data removed]",
      "text/plain": [
       "<matplotlib.figure.Figure at 0x26e02f1f9e8>"
      ]
     },
     "metadata": {},
     "output_type": "display_data"
    },
    {
     "data": {
      "text/markdown": [
       "The best model for the given data is: <span style=\"color:green\">LR</span> with the score <span style=\"color:green\">0.6933333333333334</span>"
      ],
      "text/plain": [
       "<IPython.core.display.Markdown object>"
      ]
     },
     "metadata": {},
     "output_type": "display_data"
    },
    {
     "name": "stdout",
     "output_type": "stream",
     "text": [
      "{'name': 'LR', 'score': 0.6933333333333334}\n{'name': 'LDA', 'score': 0.6166666666666666}\n{'name': 'KNN', 'score': 0.5822222222222222}\n{'name': 'CART', 'score': 0.5977777777777777}\n{'name': 'NB', 'score': 0.6211111111111112}\n{'name': 'SVM', 'score': 0.5411111111111111}\n"
     ]
    },
    {
     "data": {
      "text/markdown": [
       "**Training Section** for: 249789 features"
      ],
      "text/plain": [
       "<IPython.core.display.Markdown object>"
      ]
     },
     "metadata": {},
     "output_type": "display_data"
    },
    {
     "name": "stderr",
     "output_type": "stream",
     "text": [
      "C:\\Users\\motybz\\Anaconda3\\envs\\lib\\site-packages\\sklearn\\discriminant_analysis.py:388: UserWarning: Variables are collinear.\n  warnings.warn(\"Variables are collinear.\")\n"
     ]
    },
    {
     "name": "stderr",
     "output_type": "stream",
     "text": [
      "C:\\Users\\motybz\\Anaconda3\\envs\\lib\\site-packages\\sklearn\\discriminant_analysis.py:388: UserWarning: Variables are collinear.\n  warnings.warn(\"Variables are collinear.\")\n"
     ]
    },
    {
     "name": "stderr",
     "output_type": "stream",
     "text": [
      "C:\\Users\\motybz\\Anaconda3\\envs\\lib\\site-packages\\sklearn\\discriminant_analysis.py:388: UserWarning: Variables are collinear.\n  warnings.warn(\"Variables are collinear.\")\n"
     ]
    },
    {
     "name": "stderr",
     "output_type": "stream",
     "text": [
      "C:\\Users\\motybz\\Anaconda3\\envs\\lib\\site-packages\\sklearn\\discriminant_analysis.py:388: UserWarning: Variables are collinear.\n  warnings.warn(\"Variables are collinear.\")\n"
     ]
    },
    {
     "name": "stderr",
     "output_type": "stream",
     "text": [
      "C:\\Users\\motybz\\Anaconda3\\envs\\lib\\site-packages\\sklearn\\discriminant_analysis.py:388: UserWarning: Variables are collinear.\n  warnings.warn(\"Variables are collinear.\")\n"
     ]
    },
    {
     "name": "stderr",
     "output_type": "stream",
     "text": [
      "C:\\Users\\motybz\\Anaconda3\\envs\\lib\\site-packages\\sklearn\\discriminant_analysis.py:388: UserWarning: Variables are collinear.\n  warnings.warn(\"Variables are collinear.\")\n"
     ]
    },
    {
     "name": "stderr",
     "output_type": "stream",
     "text": [
      "C:\\Users\\motybz\\Anaconda3\\envs\\lib\\site-packages\\sklearn\\discriminant_analysis.py:388: UserWarning: Variables are collinear.\n  warnings.warn(\"Variables are collinear.\")\n"
     ]
    },
    {
     "name": "stderr",
     "output_type": "stream",
     "text": [
      "C:\\Users\\motybz\\Anaconda3\\envs\\lib\\site-packages\\sklearn\\discriminant_analysis.py:388: UserWarning: Variables are collinear.\n  warnings.warn(\"Variables are collinear.\")\n"
     ]
    },
    {
     "name": "stderr",
     "output_type": "stream",
     "text": [
      "C:\\Users\\motybz\\Anaconda3\\envs\\lib\\site-packages\\sklearn\\discriminant_analysis.py:388: UserWarning: Variables are collinear.\n  warnings.warn(\"Variables are collinear.\")\n"
     ]
    },
    {
     "name": "stderr",
     "output_type": "stream",
     "text": [
      "C:\\Users\\motybz\\Anaconda3\\envs\\lib\\site-packages\\sklearn\\discriminant_analysis.py:388: UserWarning: Variables are collinear.\n  warnings.warn(\"Variables are collinear.\")\n"
     ]
    },
    {
     "data": {
      "image/png": "[encoded data removed]",
      "text/plain": [
       "<matplotlib.figure.Figure at 0x26e02f13e10>"
      ]
     },
     "metadata": {},
     "output_type": "display_data"
    },
    {
     "data": {
      "text/markdown": [
       "The best model for the given data is: <span style=\"color:green\">LR</span> with the score <span style=\"color:green\">0.6933333333333334</span>"
      ],
      "text/plain": [
       "<IPython.core.display.Markdown object>"
      ]
     },
     "metadata": {},
     "output_type": "display_data"
    },
    {
     "name": "stdout",
     "output_type": "stream",
     "text": [
      "{'name': 'LR', 'score': 0.6933333333333334}\n{'name': 'LDA', 'score': 0.6277777777777778}\n{'name': 'KNN', 'score': 0.5933333333333334}\n{'name': 'CART', 'score': 0.5211111111111111}\n{'name': 'NB', 'score': 0.598888888888889}\n{'name': 'SVM', 'score': 0.5411111111111111}\n"
     ]
    },
    {
     "data": {
      "text/markdown": [
       "**Training Section** for: 212518 features"
      ],
      "text/plain": [
       "<IPython.core.display.Markdown object>"
      ]
     },
     "metadata": {},
     "output_type": "display_data"
    },
    {
     "name": "stderr",
     "output_type": "stream",
     "text": [
      "C:\\Users\\motybz\\Anaconda3\\envs\\lib\\site-packages\\sklearn\\discriminant_analysis.py:388: UserWarning: Variables are collinear.\n  warnings.warn(\"Variables are collinear.\")\n"
     ]
    },
    {
     "name": "stderr",
     "output_type": "stream",
     "text": [
      "C:\\Users\\motybz\\Anaconda3\\envs\\lib\\site-packages\\sklearn\\discriminant_analysis.py:388: UserWarning: Variables are collinear.\n  warnings.warn(\"Variables are collinear.\")\n"
     ]
    },
    {
     "name": "stderr",
     "output_type": "stream",
     "text": [
      "C:\\Users\\motybz\\Anaconda3\\envs\\lib\\site-packages\\sklearn\\discriminant_analysis.py:388: UserWarning: Variables are collinear.\n  warnings.warn(\"Variables are collinear.\")\n"
     ]
    },
    {
     "name": "stderr",
     "output_type": "stream",
     "text": [
      "C:\\Users\\motybz\\Anaconda3\\envs\\lib\\site-packages\\sklearn\\discriminant_analysis.py:388: UserWarning: Variables are collinear.\n  warnings.warn(\"Variables are collinear.\")\n"
     ]
    },
    {
     "name": "stderr",
     "output_type": "stream",
     "text": [
      "C:\\Users\\motybz\\Anaconda3\\envs\\lib\\site-packages\\sklearn\\discriminant_analysis.py:388: UserWarning: Variables are collinear.\n  warnings.warn(\"Variables are collinear.\")\n"
     ]
    },
    {
     "name": "stderr",
     "output_type": "stream",
     "text": [
      "C:\\Users\\motybz\\Anaconda3\\envs\\lib\\site-packages\\sklearn\\discriminant_analysis.py:388: UserWarning: Variables are collinear.\n  warnings.warn(\"Variables are collinear.\")\n"
     ]
    },
    {
     "name": "stderr",
     "output_type": "stream",
     "text": [
      "C:\\Users\\motybz\\Anaconda3\\envs\\lib\\site-packages\\sklearn\\discriminant_analysis.py:388: UserWarning: Variables are collinear.\n  warnings.warn(\"Variables are collinear.\")\n"
     ]
    },
    {
     "name": "stderr",
     "output_type": "stream",
     "text": [
      "C:\\Users\\motybz\\Anaconda3\\envs\\lib\\site-packages\\sklearn\\discriminant_analysis.py:388: UserWarning: Variables are collinear.\n  warnings.warn(\"Variables are collinear.\")\n"
     ]
    },
    {
     "name": "stderr",
     "output_type": "stream",
     "text": [
      "C:\\Users\\motybz\\Anaconda3\\envs\\lib\\site-packages\\sklearn\\discriminant_analysis.py:388: UserWarning: Variables are collinear.\n  warnings.warn(\"Variables are collinear.\")\n"
     ]
    },
    {
     "name": "stderr",
     "output_type": "stream",
     "text": [
      "C:\\Users\\motybz\\Anaconda3\\envs\\lib\\site-packages\\sklearn\\discriminant_analysis.py:388: UserWarning: Variables are collinear.\n  warnings.warn(\"Variables are collinear.\")\n"
     ]
    },
    {
     "data": {
      "image/png": "[encoded data removed]",
      "text/plain": [
       "<matplotlib.figure.Figure at 0x26e017b6d30>"
      ]
     },
     "metadata": {},
     "output_type": "display_data"
    },
    {
     "data": {
      "text/markdown": [
       "The best model for the given data is: <span style=\"color:green\">LR</span> with the score <span style=\"color:green\">0.6922222222222223</span>"
      ],
      "text/plain": [
       "<IPython.core.display.Markdown object>"
      ]
     },
     "metadata": {},
     "output_type": "display_data"
    },
    {
     "name": "stdout",
     "output_type": "stream",
     "text": [
      "{'name': 'LR', 'score': 0.6922222222222223}\n{'name': 'LDA', 'score': 0.6488888888888888}\n{'name': 'KNN', 'score': 0.56}\n{'name': 'CART', 'score': 0.5544444444444444}\n{'name': 'NB', 'score': 0.5888888888888889}\n{'name': 'SVM', 'score': 0.5411111111111111}\n"
     ]
    },
    {
     "data": {
      "text/markdown": [
       "**Training Section** for: 181350 features"
      ],
      "text/plain": [
       "<IPython.core.display.Markdown object>"
      ]
     },
     "metadata": {},
     "output_type": "display_data"
    },
    {
     "name": "stderr",
     "output_type": "stream",
     "text": [
      "C:\\Users\\motybz\\Anaconda3\\envs\\lib\\site-packages\\sklearn\\discriminant_analysis.py:388: UserWarning: Variables are collinear.\n  warnings.warn(\"Variables are collinear.\")\n"
     ]
    },
    {
     "name": "stderr",
     "output_type": "stream",
     "text": [
      "C:\\Users\\motybz\\Anaconda3\\envs\\lib\\site-packages\\sklearn\\discriminant_analysis.py:388: UserWarning: Variables are collinear.\n  warnings.warn(\"Variables are collinear.\")\n"
     ]
    },
    {
     "name": "stderr",
     "output_type": "stream",
     "text": [
      "C:\\Users\\motybz\\Anaconda3\\envs\\lib\\site-packages\\sklearn\\discriminant_analysis.py:388: UserWarning: Variables are collinear.\n  warnings.warn(\"Variables are collinear.\")\n"
     ]
    },
    {
     "name": "stderr",
     "output_type": "stream",
     "text": [
      "C:\\Users\\motybz\\Anaconda3\\envs\\lib\\site-packages\\sklearn\\discriminant_analysis.py:388: UserWarning: Variables are collinear.\n  warnings.warn(\"Variables are collinear.\")\n"
     ]
    },
    {
     "name": "stderr",
     "output_type": "stream",
     "text": [
      "C:\\Users\\motybz\\Anaconda3\\envs\\lib\\site-packages\\sklearn\\discriminant_analysis.py:388: UserWarning: Variables are collinear.\n  warnings.warn(\"Variables are collinear.\")\n"
     ]
    },
    {
     "name": "stderr",
     "output_type": "stream",
     "text": [
      "C:\\Users\\motybz\\Anaconda3\\envs\\lib\\site-packages\\sklearn\\discriminant_analysis.py:388: UserWarning: Variables are collinear.\n  warnings.warn(\"Variables are collinear.\")\n"
     ]
    },
    {
     "name": "stderr",
     "output_type": "stream",
     "text": [
      "C:\\Users\\motybz\\Anaconda3\\envs\\lib\\site-packages\\sklearn\\discriminant_analysis.py:388: UserWarning: Variables are collinear.\n  warnings.warn(\"Variables are collinear.\")\n"
     ]
    },
    {
     "name": "stderr",
     "output_type": "stream",
     "text": [
      "C:\\Users\\motybz\\Anaconda3\\envs\\lib\\site-packages\\sklearn\\discriminant_analysis.py:388: UserWarning: Variables are collinear.\n  warnings.warn(\"Variables are collinear.\")\n"
     ]
    },
    {
     "name": "stderr",
     "output_type": "stream",
     "text": [
      "C:\\Users\\motybz\\Anaconda3\\envs\\lib\\site-packages\\sklearn\\discriminant_analysis.py:388: UserWarning: Variables are collinear.\n  warnings.warn(\"Variables are collinear.\")\n"
     ]
    },
    {
     "name": "stderr",
     "output_type": "stream",
     "text": [
      "C:\\Users\\motybz\\Anaconda3\\envs\\lib\\site-packages\\sklearn\\discriminant_analysis.py:388: UserWarning: Variables are collinear.\n  warnings.warn(\"Variables are collinear.\")\n"
     ]
    },
    {
     "data": {
      "image/png": "[encoded data removed]",
      "text/plain": [
       "<matplotlib.figure.Figure at 0x26e04687b00>"
      ]
     },
     "metadata": {},
     "output_type": "display_data"
    },
    {
     "data": {
      "text/markdown": [
       "The best model for the given data is: <span style=\"color:green\">LR</span> with the score <span style=\"color:green\">0.7033333333333334</span>"
      ],
      "text/plain": [
       "<IPython.core.display.Markdown object>"
      ]
     },
     "metadata": {},
     "output_type": "display_data"
    },
    {
     "name": "stdout",
     "output_type": "stream",
     "text": [
      "{'name': 'LR', 'score': 0.7033333333333334}\n{'name': 'LDA', 'score': 0.6488888888888888}\n{'name': 'KNN', 'score': 0.5811111111111111}\n{'name': 'CART', 'score': 0.5466666666666666}\n{'name': 'NB', 'score': 0.5333333333333334}\n{'name': 'SVM', 'score': 0.5411111111111111}\n"
     ]
    },
    {
     "data": {
      "text/markdown": [
       "**Training Section** for: 153725 features"
      ],
      "text/plain": [
       "<IPython.core.display.Markdown object>"
      ]
     },
     "metadata": {},
     "output_type": "display_data"
    },
    {
     "name": "stderr",
     "output_type": "stream",
     "text": [
      "C:\\Users\\motybz\\Anaconda3\\envs\\lib\\site-packages\\sklearn\\discriminant_analysis.py:388: UserWarning: Variables are collinear.\n  warnings.warn(\"Variables are collinear.\")\n"
     ]
    },
    {
     "name": "stderr",
     "output_type": "stream",
     "text": [
      "C:\\Users\\motybz\\Anaconda3\\envs\\lib\\site-packages\\sklearn\\discriminant_analysis.py:388: UserWarning: Variables are collinear.\n  warnings.warn(\"Variables are collinear.\")\n"
     ]
    },
    {
     "name": "stderr",
     "output_type": "stream",
     "text": [
      "C:\\Users\\motybz\\Anaconda3\\envs\\lib\\site-packages\\sklearn\\discriminant_analysis.py:388: UserWarning: Variables are collinear.\n  warnings.warn(\"Variables are collinear.\")\n"
     ]
    },
    {
     "name": "stderr",
     "output_type": "stream",
     "text": [
      "C:\\Users\\motybz\\Anaconda3\\envs\\lib\\site-packages\\sklearn\\discriminant_analysis.py:388: UserWarning: Variables are collinear.\n  warnings.warn(\"Variables are collinear.\")\n"
     ]
    },
    {
     "name": "stderr",
     "output_type": "stream",
     "text": [
      "C:\\Users\\motybz\\Anaconda3\\envs\\lib\\site-packages\\sklearn\\discriminant_analysis.py:388: UserWarning: Variables are collinear.\n  warnings.warn(\"Variables are collinear.\")\n"
     ]
    },
    {
     "name": "stderr",
     "output_type": "stream",
     "text": [
      "C:\\Users\\motybz\\Anaconda3\\envs\\lib\\site-packages\\sklearn\\discriminant_analysis.py:388: UserWarning: Variables are collinear.\n  warnings.warn(\"Variables are collinear.\")\n"
     ]
    },
    {
     "name": "stderr",
     "output_type": "stream",
     "text": [
      "C:\\Users\\motybz\\Anaconda3\\envs\\lib\\site-packages\\sklearn\\discriminant_analysis.py:388: UserWarning: Variables are collinear.\n  warnings.warn(\"Variables are collinear.\")\n"
     ]
    },
    {
     "name": "stderr",
     "output_type": "stream",
     "text": [
      "C:\\Users\\motybz\\Anaconda3\\envs\\lib\\site-packages\\sklearn\\discriminant_analysis.py:388: UserWarning: Variables are collinear.\n  warnings.warn(\"Variables are collinear.\")\n"
     ]
    },
    {
     "name": "stderr",
     "output_type": "stream",
     "text": [
      "C:\\Users\\motybz\\Anaconda3\\envs\\lib\\site-packages\\sklearn\\discriminant_analysis.py:388: UserWarning: Variables are collinear.\n  warnings.warn(\"Variables are collinear.\")\n"
     ]
    },
    {
     "name": "stderr",
     "output_type": "stream",
     "text": [
      "C:\\Users\\motybz\\Anaconda3\\envs\\lib\\site-packages\\sklearn\\discriminant_analysis.py:388: UserWarning: Variables are collinear.\n  warnings.warn(\"Variables are collinear.\")\n"
     ]
    },
    {
     "data": {
      "image/png": "[encoded data removed]",
      "text/plain": [
       "<matplotlib.figure.Figure at 0x26e01732518>"
      ]
     },
     "metadata": {},
     "output_type": "display_data"
    },
    {
     "data": {
      "text/markdown": [
       "The best model for the given data is: <span style=\"color:green\">LR</span> with the score <span style=\"color:green\">0.7033333333333334</span>"
      ],
      "text/plain": [
       "<IPython.core.display.Markdown object>"
      ]
     },
     "metadata": {},
     "output_type": "display_data"
    },
    {
     "name": "stdout",
     "output_type": "stream",
     "text": [
      "{'name': 'LR', 'score': 0.7033333333333334}\n{'name': 'LDA', 'score': 0.6599999999999999}\n{'name': 'KNN', 'score': 0.5922222222222222}\n{'name': 'CART', 'score': 0.6533333333333333}\n{'name': 'NB', 'score': 0.5344444444444444}\n{'name': 'SVM', 'score': 0.5411111111111111}\n"
     ]
    },
    {
     "data": {
      "text/markdown": [
       "**Training Section** for: 129439 features"
      ],
      "text/plain": [
       "<IPython.core.display.Markdown object>"
      ]
     },
     "metadata": {},
     "output_type": "display_data"
    },
    {
     "name": "stderr",
     "output_type": "stream",
     "text": [
      "C:\\Users\\motybz\\Anaconda3\\envs\\lib\\site-packages\\sklearn\\discriminant_analysis.py:388: UserWarning: Variables are collinear.\n  warnings.warn(\"Variables are collinear.\")\n"
     ]
    },
    {
     "name": "stderr",
     "output_type": "stream",
     "text": [
      "C:\\Users\\motybz\\Anaconda3\\envs\\lib\\site-packages\\sklearn\\discriminant_analysis.py:388: UserWarning: Variables are collinear.\n  warnings.warn(\"Variables are collinear.\")\n"
     ]
    },
    {
     "name": "stderr",
     "output_type": "stream",
     "text": [
      "C:\\Users\\motybz\\Anaconda3\\envs\\lib\\site-packages\\sklearn\\discriminant_analysis.py:388: UserWarning: Variables are collinear.\n  warnings.warn(\"Variables are collinear.\")\n"
     ]
    },
    {
     "name": "stderr",
     "output_type": "stream",
     "text": [
      "C:\\Users\\motybz\\Anaconda3\\envs\\lib\\site-packages\\sklearn\\discriminant_analysis.py:388: UserWarning: Variables are collinear.\n  warnings.warn(\"Variables are collinear.\")\n"
     ]
    },
    {
     "name": "stderr",
     "output_type": "stream",
     "text": [
      "C:\\Users\\motybz\\Anaconda3\\envs\\lib\\site-packages\\sklearn\\discriminant_analysis.py:388: UserWarning: Variables are collinear.\n  warnings.warn(\"Variables are collinear.\")\n"
     ]
    },
    {
     "name": "stderr",
     "output_type": "stream",
     "text": [
      "C:\\Users\\motybz\\Anaconda3\\envs\\lib\\site-packages\\sklearn\\discriminant_analysis.py:388: UserWarning: Variables are collinear.\n  warnings.warn(\"Variables are collinear.\")\n"
     ]
    },
    {
     "name": "stderr",
     "output_type": "stream",
     "text": [
      "C:\\Users\\motybz\\Anaconda3\\envs\\lib\\site-packages\\sklearn\\discriminant_analysis.py:388: UserWarning: Variables are collinear.\n  warnings.warn(\"Variables are collinear.\")\n"
     ]
    },
    {
     "name": "stderr",
     "output_type": "stream",
     "text": [
      "C:\\Users\\motybz\\Anaconda3\\envs\\lib\\site-packages\\sklearn\\discriminant_analysis.py:388: UserWarning: Variables are collinear.\n  warnings.warn(\"Variables are collinear.\")\n"
     ]
    },
    {
     "name": "stderr",
     "output_type": "stream",
     "text": [
      "C:\\Users\\motybz\\Anaconda3\\envs\\lib\\site-packages\\sklearn\\discriminant_analysis.py:388: UserWarning: Variables are collinear.\n  warnings.warn(\"Variables are collinear.\")\n"
     ]
    },
    {
     "name": "stderr",
     "output_type": "stream",
     "text": [
      "C:\\Users\\motybz\\Anaconda3\\envs\\lib\\site-packages\\sklearn\\discriminant_analysis.py:388: UserWarning: Variables are collinear.\n  warnings.warn(\"Variables are collinear.\")\n"
     ]
    },
    {
     "data": {
      "image/png": "[encoded data removed]",
      "text/plain": [
       "<matplotlib.figure.Figure at 0x26e018bd470>"
      ]
     },
     "metadata": {},
     "output_type": "display_data"
    },
    {
     "data": {
      "text/markdown": [
       "The best model for the given data is: <span style=\"color:green\">LR</span> with the score <span style=\"color:green\">0.7033333333333334</span>"
      ],
      "text/plain": [
       "<IPython.core.display.Markdown object>"
      ]
     },
     "metadata": {},
     "output_type": "display_data"
    },
    {
     "name": "stdout",
     "output_type": "stream",
     "text": [
      "{'name': 'LR', 'score': 0.7033333333333334}\n{'name': 'LDA', 'score': 0.6588888888888889}\n{'name': 'KNN', 'score': 0.5922222222222222}\n{'name': 'CART', 'score': 0.6622222222222222}\n{'name': 'NB', 'score': 0.5555555555555556}\n{'name': 'SVM', 'score': 0.5411111111111111}\n"
     ]
    },
    {
     "data": {
      "text/markdown": [
       "**Training Section** for: 108368 features"
      ],
      "text/plain": [
       "<IPython.core.display.Markdown object>"
      ]
     },
     "metadata": {},
     "output_type": "display_data"
    },
    {
     "name": "stderr",
     "output_type": "stream",
     "text": [
      "C:\\Users\\motybz\\Anaconda3\\envs\\lib\\site-packages\\sklearn\\discriminant_analysis.py:388: UserWarning: Variables are collinear.\n  warnings.warn(\"Variables are collinear.\")\n"
     ]
    },
    {
     "name": "stderr",
     "output_type": "stream",
     "text": [
      "C:\\Users\\motybz\\Anaconda3\\envs\\lib\\site-packages\\sklearn\\discriminant_analysis.py:388: UserWarning: Variables are collinear.\n  warnings.warn(\"Variables are collinear.\")\n"
     ]
    },
    {
     "name": "stderr",
     "output_type": "stream",
     "text": [
      "C:\\Users\\motybz\\Anaconda3\\envs\\lib\\site-packages\\sklearn\\discriminant_analysis.py:388: UserWarning: Variables are collinear.\n  warnings.warn(\"Variables are collinear.\")\n"
     ]
    },
    {
     "name": "stderr",
     "output_type": "stream",
     "text": [
      "C:\\Users\\motybz\\Anaconda3\\envs\\lib\\site-packages\\sklearn\\discriminant_analysis.py:388: UserWarning: Variables are collinear.\n  warnings.warn(\"Variables are collinear.\")\n"
     ]
    },
    {
     "name": "stderr",
     "output_type": "stream",
     "text": [
      "C:\\Users\\motybz\\Anaconda3\\envs\\lib\\site-packages\\sklearn\\discriminant_analysis.py:388: UserWarning: Variables are collinear.\n  warnings.warn(\"Variables are collinear.\")\n"
     ]
    },
    {
     "name": "stderr",
     "output_type": "stream",
     "text": [
      "C:\\Users\\motybz\\Anaconda3\\envs\\lib\\site-packages\\sklearn\\discriminant_analysis.py:388: UserWarning: Variables are collinear.\n  warnings.warn(\"Variables are collinear.\")\n"
     ]
    },
    {
     "name": "stderr",
     "output_type": "stream",
     "text": [
      "C:\\Users\\motybz\\Anaconda3\\envs\\lib\\site-packages\\sklearn\\discriminant_analysis.py:388: UserWarning: Variables are collinear.\n  warnings.warn(\"Variables are collinear.\")\n"
     ]
    },
    {
     "name": "stderr",
     "output_type": "stream",
     "text": [
      "C:\\Users\\motybz\\Anaconda3\\envs\\lib\\site-packages\\sklearn\\discriminant_analysis.py:388: UserWarning: Variables are collinear.\n  warnings.warn(\"Variables are collinear.\")\n"
     ]
    },
    {
     "name": "stderr",
     "output_type": "stream",
     "text": [
      "C:\\Users\\motybz\\Anaconda3\\envs\\lib\\site-packages\\sklearn\\discriminant_analysis.py:388: UserWarning: Variables are collinear.\n  warnings.warn(\"Variables are collinear.\")\n"
     ]
    },
    {
     "name": "stderr",
     "output_type": "stream",
     "text": [
      "C:\\Users\\motybz\\Anaconda3\\envs\\lib\\site-packages\\sklearn\\discriminant_analysis.py:388: UserWarning: Variables are collinear.\n  warnings.warn(\"Variables are collinear.\")\n"
     ]
    },
    {
     "data": {
      "image/png": "[encoded data removed]",
      "text/plain": [
       "<matplotlib.figure.Figure at 0x26e01935ef0>"
      ]
     },
     "metadata": {},
     "output_type": "display_data"
    },
    {
     "data": {
      "text/markdown": [
       "The best model for the given data is: <span style=\"color:green\">LR</span> with the score <span style=\"color:green\">0.7144444444444445</span>"
      ],
      "text/plain": [
       "<IPython.core.display.Markdown object>"
      ]
     },
     "metadata": {},
     "output_type": "display_data"
    },
    {
     "name": "stdout",
     "output_type": "stream",
     "text": [
      "{'name': 'LR', 'score': 0.7144444444444445}\n{'name': 'LDA', 'score': 0.6588888888888889}\n{'name': 'KNN', 'score': 0.5822222222222223}\n{'name': 'CART', 'score': 0.5433333333333333}\n{'name': 'NB', 'score': 0.5344444444444445}\n{'name': 'SVM', 'score': 0.5411111111111111}\n"
     ]
    },
    {
     "data": {
      "text/markdown": [
       "**Training Section** for: 90282 features"
      ],
      "text/plain": [
       "<IPython.core.display.Markdown object>"
      ]
     },
     "metadata": {},
     "output_type": "display_data"
    },
    {
     "name": "stderr",
     "output_type": "stream",
     "text": [
      "C:\\Users\\motybz\\Anaconda3\\envs\\lib\\site-packages\\sklearn\\discriminant_analysis.py:388: UserWarning: Variables are collinear.\n  warnings.warn(\"Variables are collinear.\")\n"
     ]
    },
    {
     "name": "stderr",
     "output_type": "stream",
     "text": [
      "C:\\Users\\motybz\\Anaconda3\\envs\\lib\\site-packages\\sklearn\\discriminant_analysis.py:388: UserWarning: Variables are collinear.\n  warnings.warn(\"Variables are collinear.\")\n"
     ]
    },
    {
     "name": "stderr",
     "output_type": "stream",
     "text": [
      "C:\\Users\\motybz\\Anaconda3\\envs\\lib\\site-packages\\sklearn\\discriminant_analysis.py:388: UserWarning: Variables are collinear.\n  warnings.warn(\"Variables are collinear.\")\n"
     ]
    },
    {
     "name": "stderr",
     "output_type": "stream",
     "text": [
      "C:\\Users\\motybz\\Anaconda3\\envs\\lib\\site-packages\\sklearn\\discriminant_analysis.py:388: UserWarning: Variables are collinear.\n  warnings.warn(\"Variables are collinear.\")\n"
     ]
    },
    {
     "name": "stderr",
     "output_type": "stream",
     "text": [
      "C:\\Users\\motybz\\Anaconda3\\envs\\lib\\site-packages\\sklearn\\discriminant_analysis.py:388: UserWarning: Variables are collinear.\n  warnings.warn(\"Variables are collinear.\")\n"
     ]
    },
    {
     "name": "stderr",
     "output_type": "stream",
     "text": [
      "C:\\Users\\motybz\\Anaconda3\\envs\\lib\\site-packages\\sklearn\\discriminant_analysis.py:388: UserWarning: Variables are collinear.\n  warnings.warn(\"Variables are collinear.\")\n"
     ]
    },
    {
     "name": "stderr",
     "output_type": "stream",
     "text": [
      "C:\\Users\\motybz\\Anaconda3\\envs\\lib\\site-packages\\sklearn\\discriminant_analysis.py:388: UserWarning: Variables are collinear.\n  warnings.warn(\"Variables are collinear.\")\n"
     ]
    }
   ],
   "source": [
    "#need to modify the test shape\n",
    "    printmd(\"**Testing Section:**\")\n",
    "    test_results = test_the_data(X_train,Y_train,X_test,Y_test,models)\n",
    "    best_ts = get_the_best(test_results)\n",
    "    for model in test_results:\n",
    "        print (model)\n"
   ]
  },
  {
   "cell_type": "code",
   "execution_count": 9,
   "metadata": {},
   "outputs": [],
   "source": [
    "    # #after we found the elbow\n",
    "    # new_shape = []\n",
    "    # range = np.arange(0.04, 0.17, 0.001)\n",
    "    # for VTHRESH in range:  \n",
    "    #     sel = fs.VarianceThreshold(VTHRESH)\n",
    "    #     x = sel.fit_transform(X_train)\n",
    "    #     new_shape.append(x.shape[-1])\n",
    "    # plt.plot(range, new_shape)"
   ]
  },
  {
   "cell_type": "code",
   "execution_count": null,
   "metadata": {},
   "outputs": [],
   "source": [
    ""
   ]
  },
  {
   "cell_type": "code",
   "execution_count": null,
   "metadata": {},
   "outputs": [],
   "source": []
  }
 ],
 "metadata": {
  "kernelspec": {
   "display_name": "Python 3",
   "language": "python",
   "name": "python3"
  },
  "language_info": {
   "codemirror_mode": {
    "name": "ipython",
    "version": 3
   },
   "file_extension": ".py",
   "mimetype": "text/x-python",
   "name": "python",
   "nbconvert_exporter": "python",
   "pygments_lexer": "ipython3",
   "version": "3.6.3"
  }
 },
 "nbformat": 4,
 "nbformat_minor": 2
}
