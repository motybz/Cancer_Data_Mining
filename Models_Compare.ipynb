{
 "cells": [
  {
   "cell_type": "code",
   "execution_count": 1,
   "metadata": {},
   "outputs": [],
   "source": [
    "import os , csv\n",
    "from tools.import_data import *"
   ]
  },
  {
   "cell_type": "code",
   "execution_count": 2,
   "metadata": {},
   "outputs": [],
   "source": [
    "from sklearn import model_selection\n",
    "from sklearn.metrics import classification_report\n",
    "from sklearn.metrics import confusion_matrix\n",
    "from sklearn.metrics import accuracy_score\n",
    "from sklearn.linear_model import LogisticRegression\n",
    "from sklearn.tree import DecisionTreeClassifier\n",
    "from sklearn.neighbors import KNeighborsClassifier\n",
    "from sklearn.discriminant_analysis import LinearDiscriminantAnalysis\n",
    "from sklearn.naive_bayes import GaussianNB\n",
    "from sklearn.svm import SVC\n",
    "from sklearn import feature_selection as fs\n",
    "from sklearn.preprocessing import LabelEncoder\n",
    "import pandas\n",
    "import matplotlib.pyplot as plt"
   ]
  },
  {
   "cell_type": "code",
   "execution_count": 3,
   "metadata": {},
   "outputs": [],
   "source": [
    "#Selecting Models\n",
    "models = []\n",
    "models.append(('LR', LogisticRegression()))\n",
    "models.append(('LDA', LinearDiscriminantAnalysis()))\n",
    "models.append(('KNN', KNeighborsClassifier()))\n",
    "models.append(('CART', DecisionTreeClassifier()))\n",
    "models.append(('NB', GaussianNB()))\n",
    "models.append(('SVM', SVC()))"
   ]
  },
  {
   "cell_type": "code",
   "execution_count": 4,
   "metadata": {},
   "outputs": [],
   "source": [
    "def train_the_data(X_train,Y_train,models):\n",
    "    # Spot Check Algorithms with cross validation\n",
    "    # evaluate each model in turn\n",
    "    scoring = 'accuracy'\n",
    "    scores = []\n",
    "    names = []\n",
    "    results = []\n",
    "    for name, model in models:\n",
    "        kfold = model_selection.KFold(n_splits=10)\n",
    "        cv_results = model_selection.cross_val_score(model, X_train, Y_train, cv=kfold, scoring=scoring)\n",
    "        scores.append(cv_results)\n",
    "        names.append(name)\n",
    "        results.append({\"name\":name,\"score\":cv_results.mean()})\n",
    "        msg = \"%s: %f (%f)\" % (name, cv_results.mean(), cv_results.std())\n",
    "        print(msg)\n",
    "    # Compare Algorithms\n",
    "    fig = plt.figure()\n",
    "    fig.suptitle('Algorithm Comparison')\n",
    "    ax = fig.add_subplot(111)\n",
    "    plt.boxplot(scores)\n",
    "    ax.set_xticklabels(names)\n",
    "    plt.show()\n",
    "    return \n",
    "    # arr = []\n",
    "    # for i in range(10):\n",
    "    #     arr.append({\"name\":i,\"num\":i*10})\n",
    "    # m = max([k[\"num\"] for k in arr])\n",
    "    # i = [k[\"num\"] for k in arr].index(m)\n",
    "    # name = arr[i][\"name\"]\n",
    "    # print (name , m)"
   ]
  },
  {
   "cell_type": "code",
   "execution_count": 5,
   "metadata": {},
   "outputs": [],
   "source": [
    "def test_the_data(X_train,Y_train,X_test,Y_test,models):\n",
    "    # Make predictions on test dataset\n",
    "    scoring = []\n",
    "    for name, model in models:\n",
    "        model.fit(X_train, Y_train)\n",
    "        predictions = model.predict(X_test)\n",
    "        print('Model ' , name)\n",
    "        print('Accuracy: ', accuracy_score(Y_test, predictions))\n",
    "        #print(confusion_matrix(Y_validation, predictions))\n",
    "        print(classification_report(Y_test, predictions))\n",
    "        return \n",
    "    # \n",
    "    # encoder(predict_dataset)\n",
    "    # #print (predict_dataset)\n",
    "    # predict=predict_dataset.values[:,0:22]\n",
    "    # \n",
    "    # predictions = lr.predict(predict)\n",
    "    \n",
    "    # temp = pandas.DataFrame(predict)\n",
    "    # temp['class'] = predictions\n",
    "    # temp.to_csv('predict.csv')"
   ]
  },
  {
   "cell_type": "code",
   "execution_count": 7,
   "metadata": {},
   "outputs": [
    {
     "name": "stdout",
     "output_type": "stream",
     "text": [
      "Train data shape:  (92, 418976)\nTrain labels shape:  (92,)\nTest data shape:  (88, 418976)\nTest labels shape:  (88,)\n"
     ]
    }
   ],
   "source": [
    "if __name__ == \"__main__\":\n",
    "    X_train, Y_train ,names_train = load_dataset(os.path.join('D:/motybz/Cancer_Data_Mining/trin-SD01/trin-SD01.csv'))\n",
    "    X_test, Y_test ,names_test = load_dataset(os.path.join('D:/motybz/Cancer_Data_Mining/trin-SD01/test-SD01.csv'))\n",
    "    print ('Train data shape: ', X_train.shape)\n",
    "    print ('Train labels shape: ', Y_train.shape)\n",
    "    print ('Test data shape: ', X_test.shape)\n",
    "    print ('Test labels shape: ', Y_test.shape)"
   ]
  },
  {
   "cell_type": "code",
   "execution_count": 8,
   "metadata": {},
   "outputs": [],
   "source": [
    "    # #before we found the elbow\n",
    "    # new_shape = []\n",
    "    # range = np.arange(0.0, 0.1, 0.001)\n",
    "    # for VTHRESH in range  :  \n",
    "    #     sel = fs.VarianceThreshold(VTHRESH)\n",
    "    #     x = sel.fit_transform(X_train)\n",
    "    #     new_shape.append(x.shape[-1])\n",
    "    # \n",
    "    # plt.plot(range, new_shape)\n"
   ]
  },
  {
   "cell_type": "code",
   "execution_count": 9,
   "metadata": {},
   "outputs": [],
   "source": [
    "    # #after we found the elbow\n",
    "    # new_shape = []\n",
    "    # range = np.arange(0.04, 0.17, 0.001)\n",
    "    # for VTHRESH in range:  \n",
    "    #     sel = fs.VarianceThreshold(VTHRESH)\n",
    "    #     x = sel.fit_transform(X_train)\n",
    "    #     new_shape.append(x.shape[-1])\n",
    "    # plt.plot(range, new_shape)"
   ]
  },
  {
   "cell_type": "code",
   "execution_count": 11,
   "metadata": {},
   "outputs": [
    {
     "name": "stdout",
     "output_type": "stream",
     "text": [
      "LR: 0.714444 (0.168512)\n"
     ]
    },
    {
     "name": "stderr",
     "output_type": "stream",
     "text": [
      "C:\\Users\\motybz\\Anaconda3\\envs\\lib\\site-packages\\sklearn\\discriminant_analysis.py:388: UserWarning: Variables are collinear.\n  warnings.warn(\"Variables are collinear.\")\n"
     ]
    },
    {
     "name": "stderr",
     "output_type": "stream",
     "text": [
      "C:\\Users\\motybz\\Anaconda3\\envs\\lib\\site-packages\\sklearn\\discriminant_analysis.py:388: UserWarning: Variables are collinear.\n  warnings.warn(\"Variables are collinear.\")\n"
     ]
    },
    {
     "name": "stderr",
     "output_type": "stream",
     "text": [
      "C:\\Users\\motybz\\Anaconda3\\envs\\lib\\site-packages\\sklearn\\discriminant_analysis.py:388: UserWarning: Variables are collinear.\n  warnings.warn(\"Variables are collinear.\")\n"
     ]
    },
    {
     "name": "stderr",
     "output_type": "stream",
     "text": [
      "C:\\Users\\motybz\\Anaconda3\\envs\\lib\\site-packages\\sklearn\\discriminant_analysis.py:388: UserWarning: Variables are collinear.\n  warnings.warn(\"Variables are collinear.\")\n"
     ]
    },
    {
     "name": "stderr",
     "output_type": "stream",
     "text": [
      "C:\\Users\\motybz\\Anaconda3\\envs\\lib\\site-packages\\sklearn\\discriminant_analysis.py:388: UserWarning: Variables are collinear.\n  warnings.warn(\"Variables are collinear.\")\n"
     ]
    },
    {
     "name": "stderr",
     "output_type": "stream",
     "text": [
      "C:\\Users\\motybz\\Anaconda3\\envs\\lib\\site-packages\\sklearn\\discriminant_analysis.py:388: UserWarning: Variables are collinear.\n  warnings.warn(\"Variables are collinear.\")\n"
     ]
    },
    {
     "name": "stderr",
     "output_type": "stream",
     "text": [
      "C:\\Users\\motybz\\Anaconda3\\envs\\lib\\site-packages\\sklearn\\discriminant_analysis.py:388: UserWarning: Variables are collinear.\n  warnings.warn(\"Variables are collinear.\")\n"
     ]
    },
    {
     "name": "stderr",
     "output_type": "stream",
     "text": [
      "C:\\Users\\motybz\\Anaconda3\\envs\\lib\\site-packages\\sklearn\\discriminant_analysis.py:388: UserWarning: Variables are collinear.\n  warnings.warn(\"Variables are collinear.\")\n"
     ]
    },
    {
     "name": "stderr",
     "output_type": "stream",
     "text": [
      "C:\\Users\\motybz\\Anaconda3\\envs\\lib\\site-packages\\sklearn\\discriminant_analysis.py:388: UserWarning: Variables are collinear.\n  warnings.warn(\"Variables are collinear.\")\n"
     ]
    },
    {
     "name": "stderr",
     "output_type": "stream",
     "text": [
      "C:\\Users\\motybz\\Anaconda3\\envs\\lib\\site-packages\\sklearn\\discriminant_analysis.py:388: UserWarning: Variables are collinear.\n  warnings.warn(\"Variables are collinear.\")\n"
     ]
    },
    {
     "name": "stdout",
     "output_type": "stream",
     "text": [
      "LDA: 0.626667 (0.137005)\n"
     ]
    },
    {
     "name": "stdout",
     "output_type": "stream",
     "text": [
      "KNN: 0.582222 (0.161414)\n"
     ]
    },
    {
     "name": "stdout",
     "output_type": "stream",
     "text": [
      "CART: 0.608889 (0.187564)\n"
     ]
    },
    {
     "name": "stdout",
     "output_type": "stream",
     "text": [
      "NB: 0.617778 (0.115812)\n"
     ]
    },
    {
     "name": "stdout",
     "output_type": "stream",
     "text": [
      "SVM: 0.541111 (0.143505)\n"
     ]
    },
    {
     "data": {
      "image/png": "[encoded data removed]",
      "text/plain": [
       "<matplotlib.figure.Figure at 0x20277e5f5f8>"
      ]
     },
     "metadata": {},
     "output_type": "display_data"
    }
   ],
   "source": [
    "    train_the_data(X_train,Y_train,models)"
   ]
  },
  {
   "cell_type": "code",
   "execution_count": 11,
   "metadata": {},
   "outputs": [
    {
     "name": "stdout",
     "output_type": "stream",
     "text": [
      "Model  LR\nAccuracy:  0.7840909090909091\n             precision    recall  f1-score   support\n\n        \"0\"       0.43      0.17      0.24        18\n        \"1\"       0.81      0.94      0.87        70\n\navg / total       0.74      0.78      0.74        88\n\n"
     ]
    },
    {
     "name": "stderr",
     "output_type": "stream",
     "text": [
      "C:\\Users\\motybz\\Anaconda3\\envs\\lib\\site-packages\\sklearn\\discriminant_analysis.py:388: UserWarning: Variables are collinear.\n  warnings.warn(\"Variables are collinear.\")\n"
     ]
    },
    {
     "name": "stdout",
     "output_type": "stream",
     "text": [
      "Model  LDA\nAccuracy:  0.26136363636363635\n             precision    recall  f1-score   support\n\n        \"0\"       0.21      0.94      0.34        18\n        \"1\"       0.86      0.09      0.16        70\n\navg / total       0.72      0.26      0.19        88\n\n"
     ]
    },
    {
     "name": "stdout",
     "output_type": "stream",
     "text": [
      "Model  KNN\nAccuracy:  0.5454545454545454\n             precision    recall  f1-score   support\n\n        \"0\"       0.19      0.39      0.26        18\n        \"1\"       0.79      0.59      0.67        70\n\navg / total       0.67      0.55      0.59        88\n\n"
     ]
    },
    {
     "name": "stdout",
     "output_type": "stream",
     "text": [
      "Model  CART\nAccuracy:  0.36363636363636365\n             precision    recall  f1-score   support\n\n        \"0\"       0.20      0.72      0.32        18\n        \"1\"       0.79      0.27      0.40        70\n\navg / total       0.67      0.36      0.39        88\n\n"
     ]
    },
    {
     "name": "stdout",
     "output_type": "stream",
     "text": [
      "Model  NB\nAccuracy:  0.3068181818181818\n             precision    recall  f1-score   support\n\n        \"0\"       0.21      0.89      0.34        18\n        \"1\"       0.85      0.16      0.27        70\n\navg / total       0.72      0.31      0.28        88\n\n"
     ]
    },
    {
     "name": "stdout",
     "output_type": "stream",
     "text": [
      "Model  SVM\nAccuracy:  0.20454545454545456\n             precision    recall  f1-score   support\n\n        \"0\"       0.20      1.00      0.34        18\n        \"1\"       0.00      0.00      0.00        70\n\navg / total       0.04      0.20      0.07        88\n\n"
     ]
    },
    {
     "name": "stderr",
     "output_type": "stream",
     "text": [
      "C:\\Users\\motybz\\Anaconda3\\envs\\lib\\site-packages\\sklearn\\metrics\\classification.py:1135: UndefinedMetricWarning: Precision and F-score are ill-defined and being set to 0.0 in labels with no predicted samples.\n  'precision', 'predicted', average, warn_for)\n"
     ]
    }
   ],
   "source": [
    "    test_the_data(X_train,Y_train,X_test,Y_test,models)"
   ]
  },
  {
   "cell_type": "code",
   "execution_count": null,
   "metadata": {},
   "outputs": [],
   "source": []
  }
 ],
 "metadata": {
  "kernelspec": {
   "display_name": "Python 3",
   "language": "python",
   "name": "python3"
  },
  "language_info": {
   "codemirror_mode": {
    "name": "ipython",
    "version": 3
   },
   "file_extension": ".py",
   "mimetype": "text/x-python",
   "name": "python",
   "nbconvert_exporter": "python",
   "pygments_lexer": "ipython3",
   "version": "3.6.3"
  }
 },
 "nbformat": 4,
 "nbformat_minor": 2
}
